{
 "cells": [
  {
   "cell_type": "markdown",
   "id": "0f16cf0d",
   "metadata": {},
   "source": [
    "# <div style=\"display:fill;border-radius:5px;background-color:#676F9F;letter-spacing:0.5px;overflow:hidden\"><p style=\"padding:20px;color:#F1EFF5;overflow:hidden;margin:0;font-size:150%;font-style: Helvetica;text-align:center\"><b></b>WHAT IF DOCTOR🧑‍⚕️ PREPARES AN AI MODEL??🤔</p></div>"
   ]
  },
  {
   "cell_type": "markdown",
   "id": "36b60ee2",
   "metadata": {},
   "source": [
    "Before diving into the notebook, I would like to introduce myself. I am a doctor graduated in the year 2020. As we all know, nobody would like to remember this year in the ever future because the world has witnessed an invisible life threatening zombie, so called 'SARS-COVID-19'. This bug has let my faith in science to decrease because when patients are feeling breathless,I have no any other so called 'scientific drugs'(products of biochemical science) to prescribe apart from oxygen.\n",
    "\n",
    "We the young doctors, freshly graduated had come across situations which most of the doctors hate to do i.e,'Declaring death of the patient'. Not even started the carrier, I had declared deaths of many  patient😔. Initial days of pandemic were tough but later on, we acclimatized.\n",
    "\n",
    "During the days of my quarantine after COVID duties, I used to live with my siblings who are computer scientists. This is when, I came across AI, during conversations we had about our working areas. I became interested so much so that I wanted to badly know the principles of AI. After this, I took online courses on programming language, data science, machine learning courses to get an intuition about AI.\n",
    "\n",
    "I try my level best to get and give contributions to the field of healthcare by applying priciples of AI (ofcourse,can't overdrive the medical scientific facts).\n",
    "\n",
    "At this point of time, I have an intuition of how AI works. As per my understanding, I think we all have the best engines in the form of mathematical models( LR,SVM,XGB,ANN...etc) but we are trying to drive the car by adding adultered fuel(i.e, problem related to data). So,my area of focus is all in data related issues and I would like to contribute/opine on these issues. "
   ]
  },
  {
   "cell_type": "markdown",
   "id": "005cd106",
   "metadata": {},
   "source": [
    "# <div style=\"display:fill;border-radius:5px;background-color:#676F9F;letter-spacing:0.5px;overflow:hidden\"><p style=\"padding:20px;color:#F1EFF5;overflow:hidden;margin:0;font-size:110%;text-align:center\"><b></b> CLASSIFICATION OF JAUNDICE PROJECT </p></div>"
   ]
  },
  {
   "cell_type": "markdown",
   "id": "3216556b",
   "metadata": {},
   "source": [
    "## <font color='#4287f5'>Before we start, lets know about the disease which we are working in😇... </font>"
   ]
  },
  {
   "cell_type": "markdown",
   "id": "673fb5ec",
   "metadata": {},
   "source": [
    "Jaundice is defined as yellowish pigmentation of skin, mucous membrane and sclera by bilirubin, resulting from elevated levels of bilirubin in the blood. Scleral pigmentation is due to the richness of this tissue in elastin that has a special\n",
    "affinity for bilirubin."
   ]
  },
  {
   "cell_type": "markdown",
   "id": "4913b8ad",
   "metadata": {},
   "source": [
    " Clinical jaundice occurs when serum bilirubin is more than 2.5 mg/dL (normal is 0.3-1.0 mg/dL)."
   ]
  },
  {
   "cell_type": "markdown",
   "id": "28f14c1d",
   "metadata": {},
   "source": [
    "In most of the tertiary healthcare centers in the developing countries like India, there will be no Gastro-enterologist or hepato-biliary clinician per se. General Physicians will treat such cases if not falls under surgical category. Most of the times, the cause of jaundice will be judged as 'Alcoholic Liver Disease' and most of the times, it will be true. But sometimes, Physicians miss the correct diagnosis and it happened for me as well. In a tertiary hospital with moderate infrastructural set up (which I'm working in), we usually do not bother the true cause of jaundice (due to higher case loads)once if we come to know the person has high bilirubin. That's the main objective of the current project. Our AI model should exactly classify the jaundice to which it falls. Lets not waste our time and lets dive in...."
   ]
  },
  {
   "cell_type": "markdown",
   "id": "2577d3b6",
   "metadata": {},
   "source": [
    "Before proceeding to know jaundice, lets learn a bit of how bilirubin is formed and what happens to bilirubin after its production..."
   ]
  },
  {
   "cell_type": "markdown",
   "id": "744f2c2d",
   "metadata": {},
   "source": [
    "* Blood consists of mainly three types of cells namely RBC's(Red Blood Cells), WBC's(White Blood Cells) and platelets. RBC's contain hemoglobin which helps in carrying oxygen to each part of our body. WBC's are like 'Policemen' and help to keep our body in nil infectious state. Platelets help in clotting of blood whenever there is breach in the integrity of blood vessels and hence prevent excessive bleeding.\n",
    "* Approximate life span of RBC is 120 days and after that it is destroyed  in 'tissue-macrophage system' (previously called 'reticulo-endothelial system'). \n",
    "* The fate of haemoglobin after its destruction is shown in the diagram below..."
   ]
  },
  {
   "cell_type": "markdown",
   "id": "8f547087",
   "metadata": {},
   "source": [
    "<!DOCTYPE html>\n",
    "<html>\n",
    "<body>\n",
    "\n",
    "<h2 style= \"text-align:center;color:#4A5154;font-size:120%;\"><u> How Bilirubin is formed?  </u></h2>\n",
    "<img src=\"Bilirubin_formation.png\" alt=\"m\" width=\"400\" height=\"133\">\n",
    "\n",
    "</body>\n",
    "</html>"
   ]
  },
  {
   "cell_type": "markdown",
   "id": "f61fc5b8",
   "metadata": {},
   "source": [
    "### What happens after the bilirubin formation? What's the fate of bilirubin?"
   ]
  },
  {
   "cell_type": "markdown",
   "id": "debad723",
   "metadata": {},
   "source": [
    "The answer for the above question is shown in the diagram below..."
   ]
  },
  {
   "cell_type": "markdown",
   "id": "320b67a7",
   "metadata": {},
   "source": [
    "<!DOCTYPE html>\n",
    "<html>\n",
    "<body>\n",
    "\n",
    "<h2 style= \"text-align:center;color:#4A5154;font-size:120%;\"><u> FATE OF BILIRUBIN  </u></h2>\n",
    "<img src=\"fate_of_bilirubin.png\" alt=\"m\" width=\"800\" height=\"333\">\n",
    "\n",
    "</body>\n",
    "</html>"
   ]
  },
  {
   "cell_type": "markdown",
   "id": "b0808eff",
   "metadata": {},
   "source": [
    "The above diagram can be explained in the following steps below..."
   ]
  },
  {
   "cell_type": "markdown",
   "id": "2428ca9b",
   "metadata": {},
   "source": [
    "<u><strong>1. Uptake:</strong></u>\n",
    "\n",
    "Bilirubin formed by the destruction of RBCs is free or unconjugated bilirubin. It is lipid soluble and bound to \n",
    "albumin in plasma (protein conjugation), which prevents its excretion by the kidneys in urine. \n",
    "\n",
    "<u><strong>2. Conjugation:</strong></u>\n",
    "\n",
    "On reaching the liver, free (unconjugated) bilirubin is split from albumin and enters the hepatic cells. In the hepatic \n",
    "cells it undergoes conjugation with 'uridine diphosphate glucuronic acid' (UDPGA) in a reaction catalyzed by enzyme 'glucuronyl transferase' to form Bilirubin Mono and Di-Glucuronides. These are water soluble i.e. Conjugated Bilirubin, also called Chole Bilirubin. \n",
    "\n",
    "<u><strong>3. Excretion:</strong></u>\n",
    "\n",
    "Excretion of conjugated bilirubin by the hepatic cells into the bile canaliculi is an active process i.e. it is transported \n",
    "against a concentration gradient into bile canaliculi. This is the rate limiting step in the liver for handling of bilirubin \n",
    "and needs energy. Some of it escapes into the general circulation and is excreted via kidneys in urine as urine bilirubin; while most of it passes via the bile ducts to the small intestine. \n",
    "\n",
    "<u><strong>4.Degradation:</strong></u>\n",
    "\n",
    "When this 'conjugated' water soluble bilirubin reaches the large intestine it is degraded by colonic bacteria. Glucuronic acid is split from bilirubin, and bilirubin undergoes reduction forming a colourless compound Stercobili11ogen, also called Urobilinogen.\n",
    "\n",
    "<u><strong>5. Re-Excretion:</strong></u>\n",
    "\n",
    "Some 20% of stercobilinogen (urobilinogen) is reabsorbed into the portal circulation to reach the liver.\\\n",
    "A) A part of which is re-excreted by the liver into the bile and returns to the small intestine by enterohepatic circulation<br/> \n",
    "B) The remaining absorbed stercobilinogen (urobilinogen) enters the general circulation. It gets filtered by the kidneys and is excreted in urine as urine urobilinogen. If urine is allowed to stand, urobilinogen is oxidised to urobilin.\n",
    "\n",
    "The remaining 80% of stercobilinogen which is not reabsorbed from the intestine is excreted in amounts of 20-250 mg/ day in the faeces. Some of this stercobilinogen is oxidised to a brownish compound stercobilin which is responsible for the brown colour of the faeces. \n"
   ]
  },
  {
   "cell_type": "markdown",
   "id": "7f2dd967",
   "metadata": {},
   "source": [
    "## TYPES OF JAUNDICE:\n",
    "The various types of jaundice and characteristic features of each type are given in the table below"
   ]
  },
  {
   "cell_type": "markdown",
   "id": "96ec464d",
   "metadata": {},
   "source": [
    "<!DOCTYPE html>\n",
    "<html>\n",
    "<body>\n",
    "\n",
    "<img src=\"J11.png\" alt=\"m\" width=\"900\" height=\"333\">\n",
    "\n",
    "</body>\n",
    "</html>"
   ]
  },
  {
   "cell_type": "markdown",
   "id": "8a52391c",
   "metadata": {},
   "source": [
    "<!DOCTYPE html>\n",
    "<html>\n",
    "<body>\n",
    "    \n",
    "<img src=\"J22.png\" alt=\"m\" width=\"900\" height=\"333\">\n",
    "\n",
    "</body>\n",
    "</html>"
   ]
  },
  {
   "cell_type": "markdown",
   "id": "8d52da9b",
   "metadata": {},
   "source": [
    "<strong><u>SOURCE:</u></strong> The above table, diagram showing the formation of bilirubin, fate of bilirubin is taken from the book titled 'Textbook of Physiology by AK Jain,6th edition'. Furthermore, detailed explanation about Jaundice can be referred here."
   ]
  },
  {
   "cell_type": "markdown",
   "id": "fa95e233",
   "metadata": {},
   "source": [
    "I think the above mentioned information is pretty much enough to build our AI model..."
   ]
  },
  {
   "cell_type": "markdown",
   "id": "d6f93264",
   "metadata": {},
   "source": [
    "## <font color='#4287f5'>Lets now start to build our 😍 AI model... </font>\n",
    "\n",
    "The below table shows the steps involved in constructing AI pipeline"
   ]
  },
  {
   "cell_type": "markdown",
   "id": "ac4413a1",
   "metadata": {},
   "source": [
    "<table>\n",
    "  <tr>\n",
    "    <th><div style=\"display:fill;border-radius:5px;background-color:#676F9F;letter-spacing:0.5px;overflow:hidden\"><p style=\"padding:20px;color:#F1EFF5;overflow:hidden;margin:0;font-size:110%;text-align:center\"><b></b>STEPS</p></div></th>\n",
    "    <th><div style=\"display:fill;border-radius:5px;background-color:#676F9F;letter-spacing:0.5px;overflow:hidden\"><p style=\"padding:20px;color:#F1EFF5;overflow:hidden;margin:0;font-size:110%;text-align:center\"><b></b>CONTENTS</p></div></th>\n",
    "    <th><div style=\"display:fill;border-radius:5px;background-color:#676F9F;letter-spacing:0.5px;overflow:hidden\"><p style=\"padding:20px;color:#F1EFF5;overflow:hidden;margin:0;font-size:110%;text-align:center\"><b></b>DESCRIPTION</p></div></th>\n",
    " \n",
    "  </tr>\n",
    "\n",
    "  <tr>\n",
    "    <td></td>\n",
    "    <td></td>\n",
    "    <td></td>\n",
    "      \n",
    "  </tr>\n",
    "      \n",
    "  <tr>\n",
    "    <td style=\"text-align:center;\"><b>1</b></td>\n",
    "    <td style=\"text-align:left;\"><div style=\"display:fill;border-radius:5px;background-color:#7FBAD5;letter-spacing:0.5px;overflow:hidden\"><p style=\"padding:20px;color:#4A5154;overflow:hidden;margin:0;font-size:110%;text-align:center\"><b>IMPORT REQUIRED LIBRARIES</b></p></div></td>\n",
    "    <td style=\"text-align:left;\"><i>Libraries like numpy, pandas, tf, matplotlib and others will be imported which are required for creating a model</i></td>\n",
    "    \n",
    "  </tr>\n",
    "    \n",
    "  <tr>\n",
    "    <td></td>\n",
    "    <td></td>\n",
    "    <td></td>\n",
    "      \n",
    "  </tr>\n",
    "   \n",
    "  <tr>\n",
    "        <td style=\"text-align:center;\"><b>2</b></td>\n",
    "        <td style=\"text-align:left;\"><div style=\"display:fill;border-radius:5px;background-color:#7FBAD5;letter-spacing:0.5px;overflow:hidden\"><p style=\"padding:20px;color:#4A5154;overflow:hidden;margin:0;font-size:110%;text-align:center\"><b>LOAD THE DATASET</b></p></div></td>\n",
    "        <td style=\"text-align:left;\"><i>We will create the Dataset and the same will be used for our model</i></td>\n",
    "    \n",
    "  </tr>\n",
    "\n",
    "  <tr>\n",
    "    <td></td>\n",
    "    <td></td>\n",
    "    <td></td>\n",
    "      \n",
    "  </tr>\n",
    "    \n",
    "    \n",
    "  <tr>\n",
    "    <td style=\"text-align:center;\"><b>3</b></td>\n",
    "    <td style=\"text-align:left;\"><div style=\"display:fill;border-radius:5px;background-color:#7FBAD5;letter-spacing:0.5px;overflow:hidden\"><p style=\"padding:20px;color:#4A5154;overflow:hidden;margin:0;font-size:110%;text-align:center\"><b>EXPLORATORY DATA ANALYSIS</b></p></div></td>\n",
    "    <td style=\"text-align:left;\">\n",
    "        <p><b> A.Understanding the dataset</b></p>\n",
    "        <p>-Head of the dataset</p>\n",
    "        <p>-Shape of the data set</p>\n",
    "        <p>-Types of columns</p>\n",
    "        <p>-Information about data set</p>\n",
    "        <p>-Summary of the data set</p>\n",
    "        <p><b>B. Data Cleaning</b></p>\n",
    "        <p>- Dropping duplicate values</p>\n",
    "        <p>- Checking NULL values</p>\n",
    "        <p>- Checking for 0 value</p>\n",
    "        <p>- Handling outliers</p></td>\n",
    "    \n",
    "  </tr>\n",
    "    \n",
    "  <tr>\n",
    "    <td></td>\n",
    "    <td></td>\n",
    "    <td></td>\n",
    "      \n",
    "  </tr>\n",
    "     \n",
    "    \n",
    "  <tr>\n",
    "    <td style=\"text-align:center;\"><b>4</b></td>\n",
    "    <td style=\"text-align:left;\"><div style=\"display:fill;border-radius:5px;background-color:#7FBAD5;letter-spacing:0.5px;overflow:hidden\"><p style=\"padding:20px;color:#4A5154;overflow:hidden;margin:0;font-size:110%;text-align:center\"><b>DATA VISUALIZATION</b></p></div></td>\n",
    "    <td style=\"text-align:left;\">\n",
    "        <p><i>Here, we are going to visualise our data by using several plots, including</i></p>\n",
    "        <p>- <u><b> Count Plot </b></u> :- to see if the dataset is balanced or not</p>\n",
    "        <p>- <u><b> Histograms </</b></u> :- to see if data is normally distributed or skewed</p>\n",
    "        <p>- <u><b> Box Plot</b></u> :- to analyse the distribution and see the outliers</p>\n",
    "        <p>- <u><b> Scatter plots</b></u>:- to understand relationship between any two variables</p>\n",
    "        <p>- <u><b> Pair plot</b></u>:- to create scatter plot between all the variables</p></td>\n",
    "    \n",
    "  </tr>\n",
    "    \n",
    "  <tr>\n",
    "    <td></td>\n",
    "    <td></td>\n",
    "    <td></td>\n",
    "      \n",
    "  </tr>\n",
    "  \n",
    "    \n",
    "  <tr>\n",
    "      <td style=\"text-align:center;\"><b>5</b></td>\n",
    "      <td style=\"text-align:left;\"><div style=\"display:fill;border-radius:5px;background-color:#7FBAD5;letter-spacing:0.5px;overflow:hidden\"><p style=\"padding:20px;color:#4A5154;overflow:hidden;margin:0;font-size:110%;text-align:center\"><b>FEATURES SELECTION AND ENGINEERING</b></p></div></td>\n",
    "      <td style=\"text-align:left;\"><i>Here, we are going to select the useful features or columns from the dataset and if it's possible, we are going to engineer the features in a right way which would the help the model to perform better.</i></td>\n",
    "    \n",
    "  </tr>\n",
    "    \n",
    "  <tr>\n",
    "    <td></td>\n",
    "    <td></td>\n",
    "    <td></td>\n",
    "      \n",
    "  </tr>\n",
    "      \n",
    "  <tr>\n",
    "    <td></td>\n",
    "    <td></td>\n",
    "    <td></td>\n",
    "      \n",
    "  </tr>\n",
    "  \n",
    "  <tr>\n",
    "      <td style=\"text-align:center;\"><b>6</b></td>\n",
    "      <td style=\"text-align:left;\"><div style=\"display:fill;border-radius:5px;background-color:#7FBAD5;letter-spacing:0.5px;overflow:hidden\"><p style=\"padding:20px;color:#4A5154;overflow:hidden;margin:0;font-size:110%;text-align:center\"><b>SPLIT THE DATAFRAME INTO X AND Y</b></p></div></td>\n",
    "      <td style=\"text-align:left;\"><i>Here, we are going to split the dataframe into features and labels</i></td>\n",
    "    \n",
    "  </tr>\n",
    "  \n",
    "  <tr>\n",
    "      <td style=\"text-align:center;\"><b>7</b></td>\n",
    "      <td style=\"text-align:left;\"><div style=\"display:fill;border-radius:5px;background-color:#7FBAD5;letter-spacing:0.5px;overflow:hidden\"><p style=\"padding:20px;color:#4A5154;overflow:hidden;margin:0;font-size:110%;text-align:center\"><b>SPLIT THE DATASET INTO TRAIN AND TEST SETS</b></p></div></td>\n",
    "      <td style=\"text-align:left;\"><i>Here, we are going to segregate the data into train and test samples so that our AI model's performance can be analysed without any bias.</i></td>\n",
    "    \n",
    "  </tr>\n",
    "    \n",
    "  <tr>\n",
    "    <td></td>\n",
    "    <td></td>\n",
    "    <td></td>\n",
    "      \n",
    "  </tr>\n",
    "      \n",
    "  <tr>\n",
    "    <td></td>\n",
    "    <td></td>\n",
    "    <td></td>\n",
    "      \n",
    "  </tr>\n",
    "  \n",
    "  \n",
    "  <tr>\n",
    "      <td style=\"text-align:center;\"><b>8</b></td>\n",
    "      <td style=\"text-align:left;\"><div style=\"display:fill;border-radius:5px;background-color:#7FBAD5;letter-spacing:0.5px;overflow:hidden\"><p style=\"padding:20px;color:#4A5154;overflow:hidden;margin:0;font-size:110%;text-align:center\"><b>TRAIN THE CLASSIFICATION ALGORITHM</b></p></div></td>\n",
    "      <td style=\"text-align:left;\">\n",
    "          <p><i>Here, we are going to build several ML Algorithm including</i></p>\n",
    "        <p>- <u><b> Logistic Regression </b></u></p>\n",
    "        <p>- <u><b> Naive Bayes </</b></u> </p>\n",
    "        <p>- <u><b> Support Vector Method</b></u> </p>\n",
    "        <p>- <u><b> Decision Tree</b></u></p>\n",
    "        <p>- <u><b> Random Forest</b></u></p>\n",
    "        <p>- <u><b> KNN</b></u></p>\n",
    "        <p>- <u><b> ANN</b></u></p></td>\n",
    "    \n",
    "  </tr>\n",
    "    \n",
    "  <tr>\n",
    "    <td></td>\n",
    "    <td></td>\n",
    "    <td></td>\n",
    "      \n",
    "  </tr>\n",
    "    \n",
    "  <tr>\n",
    "      <td style=\"text-align:center;\"><b>9</b></td>\n",
    "      <td style=\"text-align:left;\"><div style=\"display:fill;border-radius:5px;background-color:#7FBAD5;letter-spacing:0.5px;overflow:hidden\"><p style=\"padding:20px;color:#4A5154;overflow:hidden;margin:0;font-size:110%;text-align:center\"><b>TESTING AND ANALYSING PERFORMANCE OF AI</b></p></div></td>\n",
    "      <td style=\"text-align:left;\">\n",
    "          <p><i>Here, we are going to test the above built ML Algorithms and analyse their performance. The steps include,</i></p>\n",
    "        <p><u><b> a. Hyper Parameter Tuning using GridSearch CV </b></u></p>\n",
    "        <p><u><b> b. Fit Best Model </</b></u> </p>\n",
    "        <p><u><b> c. Predict on testing data using that model</b></u> </p>\n",
    "        <p><u><b> d. Performance Metrics :- Confusion Matrix, F1 Score, Precision Score, Recall Score</b></u></p>\n",
    "\n",
    "    \n",
    "  </tr>\n",
    " \n",
    "  \n",
    "    \n",
    "</table>\n",
    " \n",
    "\n",
    " \n",
    " "
   ]
  },
  {
   "cell_type": "markdown",
   "id": "ed06c930",
   "metadata": {},
   "source": [
    "### Lets know about the dataset in more detail in the next notebook"
   ]
  },
  {
   "cell_type": "markdown",
   "id": "a332a658",
   "metadata": {},
   "source": [
    "# THANK YOU..."
   ]
  }
 ],
 "metadata": {
  "kernelspec": {
   "display_name": "Python 3 (ipykernel)",
   "language": "python",
   "name": "python3"
  },
  "language_info": {
   "codemirror_mode": {
    "name": "ipython",
    "version": 3
   },
   "file_extension": ".py",
   "mimetype": "text/x-python",
   "name": "python",
   "nbconvert_exporter": "python",
   "pygments_lexer": "ipython3",
   "version": "3.9.7"
  }
 },
 "nbformat": 4,
 "nbformat_minor": 5
}
