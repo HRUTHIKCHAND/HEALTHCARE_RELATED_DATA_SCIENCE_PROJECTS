{
 "cells": [
  {
   "cell_type": "markdown",
   "id": "0ec3362b",
   "metadata": {},
   "source": [
    "# <div style=\"display:fill;border-radius:5px;background-color:#676F9F;letter-spacing:0.5px;overflow:hidden\"><p style=\"padding:20px;color:#F1EFF5;overflow:hidden;margin:0;font-size:150%;font-style: Helvetica;text-align:center\"><b></b>WHAT IF DOCTOR🧑‍⚕️ PREPARES AN AI MODEL??🤔</p></div>"
   ]
  },
  {
   "cell_type": "markdown",
   "id": "04a5b07c",
   "metadata": {},
   "source": [
    "In the previous notebook, we have explored the dataset and now we are ready to prepare an AI model out of it. \n",
    "<b><u><i>\"THE_FUEL_IS_READY_AND_HENCE_LETS_MAKE_AN_ENGINE....\"</i></u></b> "
   ]
  },
  {
   "cell_type": "markdown",
   "id": "3f9990bd",
   "metadata": {},
   "source": [
    "## <font color='#4287f5'>Importing necessary libraries...</font>"
   ]
  },
  {
   "cell_type": "code",
   "execution_count": 16,
   "id": "41110c83",
   "metadata": {},
   "outputs": [],
   "source": [
    "import pandas as pd                       # library for data manipulation (data cleaning,analysing...)\n",
    "import numpy as np                        # library for numerical computation\n",
    "import matplotlib.pyplot as plt           # library for data visualization which is built on NumPy arrays\n",
    "%matplotlib inline\n",
    "import seaborn as sns                     # library for data visualization built on top of matplotlib and \n",
    "                                          # closely integrated with pandas data structures in Python\n",
    "\n",
    "import warnings                           # to avoid warning flash\n",
    "warnings.filterwarnings('ignore')\n",
    "\n",
    "# Other libraries will be imported in the following steps as the process moves.... "
   ]
  },
  {
   "cell_type": "code",
   "execution_count": 2,
   "id": "4fe58af1",
   "metadata": {},
   "outputs": [],
   "source": [
    "#Load the dataset which we have created previously......\n",
    "df = pd.read_csv(r\"D:\\DSF\\PROJECTPRO\\MEDICAL_PROJECTS\\3.HEPATIC_DISEASES\\jaundice.csv\")"
   ]
  },
  {
   "cell_type": "code",
   "execution_count": 3,
   "id": "3e77f24b",
   "metadata": {},
   "outputs": [
    {
     "data": {
      "text/html": [
       "<div>\n",
       "<style scoped>\n",
       "    .dataframe tbody tr th:only-of-type {\n",
       "        vertical-align: middle;\n",
       "    }\n",
       "\n",
       "    .dataframe tbody tr th {\n",
       "        vertical-align: top;\n",
       "    }\n",
       "\n",
       "    .dataframe thead th {\n",
       "        text-align: right;\n",
       "    }\n",
       "</style>\n",
       "<table border=\"1\" class=\"dataframe\">\n",
       "  <thead>\n",
       "    <tr style=\"text-align: right;\">\n",
       "      <th></th>\n",
       "      <th>ID</th>\n",
       "      <th>age</th>\n",
       "      <th>sex</th>\n",
       "      <th>Conjugated_Bilirubin_count</th>\n",
       "      <th>Unconjugated_Bilirubin_count</th>\n",
       "      <th>Total_Bilirubin_count</th>\n",
       "      <th>Conjugated/Total_bilirubin_Ratio</th>\n",
       "      <th>urine_bilirubin</th>\n",
       "      <th>urine_urobilinogen</th>\n",
       "      <th>fecal_stercobilinogen</th>\n",
       "      <th>urine_bile_salts</th>\n",
       "      <th>AST</th>\n",
       "      <th>ALT</th>\n",
       "      <th>ALP</th>\n",
       "      <th>Serum_albumin</th>\n",
       "      <th>urine_color</th>\n",
       "      <th>stool_color</th>\n",
       "      <th>Hb%</th>\n",
       "      <th>Heart_rate</th>\n",
       "      <th>Diagnosis</th>\n",
       "    </tr>\n",
       "  </thead>\n",
       "  <tbody>\n",
       "    <tr>\n",
       "      <th>0</th>\n",
       "      <td>0</td>\n",
       "      <td>49</td>\n",
       "      <td>0</td>\n",
       "      <td>2.72</td>\n",
       "      <td>4.01</td>\n",
       "      <td>6.73</td>\n",
       "      <td>40.4</td>\n",
       "      <td>1</td>\n",
       "      <td>1</td>\n",
       "      <td>1</td>\n",
       "      <td>1</td>\n",
       "      <td>141</td>\n",
       "      <td>193</td>\n",
       "      <td>183</td>\n",
       "      <td>1.55</td>\n",
       "      <td>1</td>\n",
       "      <td>0</td>\n",
       "      <td>9.776846</td>\n",
       "      <td>62</td>\n",
       "      <td>2</td>\n",
       "    </tr>\n",
       "    <tr>\n",
       "      <th>1</th>\n",
       "      <td>1</td>\n",
       "      <td>42</td>\n",
       "      <td>1</td>\n",
       "      <td>1.62</td>\n",
       "      <td>8.55</td>\n",
       "      <td>10.17</td>\n",
       "      <td>15.9</td>\n",
       "      <td>1</td>\n",
       "      <td>1</td>\n",
       "      <td>1</td>\n",
       "      <td>1</td>\n",
       "      <td>133</td>\n",
       "      <td>191</td>\n",
       "      <td>257</td>\n",
       "      <td>3.01</td>\n",
       "      <td>1</td>\n",
       "      <td>0</td>\n",
       "      <td>10.419697</td>\n",
       "      <td>70</td>\n",
       "      <td>2</td>\n",
       "    </tr>\n",
       "    <tr>\n",
       "      <th>2</th>\n",
       "      <td>2</td>\n",
       "      <td>50</td>\n",
       "      <td>0</td>\n",
       "      <td>9.67</td>\n",
       "      <td>6.43</td>\n",
       "      <td>16.10</td>\n",
       "      <td>60.1</td>\n",
       "      <td>2</td>\n",
       "      <td>2</td>\n",
       "      <td>0</td>\n",
       "      <td>2</td>\n",
       "      <td>75</td>\n",
       "      <td>73</td>\n",
       "      <td>902</td>\n",
       "      <td>4.95</td>\n",
       "      <td>2</td>\n",
       "      <td>1</td>\n",
       "      <td>13.307444</td>\n",
       "      <td>57</td>\n",
       "      <td>3</td>\n",
       "    </tr>\n",
       "    <tr>\n",
       "      <th>3</th>\n",
       "      <td>3</td>\n",
       "      <td>26</td>\n",
       "      <td>0</td>\n",
       "      <td>0.64</td>\n",
       "      <td>10.22</td>\n",
       "      <td>10.86</td>\n",
       "      <td>5.9</td>\n",
       "      <td>1</td>\n",
       "      <td>1</td>\n",
       "      <td>1</td>\n",
       "      <td>1</td>\n",
       "      <td>174</td>\n",
       "      <td>114</td>\n",
       "      <td>186</td>\n",
       "      <td>2.83</td>\n",
       "      <td>1</td>\n",
       "      <td>0</td>\n",
       "      <td>9.250229</td>\n",
       "      <td>72</td>\n",
       "      <td>2</td>\n",
       "    </tr>\n",
       "    <tr>\n",
       "      <th>4</th>\n",
       "      <td>4</td>\n",
       "      <td>52</td>\n",
       "      <td>0</td>\n",
       "      <td>1.98</td>\n",
       "      <td>6.09</td>\n",
       "      <td>8.07</td>\n",
       "      <td>24.5</td>\n",
       "      <td>1</td>\n",
       "      <td>1</td>\n",
       "      <td>1</td>\n",
       "      <td>1</td>\n",
       "      <td>153</td>\n",
       "      <td>114</td>\n",
       "      <td>290</td>\n",
       "      <td>2.07</td>\n",
       "      <td>1</td>\n",
       "      <td>0</td>\n",
       "      <td>9.737639</td>\n",
       "      <td>66</td>\n",
       "      <td>2</td>\n",
       "    </tr>\n",
       "    <tr>\n",
       "      <th>...</th>\n",
       "      <td>...</td>\n",
       "      <td>...</td>\n",
       "      <td>...</td>\n",
       "      <td>...</td>\n",
       "      <td>...</td>\n",
       "      <td>...</td>\n",
       "      <td>...</td>\n",
       "      <td>...</td>\n",
       "      <td>...</td>\n",
       "      <td>...</td>\n",
       "      <td>...</td>\n",
       "      <td>...</td>\n",
       "      <td>...</td>\n",
       "      <td>...</td>\n",
       "      <td>...</td>\n",
       "      <td>...</td>\n",
       "      <td>...</td>\n",
       "      <td>...</td>\n",
       "      <td>...</td>\n",
       "      <td>...</td>\n",
       "    </tr>\n",
       "    <tr>\n",
       "      <th>995</th>\n",
       "      <td>995</td>\n",
       "      <td>55</td>\n",
       "      <td>0</td>\n",
       "      <td>8.96</td>\n",
       "      <td>7.27</td>\n",
       "      <td>16.23</td>\n",
       "      <td>55.2</td>\n",
       "      <td>2</td>\n",
       "      <td>2</td>\n",
       "      <td>0</td>\n",
       "      <td>2</td>\n",
       "      <td>109</td>\n",
       "      <td>42</td>\n",
       "      <td>647</td>\n",
       "      <td>4.28</td>\n",
       "      <td>2</td>\n",
       "      <td>1</td>\n",
       "      <td>12.129707</td>\n",
       "      <td>56</td>\n",
       "      <td>3</td>\n",
       "    </tr>\n",
       "    <tr>\n",
       "      <th>996</th>\n",
       "      <td>996</td>\n",
       "      <td>43</td>\n",
       "      <td>1</td>\n",
       "      <td>9.44</td>\n",
       "      <td>7.80</td>\n",
       "      <td>17.24</td>\n",
       "      <td>54.8</td>\n",
       "      <td>2</td>\n",
       "      <td>2</td>\n",
       "      <td>0</td>\n",
       "      <td>2</td>\n",
       "      <td>58</td>\n",
       "      <td>45</td>\n",
       "      <td>869</td>\n",
       "      <td>3.86</td>\n",
       "      <td>2</td>\n",
       "      <td>1</td>\n",
       "      <td>11.641941</td>\n",
       "      <td>57</td>\n",
       "      <td>3</td>\n",
       "    </tr>\n",
       "    <tr>\n",
       "      <th>997</th>\n",
       "      <td>997</td>\n",
       "      <td>42</td>\n",
       "      <td>0</td>\n",
       "      <td>0.31</td>\n",
       "      <td>2.50</td>\n",
       "      <td>2.81</td>\n",
       "      <td>11.0</td>\n",
       "      <td>0</td>\n",
       "      <td>0</td>\n",
       "      <td>2</td>\n",
       "      <td>0</td>\n",
       "      <td>23</td>\n",
       "      <td>19</td>\n",
       "      <td>42</td>\n",
       "      <td>4.40</td>\n",
       "      <td>0</td>\n",
       "      <td>2</td>\n",
       "      <td>5.579198</td>\n",
       "      <td>99</td>\n",
       "      <td>1</td>\n",
       "    </tr>\n",
       "    <tr>\n",
       "      <th>998</th>\n",
       "      <td>998</td>\n",
       "      <td>54</td>\n",
       "      <td>1</td>\n",
       "      <td>2.09</td>\n",
       "      <td>4.83</td>\n",
       "      <td>6.92</td>\n",
       "      <td>30.2</td>\n",
       "      <td>1</td>\n",
       "      <td>1</td>\n",
       "      <td>1</td>\n",
       "      <td>1</td>\n",
       "      <td>120</td>\n",
       "      <td>94</td>\n",
       "      <td>256</td>\n",
       "      <td>3.43</td>\n",
       "      <td>1</td>\n",
       "      <td>0</td>\n",
       "      <td>8.199968</td>\n",
       "      <td>69</td>\n",
       "      <td>2</td>\n",
       "    </tr>\n",
       "    <tr>\n",
       "      <th>999</th>\n",
       "      <td>1000</td>\n",
       "      <td>37</td>\n",
       "      <td>1</td>\n",
       "      <td>0.35</td>\n",
       "      <td>10.31</td>\n",
       "      <td>10.66</td>\n",
       "      <td>3.3</td>\n",
       "      <td>0</td>\n",
       "      <td>0</td>\n",
       "      <td>2</td>\n",
       "      <td>0</td>\n",
       "      <td>33</td>\n",
       "      <td>3</td>\n",
       "      <td>107</td>\n",
       "      <td>5.00</td>\n",
       "      <td>0</td>\n",
       "      <td>2</td>\n",
       "      <td>7.404115</td>\n",
       "      <td>87</td>\n",
       "      <td>1</td>\n",
       "    </tr>\n",
       "  </tbody>\n",
       "</table>\n",
       "<p>1000 rows × 20 columns</p>\n",
       "</div>"
      ],
      "text/plain": [
       "       ID  age  sex  Conjugated_Bilirubin_count  Unconjugated_Bilirubin_count  \\\n",
       "0       0   49    0                        2.72                          4.01   \n",
       "1       1   42    1                        1.62                          8.55   \n",
       "2       2   50    0                        9.67                          6.43   \n",
       "3       3   26    0                        0.64                         10.22   \n",
       "4       4   52    0                        1.98                          6.09   \n",
       "..    ...  ...  ...                         ...                           ...   \n",
       "995   995   55    0                        8.96                          7.27   \n",
       "996   996   43    1                        9.44                          7.80   \n",
       "997   997   42    0                        0.31                          2.50   \n",
       "998   998   54    1                        2.09                          4.83   \n",
       "999  1000   37    1                        0.35                         10.31   \n",
       "\n",
       "     Total_Bilirubin_count  Conjugated/Total_bilirubin_Ratio  urine_bilirubin  \\\n",
       "0                     6.73                              40.4                1   \n",
       "1                    10.17                              15.9                1   \n",
       "2                    16.10                              60.1                2   \n",
       "3                    10.86                               5.9                1   \n",
       "4                     8.07                              24.5                1   \n",
       "..                     ...                               ...              ...   \n",
       "995                  16.23                              55.2                2   \n",
       "996                  17.24                              54.8                2   \n",
       "997                   2.81                              11.0                0   \n",
       "998                   6.92                              30.2                1   \n",
       "999                  10.66                               3.3                0   \n",
       "\n",
       "     urine_urobilinogen  fecal_stercobilinogen  urine_bile_salts  AST  ALT  \\\n",
       "0                     1                      1                 1  141  193   \n",
       "1                     1                      1                 1  133  191   \n",
       "2                     2                      0                 2   75   73   \n",
       "3                     1                      1                 1  174  114   \n",
       "4                     1                      1                 1  153  114   \n",
       "..                  ...                    ...               ...  ...  ...   \n",
       "995                   2                      0                 2  109   42   \n",
       "996                   2                      0                 2   58   45   \n",
       "997                   0                      2                 0   23   19   \n",
       "998                   1                      1                 1  120   94   \n",
       "999                   0                      2                 0   33    3   \n",
       "\n",
       "     ALP  Serum_albumin  urine_color  stool_color        Hb%  Heart_rate  \\\n",
       "0    183           1.55            1            0   9.776846          62   \n",
       "1    257           3.01            1            0  10.419697          70   \n",
       "2    902           4.95            2            1  13.307444          57   \n",
       "3    186           2.83            1            0   9.250229          72   \n",
       "4    290           2.07            1            0   9.737639          66   \n",
       "..   ...            ...          ...          ...        ...         ...   \n",
       "995  647           4.28            2            1  12.129707          56   \n",
       "996  869           3.86            2            1  11.641941          57   \n",
       "997   42           4.40            0            2   5.579198          99   \n",
       "998  256           3.43            1            0   8.199968          69   \n",
       "999  107           5.00            0            2   7.404115          87   \n",
       "\n",
       "     Diagnosis  \n",
       "0            2  \n",
       "1            2  \n",
       "2            3  \n",
       "3            2  \n",
       "4            2  \n",
       "..         ...  \n",
       "995          3  \n",
       "996          3  \n",
       "997          1  \n",
       "998          2  \n",
       "999          1  \n",
       "\n",
       "[1000 rows x 20 columns]"
      ]
     },
     "execution_count": 3,
     "metadata": {},
     "output_type": "execute_result"
    }
   ],
   "source": [
    "df"
   ]
  },
  {
   "cell_type": "code",
   "execution_count": 5,
   "id": "92aa208a",
   "metadata": {},
   "outputs": [
    {
     "data": {
      "text/plain": [
       "Index(['ID', 'age', 'sex', 'Conjugated_Bilirubin_count',\n",
       "       'Unconjugated_Bilirubin_count', 'Total_Bilirubin_count',\n",
       "       'Conjugated/Total_bilirubin_Ratio', 'urine_bilirubin',\n",
       "       'urine_urobilinogen', 'fecal_stercobilinogen', 'urine_bile_salts',\n",
       "       'AST', 'ALT', 'ALP', 'Serum_albumin', 'urine_color', 'stool_color',\n",
       "       'Hb%', 'Heart_rate', 'Diagnosis'],\n",
       "      dtype='object')"
      ]
     },
     "execution_count": 5,
     "metadata": {},
     "output_type": "execute_result"
    }
   ],
   "source": [
    "df.columns"
   ]
  },
  {
   "cell_type": "markdown",
   "id": "e63cc3ff",
   "metadata": {},
   "source": [
    "## <font color='#4287f5'>Split the Data Frame into X and y...</font>"
   ]
  },
  {
   "cell_type": "code",
   "execution_count": 6,
   "id": "ee7f4f05",
   "metadata": {},
   "outputs": [],
   "source": [
    "X = df[['ID', 'age', 'sex', 'Conjugated_Bilirubin_count','Unconjugated_Bilirubin_count', 'Total_Bilirubin_count','Conjugated/Total_bilirubin_Ratio', 'urine_bilirubin','urine_urobilinogen', 'fecal_stercobilinogen', 'urine_bile_salts','AST', 'ALT', 'ALP', 'Serum_albumin', 'urine_color', 'stool_color','Hb%', 'Heart_rate',]]\n",
    "\n",
    "y = df['Diagnosis']"
   ]
  },
  {
   "cell_type": "code",
   "execution_count": 7,
   "id": "81959071",
   "metadata": {},
   "outputs": [
    {
     "data": {
      "text/html": [
       "<div>\n",
       "<style scoped>\n",
       "    .dataframe tbody tr th:only-of-type {\n",
       "        vertical-align: middle;\n",
       "    }\n",
       "\n",
       "    .dataframe tbody tr th {\n",
       "        vertical-align: top;\n",
       "    }\n",
       "\n",
       "    .dataframe thead th {\n",
       "        text-align: right;\n",
       "    }\n",
       "</style>\n",
       "<table border=\"1\" class=\"dataframe\">\n",
       "  <thead>\n",
       "    <tr style=\"text-align: right;\">\n",
       "      <th></th>\n",
       "      <th>ID</th>\n",
       "      <th>age</th>\n",
       "      <th>sex</th>\n",
       "      <th>Conjugated_Bilirubin_count</th>\n",
       "      <th>Unconjugated_Bilirubin_count</th>\n",
       "      <th>Total_Bilirubin_count</th>\n",
       "      <th>Conjugated/Total_bilirubin_Ratio</th>\n",
       "      <th>urine_bilirubin</th>\n",
       "      <th>urine_urobilinogen</th>\n",
       "      <th>fecal_stercobilinogen</th>\n",
       "      <th>urine_bile_salts</th>\n",
       "      <th>AST</th>\n",
       "      <th>ALT</th>\n",
       "      <th>ALP</th>\n",
       "      <th>Serum_albumin</th>\n",
       "      <th>urine_color</th>\n",
       "      <th>stool_color</th>\n",
       "      <th>Hb%</th>\n",
       "      <th>Heart_rate</th>\n",
       "    </tr>\n",
       "  </thead>\n",
       "  <tbody>\n",
       "    <tr>\n",
       "      <th>0</th>\n",
       "      <td>0</td>\n",
       "      <td>49</td>\n",
       "      <td>0</td>\n",
       "      <td>2.72</td>\n",
       "      <td>4.01</td>\n",
       "      <td>6.73</td>\n",
       "      <td>40.4</td>\n",
       "      <td>1</td>\n",
       "      <td>1</td>\n",
       "      <td>1</td>\n",
       "      <td>1</td>\n",
       "      <td>141</td>\n",
       "      <td>193</td>\n",
       "      <td>183</td>\n",
       "      <td>1.55</td>\n",
       "      <td>1</td>\n",
       "      <td>0</td>\n",
       "      <td>9.776846</td>\n",
       "      <td>62</td>\n",
       "    </tr>\n",
       "    <tr>\n",
       "      <th>1</th>\n",
       "      <td>1</td>\n",
       "      <td>42</td>\n",
       "      <td>1</td>\n",
       "      <td>1.62</td>\n",
       "      <td>8.55</td>\n",
       "      <td>10.17</td>\n",
       "      <td>15.9</td>\n",
       "      <td>1</td>\n",
       "      <td>1</td>\n",
       "      <td>1</td>\n",
       "      <td>1</td>\n",
       "      <td>133</td>\n",
       "      <td>191</td>\n",
       "      <td>257</td>\n",
       "      <td>3.01</td>\n",
       "      <td>1</td>\n",
       "      <td>0</td>\n",
       "      <td>10.419697</td>\n",
       "      <td>70</td>\n",
       "    </tr>\n",
       "    <tr>\n",
       "      <th>2</th>\n",
       "      <td>2</td>\n",
       "      <td>50</td>\n",
       "      <td>0</td>\n",
       "      <td>9.67</td>\n",
       "      <td>6.43</td>\n",
       "      <td>16.10</td>\n",
       "      <td>60.1</td>\n",
       "      <td>2</td>\n",
       "      <td>2</td>\n",
       "      <td>0</td>\n",
       "      <td>2</td>\n",
       "      <td>75</td>\n",
       "      <td>73</td>\n",
       "      <td>902</td>\n",
       "      <td>4.95</td>\n",
       "      <td>2</td>\n",
       "      <td>1</td>\n",
       "      <td>13.307444</td>\n",
       "      <td>57</td>\n",
       "    </tr>\n",
       "    <tr>\n",
       "      <th>3</th>\n",
       "      <td>3</td>\n",
       "      <td>26</td>\n",
       "      <td>0</td>\n",
       "      <td>0.64</td>\n",
       "      <td>10.22</td>\n",
       "      <td>10.86</td>\n",
       "      <td>5.9</td>\n",
       "      <td>1</td>\n",
       "      <td>1</td>\n",
       "      <td>1</td>\n",
       "      <td>1</td>\n",
       "      <td>174</td>\n",
       "      <td>114</td>\n",
       "      <td>186</td>\n",
       "      <td>2.83</td>\n",
       "      <td>1</td>\n",
       "      <td>0</td>\n",
       "      <td>9.250229</td>\n",
       "      <td>72</td>\n",
       "    </tr>\n",
       "    <tr>\n",
       "      <th>4</th>\n",
       "      <td>4</td>\n",
       "      <td>52</td>\n",
       "      <td>0</td>\n",
       "      <td>1.98</td>\n",
       "      <td>6.09</td>\n",
       "      <td>8.07</td>\n",
       "      <td>24.5</td>\n",
       "      <td>1</td>\n",
       "      <td>1</td>\n",
       "      <td>1</td>\n",
       "      <td>1</td>\n",
       "      <td>153</td>\n",
       "      <td>114</td>\n",
       "      <td>290</td>\n",
       "      <td>2.07</td>\n",
       "      <td>1</td>\n",
       "      <td>0</td>\n",
       "      <td>9.737639</td>\n",
       "      <td>66</td>\n",
       "    </tr>\n",
       "  </tbody>\n",
       "</table>\n",
       "</div>"
      ],
      "text/plain": [
       "   ID  age  sex  Conjugated_Bilirubin_count  Unconjugated_Bilirubin_count  \\\n",
       "0   0   49    0                        2.72                          4.01   \n",
       "1   1   42    1                        1.62                          8.55   \n",
       "2   2   50    0                        9.67                          6.43   \n",
       "3   3   26    0                        0.64                         10.22   \n",
       "4   4   52    0                        1.98                          6.09   \n",
       "\n",
       "   Total_Bilirubin_count  Conjugated/Total_bilirubin_Ratio  urine_bilirubin  \\\n",
       "0                   6.73                              40.4                1   \n",
       "1                  10.17                              15.9                1   \n",
       "2                  16.10                              60.1                2   \n",
       "3                  10.86                               5.9                1   \n",
       "4                   8.07                              24.5                1   \n",
       "\n",
       "   urine_urobilinogen  fecal_stercobilinogen  urine_bile_salts  AST  ALT  ALP  \\\n",
       "0                   1                      1                 1  141  193  183   \n",
       "1                   1                      1                 1  133  191  257   \n",
       "2                   2                      0                 2   75   73  902   \n",
       "3                   1                      1                 1  174  114  186   \n",
       "4                   1                      1                 1  153  114  290   \n",
       "\n",
       "   Serum_albumin  urine_color  stool_color        Hb%  Heart_rate  \n",
       "0           1.55            1            0   9.776846          62  \n",
       "1           3.01            1            0  10.419697          70  \n",
       "2           4.95            2            1  13.307444          57  \n",
       "3           2.83            1            0   9.250229          72  \n",
       "4           2.07            1            0   9.737639          66  "
      ]
     },
     "execution_count": 7,
     "metadata": {},
     "output_type": "execute_result"
    }
   ],
   "source": [
    "X.head()    # contains only the features we had selected"
   ]
  },
  {
   "cell_type": "code",
   "execution_count": 8,
   "id": "3e205d56",
   "metadata": {},
   "outputs": [
    {
     "data": {
      "text/plain": [
       "0    2\n",
       "1    2\n",
       "2    3\n",
       "3    2\n",
       "4    2\n",
       "Name: Diagnosis, dtype: int64"
      ]
     },
     "execution_count": 8,
     "metadata": {},
     "output_type": "execute_result"
    }
   ],
   "source": [
    "y.head() # contains only the 'Outcome' feature."
   ]
  },
  {
   "cell_type": "markdown",
   "id": "1801f764",
   "metadata": {},
   "source": [
    "## <font color='#4287f5'> TRAIN/TEST DATA PREPARATION....</font>"
   ]
  },
  {
   "cell_type": "code",
   "execution_count": 9,
   "id": "c9ebbb48",
   "metadata": {},
   "outputs": [],
   "source": [
    "from sklearn.model_selection import train_test_split\n",
    "\n",
    "X_train, X_test, y_train, y_test = train_test_split(X,y, test_size=0.2)\n"
   ]
  },
  {
   "cell_type": "markdown",
   "id": "71fb74a3",
   "metadata": {},
   "source": [
    "# Classification Algorithms\n",
    "\n",
    "- Naive Bayes\n",
    "- KNN\n",
    "- SVM\n",
    "- Decision Tree\n",
    "- Random Forest\n",
    "- Logistic Regression\n",
    "\n",
    "### The models include the following:-\n",
    "\n",
    "#### a. Hyper Parameter Tuning using GridSearch CV\n",
    "\n",
    "**1. What Is Hyperparameter Tuning?**\n",
    "\n",
    "Hyperparameters are the variables that the user specify usually while building the Machine Learning model. thus, hyperparameters are specified before specifying the parameters or we can say that hyperparameters are used to evaluate optimal parameters of the model. the best part about hyperparameters is that their values are decided by the user who is building the model. For example, max_depth in Random Forest Algorithms, k in KNN Classifier.\n",
    "Hyperparameter tuning is the process of tuning the parameters present as the tuples while we build machine learning models. \n",
    "\n",
    "**2. What is GridSearch ?**\n",
    "\n",
    "Grid Search uses a different combination of all the specified hyperparameters and their values and calculates the performance for each combination and selects the best value for the hyperparameters.\n",
    "\n",
    "**3. What Steps To Follow For Hyper Parameter Tuning?**\n",
    "\n",
    "1. Select the type of model we want to use like RandomForestClassifier, regressor or any other model\n",
    "2. Check what are the parameters of the model\n",
    "3. Select the methods for searching the hyperparameter\n",
    "4. Select the cross-validation approach\n",
    "5. Evaluate the model using the score\n",
    "\n",
    "#### b. Fit Best Model\n",
    "\n",
    "#### c. Predict on testing data using that model\n",
    "\n",
    "#### d. Performance Metrics :- Confusion Matrix, F1 Score, Precision Score, Recall Score\n",
    "**Confusion Matrix**\n",
    "It is a tabular visualization of the model predictions versus the ground-truth labels. \n",
    "\n",
    "**F1 Score :-**\n",
    "It’s the harmonic mean between precision and recall. \n",
    "\n",
    "**Precision Score**\n",
    "Precision is the fraction of predicted positives/negatives events that are actually positive/negatives.\n",
    "\n",
    "**Recall Score**\n",
    "It is the fraction of positives/negative events that you predicted correctly. "
   ]
  },
  {
   "cell_type": "code",
   "execution_count": 10,
   "id": "2629abf6",
   "metadata": {},
   "outputs": [],
   "source": [
    "##################################################################################################################\n",
    "####################################         IMPORT_DIFFERENT_MODELS_CLASS     ###################################\n",
    "##################################################################################################################\n",
    "\n",
    "from sklearn.linear_model      import LogisticRegression\n",
    "\n",
    "from sklearn.neighbors         import KNeighborsClassifier\n",
    "\n",
    "from sklearn.naive_bayes       import GaussianNB\n",
    "\n",
    "from sklearn.svm               import SVC\n",
    "\n",
    "from sklearn.tree              import DecisionTreeClassifier\n",
    "from sklearn.ensemble          import RandomForestClassifier\n",
    "\n",
    "from keras.models              import Sequential\n",
    "from keras.layers              import Dense\n",
    "\n",
    "\n",
    "##################################################################################################################\n",
    "####################################         IMPORT_MODEL_SELECTION_CLASS    #####################################\n",
    "##################################################################################################################\n",
    "\n",
    "\n",
    "\n",
    "from sklearn.model_selection   import RepeatedStratifiedKFold\n",
    "from sklearn.model_selection   import GridSearchCV\n",
    "\n",
    "\n",
    "##################################################################################################################\n",
    "####################################         IMPORT_STATISTICS_METHODS    ########################################\n",
    "##################################################################################################################\n",
    "\n",
    "\n",
    "from sklearn.metrics           import classification_report,confusion_matrix\n",
    "from sklearn.metrics           import f1_score, precision_score, recall_score\n",
    "\n"
   ]
  },
  {
   "cell_type": "code",
   "execution_count": 11,
   "id": "3a765f79",
   "metadata": {},
   "outputs": [
    {
     "name": "stdout",
     "output_type": "stream",
     "text": [
      "Best leaf_size: 30\n",
      "Best p: 1\n",
      "Best n_neighbors: 15\n",
      "Classification Report is:\n",
      "               precision    recall  f1-score   support\n",
      "\n",
      "           1       1.00      1.00      1.00        69\n",
      "           2       1.00      1.00      1.00        59\n",
      "           3       1.00      1.00      1.00        72\n",
      "\n",
      "    accuracy                           1.00       200\n",
      "   macro avg       1.00      1.00      1.00       200\n",
      "weighted avg       1.00      1.00      1.00       200\n",
      "\n",
      "\n",
      " F1:\n",
      " 1.0\n",
      "\n",
      " Precision score is:\n",
      " 1.0\n",
      "\n",
      " Recall score is:\n",
      " 1.0\n",
      "\n",
      " Confusion Matrix:\n",
      "\n"
     ]
    },
    {
     "data": {
      "text/plain": [
       "<AxesSubplot:>"
      ]
     },
     "execution_count": 11,
     "metadata": {},
     "output_type": "execute_result"
    }
   ],
   "source": [
    "##################################################################################################################\n",
    "#####################################    K-NEIGHBORS_CLASSIFIER_MODEL   ##########################################\n",
    "##################################################################################################################\n",
    "\n",
    "\n",
    "# from sklearn.neighbors  import KNeighborsClassifier\n",
    "\n",
    "# List Hyperparameters to tune\n",
    "knn= KNeighborsClassifier()\n",
    "n_neighbors = list(range(15,25))\n",
    "p=[1,2]\n",
    "weights = ['uniform', 'distance']\n",
    "metric = ['euclidean', 'manhattan', 'minkowski']\n",
    "\n",
    "# convert to dictionary\n",
    "hyperparameters = dict(n_neighbors=n_neighbors, p=p,weights=weights,metric=metric)\n",
    "\n",
    "# Making model\n",
    "cv = RepeatedStratifiedKFold(n_splits=10, n_repeats=3, random_state=1)\n",
    "grid_search = GridSearchCV(estimator=knn, param_grid=hyperparameters, n_jobs=-1, cv=cv, scoring='f1',error_score=0)\n",
    "\n",
    "# Train the model\n",
    "best_model = grid_search.fit(X_train,y_train)\n",
    "\n",
    "# Best Hyperparameters Value\n",
    "print('Best leaf_size:', best_model.best_estimator_.get_params()['leaf_size'])\n",
    "print('Best p:', best_model.best_estimator_.get_params()['p'])\n",
    "print('Best n_neighbors:', best_model.best_estimator_.get_params()['n_neighbors'])\n",
    "\n",
    "# Test the model\n",
    "knn_pred = best_model.predict(X_test)\n",
    "\n",
    "# Evaluate the model\n",
    "print(\"Classification Report is:\\n\",classification_report(y_test,knn_pred))\n",
    "print(\"\\n F1:\\n\",f1_score(y_test,knn_pred,average='macro'))\n",
    "print(\"\\n Precision score is:\\n\",precision_score(y_test,knn_pred,average='macro'))\n",
    "print(\"\\n Recall score is:\\n\",recall_score(y_test,knn_pred,average='macro'))\n",
    "print(\"\\n Confusion Matrix:\\n\")\n",
    "\n",
    "sns.heatmap(confusion_matrix(y_test,knn_pred))"
   ]
  },
  {
   "cell_type": "markdown",
   "id": "c17471d1",
   "metadata": {},
   "source": [
    "## BEST_RESULTS"
   ]
  },
  {
   "cell_type": "code",
   "execution_count": 12,
   "id": "d85686c9",
   "metadata": {},
   "outputs": [
    {
     "name": "stdout",
     "output_type": "stream",
     "text": [
      "Fitting 10 folds for each of 100 candidates, totalling 1000 fits\n",
      "Classification Report is:\n",
      "               precision    recall  f1-score   support\n",
      "\n",
      "           1       1.00      1.00      1.00        69\n",
      "           2       1.00      1.00      1.00        59\n",
      "           3       1.00      1.00      1.00        72\n",
      "\n",
      "    accuracy                           1.00       200\n",
      "   macro avg       1.00      1.00      1.00       200\n",
      "weighted avg       1.00      1.00      1.00       200\n",
      "\n",
      "\n",
      " F1:\n",
      " 1.0\n",
      "\n",
      " Precision score is:\n",
      " 1.0\n",
      "\n",
      " Recall score is:\n",
      " 1.0\n",
      "\n",
      " Confusion Matrix:\n",
      "\n"
     ]
    },
    {
     "data": {
      "text/plain": [
       "<AxesSubplot:>"
      ]
     },
     "execution_count": 12,
     "metadata": {},
     "output_type": "execute_result"
    }
   ],
   "source": [
    "##################################################################################################################\n",
    "############################    GAUSSIAN_NAIVE_BAYES_CLASSIFIER_MODEL   ##########################################\n",
    "##################################################################################################################\n",
    "\n",
    "# from sklearn.naive_bayes import GaussianNB\n",
    "\n",
    "# List Hyperparameters to tune\n",
    "param_grid_nb = {\n",
    "    'var_smoothing': np.logspace(0,-2, num=100)\n",
    "}\n",
    "\n",
    "# Making the model\n",
    "nbModel_grid = GridSearchCV(estimator=GaussianNB(), param_grid=param_grid_nb, verbose=1, cv=10, n_jobs=-1)\n",
    "\n",
    "# Train the model\n",
    "best_model= nbModel_grid.fit(X_train, y_train)\n",
    "\n",
    "# Test the model\n",
    "nb_pred=best_model.predict(X_test)\n",
    "\n",
    "# Evaluate the model\n",
    "print(\"Classification Report is:\\n\",classification_report(y_test,nb_pred))\n",
    "print(\"\\n F1:\\n\",f1_score(y_test,nb_pred,average='macro'))\n",
    "print(\"\\n Precision score is:\\n\",precision_score(y_test,nb_pred,average='macro'))\n",
    "print(\"\\n Recall score is:\\n\",recall_score(y_test,nb_pred,average='macro'))\n",
    "print(\"\\n Confusion Matrix:\\n\")\n",
    "\n",
    "sns.heatmap(confusion_matrix(y_test,nb_pred))"
   ]
  },
  {
   "cell_type": "markdown",
   "id": "b7512bee",
   "metadata": {},
   "source": [
    "## BEST_RESULTS"
   ]
  },
  {
   "cell_type": "code",
   "execution_count": 13,
   "id": "676ea49d",
   "metadata": {},
   "outputs": [
    {
     "name": "stdout",
     "output_type": "stream",
     "text": [
      "Classification Report is:\n",
      "               precision    recall  f1-score   support\n",
      "\n",
      "           1       1.00      1.00      1.00        69\n",
      "           2       1.00      1.00      1.00        59\n",
      "           3       1.00      1.00      1.00        72\n",
      "\n",
      "    accuracy                           1.00       200\n",
      "   macro avg       1.00      1.00      1.00       200\n",
      "weighted avg       1.00      1.00      1.00       200\n",
      "\n",
      "\n",
      " F1:\n",
      " 1.0\n",
      "\n",
      " Precision score is:\n",
      " 1.0\n",
      "\n",
      " Recall score is:\n",
      " 1.0\n",
      "\n",
      " Confusion Matrix:\n",
      "\n"
     ]
    },
    {
     "data": {
      "text/plain": [
       "<AxesSubplot:>"
      ]
     },
     "execution_count": 13,
     "metadata": {},
     "output_type": "execute_result"
    }
   ],
   "source": [
    "##################################################################################################################\n",
    "######################################   SUPPORT_VECTOR_MACHINE_MODEL   ##########################################\n",
    "##################################################################################################################\n",
    "\n",
    "# from sklearn.svm import SVC\n",
    "\n",
    "# List Hyperparameters to tune\n",
    "model = SVC()\n",
    "kernel = ['poly', 'rbf', 'sigmoid']\n",
    "C = [50, 10, 1.0, 0.1, 0.01]\n",
    "gamma = ['scale']\n",
    "\n",
    "# define grid search\n",
    "grid = dict(kernel=kernel,C=C,gamma=gamma)\n",
    "cv = RepeatedStratifiedKFold(n_splits=10, n_repeats=3, random_state=1)\n",
    "grid_search = GridSearchCV(estimator=model, param_grid=grid, n_jobs=-1, cv=cv, scoring='f1',error_score=0)\n",
    "\n",
    "# Train the model\n",
    "grid_result = grid_search.fit(X, y)\n",
    "\n",
    "# Test the model\n",
    "svm_pred=grid_result.predict(X_test)\n",
    "\n",
    "# Evaluate the model\n",
    "print(\"Classification Report is:\\n\",classification_report(y_test,svm_pred))\n",
    "print(\"\\n F1:\\n\",f1_score(y_test,svm_pred,average='macro'))\n",
    "print(\"\\n Precision score is:\\n\",precision_score(y_test,svm_pred,average='macro'))\n",
    "print(\"\\n Recall score is:\\n\",recall_score(y_test,svm_pred,average='macro'))\n",
    "print(\"\\n Confusion Matrix:\\n\")\n",
    "\n",
    "sns.heatmap(confusion_matrix(y_test,svm_pred))"
   ]
  },
  {
   "cell_type": "markdown",
   "id": "6d6d36a2",
   "metadata": {},
   "source": [
    "## BEST_RESULTS"
   ]
  },
  {
   "cell_type": "code",
   "execution_count": 14,
   "id": "a3fc7f62",
   "metadata": {},
   "outputs": [
    {
     "name": "stdout",
     "output_type": "stream",
     "text": [
      "Fitting 4 folds for each of 40 candidates, totalling 160 fits\n",
      "Classification Report is:\n",
      "               precision    recall  f1-score   support\n",
      "\n",
      "           1       1.00      1.00      1.00        69\n",
      "           2       1.00      1.00      1.00        59\n",
      "           3       1.00      1.00      1.00        72\n",
      "\n",
      "    accuracy                           1.00       200\n",
      "   macro avg       1.00      1.00      1.00       200\n",
      "weighted avg       1.00      1.00      1.00       200\n",
      "\n",
      "\n",
      " F1:\n",
      " 1.0\n",
      "\n",
      " Precision score is:\n",
      " 1.0\n",
      "\n",
      " Recall score is:\n",
      " 1.0\n",
      "\n",
      " Confusion Matrix:\n",
      "\n"
     ]
    },
    {
     "data": {
      "text/plain": [
       "<AxesSubplot:>"
      ]
     },
     "execution_count": 14,
     "metadata": {},
     "output_type": "execute_result"
    }
   ],
   "source": [
    "##################################################################################################################\n",
    "#####################################  DECISION_TREE_CLASSIFIER_MODEL   ##########################################\n",
    "##################################################################################################################\n",
    "\n",
    "# from sklearn.tree import DecisionTreeClassifier\n",
    "\n",
    "# Create the parameter grid based on the results of random search \n",
    "params = {\n",
    "    'max_depth': [5, 10, 20,25],\n",
    "    'min_samples_leaf': [10, 20, 50, 100,120],\n",
    "    'criterion': [\"gini\", \"entropy\"]\n",
    "}\n",
    "\n",
    "dt = DecisionTreeClassifier()\n",
    "# Making the model\n",
    "grid_search = GridSearchCV(estimator=dt, \n",
    "                           param_grid=params, \n",
    "                           cv=4, n_jobs=-1, verbose=1, scoring = \"accuracy\")\n",
    "\n",
    "# Train the model\n",
    "best_model=grid_search.fit(X_train, y_train)\n",
    "\n",
    "# Test the model\n",
    "dt_pred=best_model.predict(X_test)\n",
    "\n",
    "# Evaluate the model\n",
    "print(\"Classification Report is:\\n\",classification_report(y_test,dt_pred))\n",
    "print(\"\\n F1:\\n\",f1_score(y_test,dt_pred,average='macro'))\n",
    "print(\"\\n Precision score is:\\n\",precision_score(y_test,dt_pred,average='macro'))\n",
    "print(\"\\n Recall score is:\\n\",recall_score(y_test,dt_pred,average='macro'))\n",
    "print(\"\\n Confusion Matrix:\\n\")\n",
    "\n",
    "sns.heatmap(confusion_matrix(y_test,dt_pred))\n"
   ]
  },
  {
   "cell_type": "markdown",
   "id": "c3c6018f",
   "metadata": {},
   "source": [
    "## <font color='#4287f5'>Lets see the features selected by our decision tree model.....</font>"
   ]
  },
  {
   "cell_type": "code",
   "execution_count": 17,
   "id": "fbea2290",
   "metadata": {},
   "outputs": [
    {
     "name": "stderr",
     "output_type": "stream",
     "text": [
      "No handles with labels found to put in legend.\n"
     ]
    },
    {
     "data": {
      "image/png": "[encoded data removed]",
      "text/plain": [
       "<Figure size 432x288 with 1 Axes>"
      ]
     },
     "metadata": {
      "needs_background": "light"
     },
     "output_type": "display_data"
    }
   ],
   "source": [
    "# Decision Tree\n",
    "from sklearn.tree import DecisionTreeClassifier\n",
    "dt_model = DecisionTreeClassifier(random_state=0)\n",
    "y_pred = dt_model.fit(X_train, y_train).predict(X_test)\n",
    "\n",
    "# Finding the variable with more importance\n",
    "feature_importance = pd.DataFrame([X_train.columns, dt_model.feature_importances_])\n",
    "feature_importance = feature_importance.T.sort_values(by = 1, ascending=False)[1:15]\n",
    "\n",
    "sns.barplot(x=feature_importance[1], y=feature_importance[0])\n",
    "# Add labels to the graph\n",
    "plt.xlabel('Feature Importance Score')\n",
    "plt.ylabel('Features')\n",
    "plt.title(\"Visualizing Important Features\")\n",
    "plt.legend()\n",
    "plt.show()"
   ]
  },
  {
   "cell_type": "markdown",
   "id": "e1f96a3b",
   "metadata": {},
   "source": [
    "AI Model is accurate in predicting the classes but If I want to convince Doctor on what basis it is predicting the results, I along with my model lose with huge margin...!!!\n",
    "\n",
    "As a doctor, I never diagnose jaundice with 'urine_bilirubin' as a feature..."
   ]
  },
  {
   "cell_type": "markdown",
   "id": "8dbd9fdc",
   "metadata": {},
   "source": [
    "### Let see what Random Forest can perform..."
   ]
  },
  {
   "cell_type": "code",
   "execution_count": 18,
   "id": "9c538f79",
   "metadata": {},
   "outputs": [
    {
     "name": "stdout",
     "output_type": "stream",
     "text": [
      "Classification Report is:\n",
      "               precision    recall  f1-score   support\n",
      "\n",
      "           1       1.00      1.00      1.00        69\n",
      "           2       1.00      1.00      1.00        59\n",
      "           3       1.00      1.00      1.00        72\n",
      "\n",
      "    accuracy                           1.00       200\n",
      "   macro avg       1.00      1.00      1.00       200\n",
      "weighted avg       1.00      1.00      1.00       200\n",
      "\n",
      "\n",
      " F1:\n",
      " 1.0\n",
      "\n",
      " Precision score is:\n",
      " 1.0\n",
      "\n",
      " Recall score is:\n",
      " 1.0\n",
      "\n",
      " Confusion Matrix:\n",
      "\n"
     ]
    },
    {
     "data": {
      "text/plain": [
       "<AxesSubplot:>"
      ]
     },
     "execution_count": 18,
     "metadata": {},
     "output_type": "execute_result"
    },
    {
     "data": {
      "image/png": "[encoded data removed]",
      "text/plain": [
       "<Figure size 432x288 with 2 Axes>"
      ]
     },
     "metadata": {
      "needs_background": "light"
     },
     "output_type": "display_data"
    }
   ],
   "source": [
    "##################################################################################################################\n",
    "#####################################  RANDOM_FOREST_CLASSIFIER_MODEL   ##########################################\n",
    "##################################################################################################################\n",
    "\n",
    "# from sklearn.ensemble import RandomForestClassifier\n",
    "\n",
    "# define models and parameters\n",
    "model = RandomForestClassifier()\n",
    "n_estimators = [1800]\n",
    "max_features = ['sqrt', 'log2']\n",
    "\n",
    "# Making the model\n",
    "grid = dict(n_estimators=n_estimators,max_features=max_features)\n",
    "cv = RepeatedStratifiedKFold(n_splits=10, n_repeats=3, random_state=1)\n",
    "grid_search = GridSearchCV(estimator=model, param_grid=grid, n_jobs=-1, cv=cv, scoring='accuracy',error_score=0)\n",
    "\n",
    "# Train the model\n",
    "best_model = grid_search.fit(X_train, y_train)\n",
    "\n",
    "# Test the model\n",
    "rf_pred=best_model.predict(X_test)\n",
    "\n",
    "# Evaluate the model\n",
    "print(\"Classification Report is:\\n\",classification_report(y_test,rf_pred))\n",
    "print(\"\\n F1:\\n\",f1_score(y_test,rf_pred,average='macro'))\n",
    "print(\"\\n Precision score is:\\n\",precision_score(y_test,rf_pred,average='macro'))\n",
    "print(\"\\n Recall score is:\\n\",recall_score(y_test,rf_pred,average='macro'))\n",
    "print(\"\\n Confusion Matrix:\\n\")\n",
    "\n",
    "sns.heatmap(confusion_matrix(y_test,rf_pred))"
   ]
  },
  {
   "cell_type": "markdown",
   "id": "37b5c910",
   "metadata": {},
   "source": [
    "Again, best results but lets see the features which it had selected..."
   ]
  },
  {
   "cell_type": "code",
   "execution_count": 19,
   "id": "35a77f64",
   "metadata": {},
   "outputs": [
    {
     "name": "stderr",
     "output_type": "stream",
     "text": [
      "No handles with labels found to put in legend.\n"
     ]
    },
    {
     "data": {
      "image/png": "[encoded data removed]",
      "text/plain": [
       "<Figure size 432x288 with 1 Axes>"
      ]
     },
     "metadata": {
      "needs_background": "light"
     },
     "output_type": "display_data"
    }
   ],
   "source": [
    "# Lets see the top features which has been selected by random forest to classify\n",
    "rf_model = RandomForestClassifier(random_state=1)\n",
    "y_pred = rf_model.fit(X_train, y_train).predict(X_test)\n",
    "\n",
    "# Finding the variable with more importance\n",
    "feature_importance = pd.DataFrame([X_train.columns, rf_model.feature_importances_])\n",
    "feature_importance = feature_importance.T.sort_values(by = 1, ascending=False)[1:15]\n",
    "\n",
    "import seaborn as sns\n",
    "sns.barplot(x=feature_importance[1], y=feature_importance[0])\n",
    "# Add labels to the graph\n",
    "plt.xlabel('Feature Importance Score')\n",
    "plt.ylabel('Features')\n",
    "plt.title(\"Visualizing Important Features\")\n",
    "plt.legend()\n",
    "plt.show()"
   ]
  },
  {
   "cell_type": "markdown",
   "id": "3423999a",
   "metadata": {},
   "source": [
    "Nice!!!!\n",
    "This model had taken many features into consideration while predicting.....However, urine_bile_salts must not be the top criterion...."
   ]
  },
  {
   "cell_type": "code",
   "execution_count": 20,
   "id": "8d42677f",
   "metadata": {},
   "outputs": [
    {
     "name": "stderr",
     "output_type": "stream",
     "text": [
      "No handles with labels found to put in legend.\n"
     ]
    },
    {
     "name": "stdout",
     "output_type": "stream",
     "text": [
      "              precision    recall  f1-score   support\n",
      "\n",
      "           1       1.00      1.00      1.00        69\n",
      "           2       1.00      1.00      1.00        59\n",
      "           3       1.00      1.00      1.00        72\n",
      "\n",
      "    accuracy                           1.00       200\n",
      "   macro avg       1.00      1.00      1.00       200\n",
      "weighted avg       1.00      1.00      1.00       200\n",
      "\n"
     ]
    },
    {
     "data": {
      "image/png": "[encoded data removed]",
      "text/plain": [
       "<Figure size 432x288 with 1 Axes>"
      ]
     },
     "metadata": {
      "needs_background": "light"
     },
     "output_type": "display_data"
    }
   ],
   "source": [
    "############################# AdaBoostClassifier ########################\n",
    "\n",
    "from sklearn.ensemble import AdaBoostClassifier\n",
    "ada_model = AdaBoostClassifier(random_state=0)\n",
    "ada_model.fit(X_train,y_train)\n",
    "\n",
    "y_pred = ada_model.predict(X_test)\n",
    "\n",
    "# Metrics Performance\n",
    "print(classification_report(y_test,y_pred))\n",
    "\n",
    "# Finding the variable with more importance\n",
    "feature_importance = pd.DataFrame([X_train.columns, ada_model.feature_importances_])\n",
    "feature_importance = feature_importance.T.sort_values(by = 1, ascending=False)[1:15]\n",
    "\n",
    "sns.barplot(x=feature_importance[1], y=feature_importance[0])\n",
    "# Add labels to the graph\n",
    "plt.xlabel('Feature Importance Score')\n",
    "plt.ylabel('Features')\n",
    "plt.title(\"Visualizing Important Features\")\n",
    "plt.legend()\n",
    "plt.show()"
   ]
  },
  {
   "cell_type": "markdown",
   "id": "17f2e12a",
   "metadata": {},
   "source": [
    "Nope...These should not be top features of choice...."
   ]
  },
  {
   "cell_type": "code",
   "execution_count": 21,
   "id": "4d15696f",
   "metadata": {},
   "outputs": [
    {
     "name": "stdout",
     "output_type": "stream",
     "text": [
      "[20:05:08] WARNING: C:/Users/Administrator/workspace/xgboost-win64_release_1.5.1/src/learner.cc:1115: Starting in XGBoost 1.3.0, the default evaluation metric used with the objective 'multi:softprob' was changed from 'merror' to 'mlogloss'. Explicitly set eval_metric if you'd like to restore the old behavior.\n"
     ]
    },
    {
     "name": "stderr",
     "output_type": "stream",
     "text": [
      "No handles with labels found to put in legend.\n"
     ]
    },
    {
     "name": "stdout",
     "output_type": "stream",
     "text": [
      "              precision    recall  f1-score   support\n",
      "\n",
      "           1       1.00      1.00      1.00        69\n",
      "           2       0.98      1.00      0.99        59\n",
      "           3       1.00      0.99      0.99        72\n",
      "\n",
      "    accuracy                           0.99       200\n",
      "   macro avg       0.99      1.00      0.99       200\n",
      "weighted avg       1.00      0.99      1.00       200\n",
      "\n"
     ]
    },
    {
     "data": {
      "image/png": "[encoded data removed]",
      "text/plain": [
       "<Figure size 432x288 with 1 Axes>"
      ]
     },
     "metadata": {
      "needs_background": "light"
     },
     "output_type": "display_data"
    }
   ],
   "source": [
    "############################ XGBClassifier ##########################\n",
    "\n",
    "# xg Boost\n",
    "from xgboost import XGBClassifier\n",
    "\n",
    "xg_model = XGBClassifier(random_state=1)\n",
    "xg_model.fit(X_train, y_train)\n",
    "\n",
    "y_pred = xg_model.predict(X_test)\n",
    "\n",
    "from sklearn import metrics\n",
    "metrics.f1_score(y_test,y_pred,average=\"macro\")\n",
    "\n",
    "# Metrics Performance\n",
    "print(classification_report(y_test,y_pred))\n",
    "\n",
    "# Finding the variable with more importance\n",
    "feature_importance = pd.DataFrame([X_train.columns, xg_model.feature_importances_])\n",
    "feature_importance = feature_importance.T.sort_values(by = 1, ascending=False)[1:15]\n",
    "\n",
    "sns.barplot(x=feature_importance[1], y=feature_importance[0])\n",
    "# Add labels to the graph\n",
    "plt.xlabel('Feature Importance Score')\n",
    "plt.ylabel('Features')\n",
    "plt.title(\"Visualizing Important Features\")\n",
    "plt.legend()\n",
    "plt.show()"
   ]
  },
  {
   "cell_type": "markdown",
   "id": "afb876bc",
   "metadata": {},
   "source": [
    "Poor!!!"
   ]
  },
  {
   "cell_type": "markdown",
   "id": "9e8cc1ca",
   "metadata": {},
   "source": [
    "# Among many models, Random Forest Classifier is the best model which performed well so far...However,there's always scope for improvement...."
   ]
  },
  {
   "cell_type": "code",
   "execution_count": null,
   "id": "d13da75c",
   "metadata": {},
   "outputs": [],
   "source": []
  }
 ],
 "metadata": {
  "kernelspec": {
   "display_name": "Python 3 (ipykernel)",
   "language": "python",
   "name": "python3"
  },
  "language_info": {
   "codemirror_mode": {
    "name": "ipython",
    "version": 3
   },
   "file_extension": ".py",
   "mimetype": "text/x-python",
   "name": "python",
   "nbconvert_exporter": "python",
   "pygments_lexer": "ipython3",
   "version": "3.9.7"
  }
 },
 "nbformat": 4,
 "nbformat_minor": 5
}
