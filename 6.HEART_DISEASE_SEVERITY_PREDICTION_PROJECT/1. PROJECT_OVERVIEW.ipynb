{
 "cells": [
  {
   "cell_type": "markdown",
   "id": "c01cb50e",
   "metadata": {},
   "source": [
    "# <div style=\"display:fill;border-radius:5px;background-color:#676F9F;letter-spacing:0.5px;overflow:hidden\"><p style=\"padding:20px;color:#F1EFF5;overflow:hidden;margin:0;font-size:150%;font-style: Helvetica;text-align:center\"><b></b>WHAT IF DOCTOR🧑‍⚕️ PREPARES AN AI MODEL??🤔</p></div>"
   ]
  },
  {
   "cell_type": "markdown",
   "id": "85ab86d5",
   "metadata": {},
   "source": [
    "Before diving into the notebook, I would like to introduce myself. I am a doctor graduated in the year 2020. As we all know, nobody would like to remember this year in the ever future because the world has witnessed an invisible life threatening zombie, so called 'SARS-COVID-19'. This bug has let my faith in science to decrease because when patients are feeling breathless,I have no any other so called 'scientific drugs'(products of biochemical science) to prescribe apart from oxygen.\n",
    "\n",
    "We the young doctors, freshly graduated had come across situations which most of the doctors hate to do i.e,'Declaring death of the patient'. Not even started the carrier, I had declared deaths of many  patient😔. Initial days of pandemic were tough but later on, we acclimatized.\n",
    "\n",
    "During the days of my quarantine after COVID duties, I used to live with my siblings who are computer scientists. This is when, I came across AI, during conversations we had about our working areas. I became interested so much so that I wanted to badly know the principles of AI. After this, I took online courses on programming language, data science, machine learning courses to get an intuition about AI.\n",
    "\n",
    "I try my level best to get and give contributions to the field of healthcare by applying priciples of AI (ofcourse,can't overdrive the medical scientific facts).\n",
    "\n",
    "At this point of time, I have an intuition of how AI works. As per my understanding, I think we all have the best engines in the form of mathematical models( LR,SVM,XGB,ANN...etc) but we are trying to drive the car by adding adultered fuel(i.e, problem related to data). So,my area of focus is all in data related issues and I would like to contribute/opine on these issues. "
   ]
  },
  {
   "cell_type": "markdown",
   "id": "7728b048",
   "metadata": {},
   "source": [
    "# <div style=\"display:fill;border-radius:5px;background-color:#676F9F;letter-spacing:0.5px;overflow:hidden\"><p style=\"padding:20px;color:#F1EFF5;overflow:hidden;margin:0;font-size:110%;text-align:center\"><b></b>HEART_DISEASE_SEVERITY_PREDICTION_PROJECT</p></div>"
   ]
  },
  {
   "cell_type": "markdown",
   "id": "6b479773",
   "metadata": {},
   "source": [
    "## <font color='#4287f5'>Before we start, lets know about the disease which we are working in😇... </font>"
   ]
  },
  {
   "cell_type": "markdown",
   "id": "a79af3dc",
   "metadata": {},
   "source": [
    "**MESSAGE TO VIEWERS:** I have included quietly a more information about the disease we are working in this project. Please,dont lose your patience while going through. If you already know about the disease, you can skip this notebook and refer the next one. Thank you...."
   ]
  },
  {
   "cell_type": "markdown",
   "id": "da567889",
   "metadata": {},
   "source": [
    "SOURCE OF IMAGES AND INFORMATION: I have included the information which is taken from textbook of 'Netter's Cardiology,2nd Edition'"
   ]
  },
  {
   "cell_type": "markdown",
   "id": "031fd16a",
   "metadata": {},
   "source": [
    "<!DOCTYPE html>\n",
    "<html>\n",
    "<body>\n",
    "\n",
    "<h2 style= \"text-align:center;color:#4A5154;font-size:120%;\"><u>  </u></h2>\n",
    "<img src=\"CAD.png\" alt=\"m\" width=\"500\" height=\"233\">\n",
    "\n",
    "</body>\n",
    "</html>"
   ]
  },
  {
   "cell_type": "markdown",
   "id": "34cea48a",
   "metadata": {},
   "source": [
    "**Cardiovascular diseases (CVDs)**—*coronary artery disease(CAD), hypertension, congestive heart failure, and stroke*—are the leading cause of death and disability in elderly individuals in the Western world. In the United States, the CVD death toll is nearly 1 million each year, and the estimated cost of CVD treatment was over $400 billion for 2006, with the likelihood that the incidence of CVD will continue to increase as the population ages and because of the marked increases in diabetes and obesity that are occurring today."
   ]
  },
  {
   "cell_type": "markdown",
   "id": "2cb86b58",
   "metadata": {},
   "source": [
    "* Although the prevalence of atherosclerotic disease continues to increase in developed countries, death rates from CVDs in the United States have decreased by more than a third in the past 2 decades. This effect is due to primary and secondary prevention strategies and to improvements in care and rehabilitation of patients with atherosclerotic diseases.\n",
    "\n",
    "* Despite this encouraging news, atherosclerotic diseases remain an enormous challenge for the clinician, for several reasons. Many preventive strategies involve lifestyle changes that test the compliance of even the most devoted patients. \n",
    "\n",
    "* The disease itself progresses silently for decades before symptoms develop, and the initial clinical presentation of atherosclerotic disease is often a catastrophic event, such as **myocardial infarction (MI), stroke, or sudden cardiac death (SCD)**.\n",
    "\n",
    "* The diagnosis of atherosclerotic disease, particularly through noninvasive methods, is imperfect, and clinical manifestations of atherosclerotic diseases are often subtle and easily mistaken for causes that are more benign. Therefore, although the diagnosis and treatment of atherosclerotic diseases remain of paramount importance, the promise of future advances rests in a more detailed understanding of atherosclerosis, leading to earlier diagnosis and prevention that is ultimately more effective."
   ]
  },
  {
   "cell_type": "markdown",
   "id": "4228426f",
   "metadata": {},
   "source": [
    "## <font color='#4287f5'>How the disease process begins?(ETIOPATHOGENESIS)... </font>"
   ]
  },
  {
   "cell_type": "markdown",
   "id": "21c891f8",
   "metadata": {},
   "source": [
    "Atherosclerotic plaques lead to clinical events (angina, MI) by two mechanisms.\\\n",
    "A. First, with gradual enlargement, plaques may obstruct blood flow within epicardial vessels, resulting in ischemia to the myocardial tissue dependent on the affected vessel’s blood supply.\\\n",
    "B. Alternatively, plaques may become symptomatic because of acute rupture or thrombosis, resulting in catastrophic acute occlusion of a vessel, the hallmark of MI.\\\n",
    "Indeed, the two mechanisms are apt to be linked, because less catastrophic (and subclinical) episodes of plaque rupture are probably one of the mechanisms by which nonocclusive plaques enlarge to become symptomatic."
   ]
  },
  {
   "cell_type": "markdown",
   "id": "8b96cb8c",
   "metadata": {},
   "source": [
    "<!DOCTYPE html>\n",
    "<html>\n",
    "<body>\n",
    "\n",
    "<h2 style= \"text-align:center;color:#4A5154;font-size:120%;\"><u>  </u></h2>\n",
    "<img src=\"CADP.png\" alt=\"m\" width=\"500\" height=\"233\">\n",
    "\n",
    "</body>\n",
    "</html>"
   ]
  },
  {
   "cell_type": "markdown",
   "id": "4115c101",
   "metadata": {},
   "source": [
    "The overall steps in the formation of atherosclerotic plaques can be summarized as follows: \n",
    "1) **Endothelial cell injury** is the **1st step** in the pathogenesis of atherosclerosis. Most of the well characterized risk factors for atherosclerosis (hypertension, diabetes mellitus, cigarette smoking, hyperlipidemia, advanced age, elevated plasma homocysteine concentrations) injure the endothelium, initiating a chain of events, all attributing to atherosclerosis\n",
    "\n",
    "2) **Infiltration of macrophage** into the intima. Platelet adherence to damaged endothelium.\n",
    "\n",
    "3) **Release** of various **inflammatory mediators like cytokines and growth factors** resulting in **Hyperplasia** of smooth muscle cells\n",
    "\n",
    "4) Proliferation of SMCs & macrophage accumulates in intima\n",
    "\n",
    "5) **Cholesterol** (carried by Low Density Lipoproteins – LDL) enters into this macrophage and is nowcalled as **foam cells**. This will lead to formation of fatty streak, which is commonly found at very young age in most of us.Fatty streak is not pathology.Now HDL will come and take up the cholesterol & deliver it to the liver. LDL will later on resend cholesterol in intima from the liver & cycle continues.Normally, this cycle is well controlled, however when there are imbalance or enzymatic reactions between HDL & LDL due to various stressors, this will result in accumulation of cholesterol & further development into athermatous plaque.\n",
    "\n",
    "6) Smooth muscle cells & macrophage now release various component of extracellular matrix likeproteoglycans, collagen elastin etc. Other inflammatory cytokines release by them includes metalloproteinases, thromboxane A2, PlateletDerived Growth Factors (PDGF) and others.\n",
    "\n",
    "7) This components result in formation of **fibrous cap** surrounding this debris (Necrotic cells alongwith foam cells, accumulates in center). This is the **primary lesion of atherosclerosis.**\n",
    "\n",
    "8) Plaque can **rupture** and lead to vessel **thrombosis** (Necrotic core is exposed to the endothelialsurface which then serve as a nidus for the formation of thrombus) & this will lead to various clinicalpresentations depending upon the site of involvement.\n",
    "\n",
    "9) Dystrophic **calcification** and **ulceration** in plaque can occur.\n"
   ]
  },
  {
   "cell_type": "markdown",
   "id": "5496e8eb",
   "metadata": {},
   "source": [
    "## For Non-Medicos, understanding the mechanism made simple..."
   ]
  },
  {
   "cell_type": "code",
   "execution_count": null,
   "id": "3c92d902",
   "metadata": {},
   "outputs": [],
   "source": [
    "################################## MECHANISM OF ATHEROSCLEROSIS FORMATION ###############################################\n",
    "\n",
    "       RISK-FACTORS LIKE HYPERTENSION,DIABETES,CIGARETTE SMOKING,HIGH CHOLESTEROL,FAMILY HISTORY(GENETICS) \n",
    "                                                |\n",
    "                                                |\n",
    "                                                V\n",
    "                    DAMAGES THE INNER LINING OF YOUR BLOOD VESSELS(mainly Aorta,coronary artery)\n",
    "                                                |\n",
    "                                                |\n",
    "                                                V\n",
    "            The so called 'SOLDIERS' of our body comes to rescue the damaged blood vessels ('MACROPHAGES')\n",
    "                                                |\n",
    "                                                | With the help of macrophages, Platelets adhere to damaged blood vessels\n",
    "                                                V\n",
    "            These soldiers along with platelets and other cells, release of chemicals take place \n",
    "        inorder to renew the lining of blood vessel which results in thickening of blood vessel layer('HYPERPLASIA')\n",
    "                      thereby, narrowing the arterial diameter.\n",
    "                                                |\n",
    "                                                |\n",
    "                                                V\n",
    "                    Now ,'CHOLESTEROL' comes to the scenario and further creates problem \n",
    "                                                |\n",
    "In normal individuals, there is balance         | There are mainly 2 types of proteins which help in carrying Cholesterol in our\n",
    "between HDL and LDL. But when this balance      | body viz HDL & LDL.HDL-> Good cholesterol -> because,it carries cholesterol \n",
    "breaks, it creates chaos in the internal        | from the heart to liver. LDL -> Bad -> carries cholesterol from liver to heart\n",
    "harmony                                         |\n",
    "                                                V\n",
    "         The Risk factors mentioned earlier, will break the balance between HDL and LDL thereby, worsens the condition.\n",
    "         As a result, Cholesterol starts accumulating in the inner layer of blood vessels\n",
    "                                                |\n",
    "                                                |  At the same time,macrophages,platelets and others,start releasing various \n",
    "                                                |  chemical mediators.\n",
    "                                                V\n",
    "        This components result in formation of fibrous cap surrounding the fatty streaks.\n",
    "                    This is the primary lesion of atherosclerosis. \n",
    "                                                |\n",
    "                                                |\n",
    "                                                V\n",
    "            'THROMBOSIS'(occlusion of blood vessels) occurs if the plaque is ruptured from the lining,thereby \n",
    "                          causing 'ANGINA'(MYOCARDIAL INFARCTION)"
   ]
  },
  {
   "cell_type": "markdown",
   "id": "96b95f59",
   "metadata": {},
   "source": [
    "## <font color='#4287f5'>RISK FACTORS... </font>"
   ]
  },
  {
   "cell_type": "markdown",
   "id": "7940af12",
   "metadata": {},
   "source": [
    "<!DOCTYPE html>\n",
    "<html>\n",
    "<body>\n",
    "\n",
    "<h2 style= \"text-align:center;color:#4A5154;font-size:120%;\"><u>  </u></h2>\n",
    "<img src=\"CAD_RF.png\" alt=\"m\" width=\"800\" height=\"233\">\n",
    "\n",
    "</body>\n",
    "</html>"
   ]
  },
  {
   "cell_type": "markdown",
   "id": "b17f4f9f",
   "metadata": {},
   "source": [
    "* Hypertension - Accelerates atherosclerosis by producing endothelial cell dysfunction.Renal artery atherosclerosis may activate the renin-angiotensin-aldosterone system & further worsen the hypertension.\n",
    "* Diabetes mellitus (DM) – begins with non-enzymatic glycosylation of endothelium\n",
    "* Cigarette smoking\n",
    "* Infections like Chlamydia Pneumoniae\n",
    "* Toxins & metabolic problems like elevated homocysteine, hyperlipidemias, oxidized LDL\n",
    "* Functional change in endothelium due to increased oxidative stress or abnormalities in coagulation or platelets\n",
    "* Obesity, lack of exercise, family history (multiple genes)\n"
   ]
  },
  {
   "cell_type": "markdown",
   "id": "c234bfb5",
   "metadata": {},
   "source": [
    "## <font color='#4287f5'>SITE OF INVOLVEMENT.... </font>"
   ]
  },
  {
   "cell_type": "markdown",
   "id": "e6e14e97",
   "metadata": {},
   "source": [
    "* Abdominal aorta (most common)\n",
    "* Coronary artery (2nd most common)\n",
    "* Popliteal artery\n",
    "* Internal carotid artery"
   ]
  },
  {
   "cell_type": "markdown",
   "id": "89b216d9",
   "metadata": {},
   "source": [
    "## <font color='#4287f5'>CLINICAL FEATURES.... </font>"
   ]
  },
  {
   "cell_type": "markdown",
   "id": "c61098ac",
   "metadata": {},
   "source": [
    "There are three classic clinical presentations of coronary atherosclerosis.\n",
    "* The first is **angina pectoris**, the characteristic **ischemia-induced chest pain**.\n",
    "    - The chest pain of angina is typically retrosternal, with radiation to the arms and neck, and is often accompanied by dyspnea. \n",
    "    - Angina may occur predictably with exertion (stable angina) or, more ominously, at rest or in an accelerating pattern (unstable angina).\n",
    "    - The symptoms of stable angina are often subtle and difficult to distinguish from other causes of chest discomfort. \n",
    "    - This is particularly true in women, in whom the typical symptoms described herein are less commonly present.\n",
    "\n",
    "\n",
    "* If not treated promptly, **unstable angina** may be a harbinger of MI, the second classic presentation of atherosclerosis. \n",
    "    - Patients with MI frequently, but not exclusively, present with chest pain; however, unlike anginal pain, the pain of MI is typically unremitting and more severe and may be accompanied by autonomic symptoms, such as nausea and vomiting.\n",
    "    - Arrhythmias may ensue from ischemia-induced electrical instability of the myocardium. \n",
    "    - In severe cases, symptoms of heart failure because of acute left or right ventricular dysfunction may also be present. \n",
    "    - Ventricular dysfunction is an ominous sign in patients with MI and merits prompt attention.\n",
    "    \n",
    "    \n",
    "* The third presentation of atherosclerosis is **SCD(Sudden Cardiac Death)** due to **ventricular fibrillation**, which is the first clinical manifestation of coronary atherosclerosis in about 25% of patients with the disease.\n",
    "    - The only hope of survival for patients who present with SCD is prompt administration of cardiopulmonary resuscitation and ventricular defibrillation. \n",
    "    - Several studies have demonstrated that community-based efforts to train the public in resuscitation techniques, to provide access to automatic external defibrillation devices, and to improve emergency medical access improve survival in out-of hospital SCD. \n",
    "    - Resuscitation after SCD is more effective in patients admitted to the hospital, largely because of continuous electrocardiographic monitoring and the development of coronary care units that provide advanced care for patients who experienced MI.\n"
   ]
  },
  {
   "cell_type": "markdown",
   "id": "a11bc347",
   "metadata": {},
   "source": [
    "## <font color='#4287f5'>COMPLICATIONS.... </font>"
   ]
  },
  {
   "cell_type": "markdown",
   "id": "e7bd271a",
   "metadata": {},
   "source": [
    "Depend on which arteries are blocked -\n",
    "* **Coronary artery disease** – Left anterior descending artery is more commonly affected than right coronary artery. Narrowing will result in angina or acute myocardial infarction on plaque rupture.\n",
    "* **Carotid artery disease** – Narrowing of internal carotid artery, middle cerebral artery more commonly results in transient ischemic attacks or stroke.\n",
    "* **Peripheral artery disease** - Narrow arteries in your arms or leg - symptoms like claudication, slow healing of wounds, foot ulcers, cool skin temperature, diminished hair & nail growth in extremities, diminished pedal pulse, bruits can be present. In rare cases, poor circulation in your arms or legs can cause tissue death (gangrene).\n",
    "* **Aneurysms** - Most people with aneurysms have no symptoms. Pain and throbbing in the area of an aneurysm may occur and is a medical emergency. If an aneurysm bursts, life-threatening internal bleeding will occur."
   ]
  },
  {
   "cell_type": "markdown",
   "id": "800591aa",
   "metadata": {},
   "source": [
    "**\" I think this is more enough to start building our project. The main objective of this project is to classify the severity of heart disease from the features present in 'Cleveland Heart Disease Prediction Dataset' so that we can seggregate the patients based on the outcome and closely monitored as per the standard protocols.\"**"
   ]
  },
  {
   "cell_type": "markdown",
   "id": "edba5976",
   "metadata": {},
   "source": [
    "Thank you, lets see in the next notebook."
   ]
  },
  {
   "cell_type": "code",
   "execution_count": null,
   "id": "43196e78",
   "metadata": {},
   "outputs": [],
   "source": []
  }
 ],
 "metadata": {
  "hide_input": false,
  "kernelspec": {
   "display_name": "Python 3 (ipykernel)",
   "language": "python",
   "name": "python3"
  },
  "language_info": {
   "codemirror_mode": {
    "name": "ipython",
    "version": 3
   },
   "file_extension": ".py",
   "mimetype": "text/x-python",
   "name": "python",
   "nbconvert_exporter": "python",
   "pygments_lexer": "ipython3",
   "version": "3.9.7"
  }
 },
 "nbformat": 4,
 "nbformat_minor": 5
}
