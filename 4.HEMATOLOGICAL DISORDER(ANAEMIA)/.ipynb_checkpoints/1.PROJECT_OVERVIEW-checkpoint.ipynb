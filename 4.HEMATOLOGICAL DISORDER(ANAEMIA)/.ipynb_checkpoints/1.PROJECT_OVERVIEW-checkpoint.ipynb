{
 "cells": [
  {
   "cell_type": "markdown",
   "id": "15d4a190",
   "metadata": {},
   "source": [
    "# <div style=\"display:fill;border-radius:5px;background-color:#676F9F;letter-spacing:0.5px;overflow:hidden\"><p style=\"padding:20px;color:#F1EFF5;overflow:hidden;margin:0;font-size:150%;font-style: Helvetica;text-align:center\"><b></b>WHAT IF DOCTOR🧑‍⚕️ PREPARES AN AI MODEL??🤔</p></div>"
   ]
  },
  {
   "cell_type": "markdown",
   "id": "c34f8ece",
   "metadata": {},
   "source": [
    "Before diving into the notebook, I would like to introduce myself. I am a doctor graduated in the year 2020. As we all know, nobody would like to remember this year in the ever future because the world has witnessed an invisible life threatening zombie, so called 'SARS-COVID-19'. This bug has let my faith in science to decrease because when patients are feeling breathless,I have no any other so called 'scientific drugs'(products of biochemical science) to prescribe apart from oxygen.\n",
    "\n",
    "We the young doctors, freshly graduated had come across situations which most of the doctors hate to do i.e,'Declaring death of the patient'. Not even started the carrier, I had declared deaths of many  patient😔. Initial days of pandemic were tough but later on, we acclimatized.\n",
    "\n",
    "During the days of my quarantine after COVID duties, I used to live with my siblings who are computer scientists. This is when, I came across AI, during conversations we had about our working areas. I became interested so much so that I wanted to badly know the principles of AI. After this, I took online courses on programming language, data science, machine learning courses to get an intuition about AI.\n",
    "\n",
    "I try my level best to get and give contributions to the field of healthcare by applying priciples of AI (ofcourse,can't overdrive the medical scientific facts).\n",
    "\n",
    "At this point of time, I have an intuition of how AI works. As per my understanding, I think we all have the best engines in the form of mathematical models( LR,SVM,XGB,ANN...etc) but we are trying to drive the car by adding adultered fuel(i.e, problem related to data). So,my area of focus is all in data related issues and I would like to contribute/opine on these issues. "
   ]
  },
  {
   "cell_type": "markdown",
   "id": "1b6ba22e",
   "metadata": {},
   "source": [
    "# <div style=\"display:fill;border-radius:5px;background-color:#676F9F;letter-spacing:0.5px;overflow:hidden\"><p style=\"padding:20px;color:#F1EFF5;overflow:hidden;margin:0;font-size:110%;text-align:center\"><b></b> CLASSIFICATION OF ANAEMIA PROJECT </p></div>"
   ]
  },
  {
   "cell_type": "markdown",
   "id": "4206e883",
   "metadata": {},
   "source": [
    "## <font color='#4287f5'>Before we start, lets know about the disease which we are working in😇... </font>"
   ]
  },
  {
   "cell_type": "markdown",
   "id": "f42b378e",
   "metadata": {},
   "source": [
    "* Anaemia is defined as a state in which the blood haemoglobin level is below the normal range for the patient's age, sex\n",
    "and altitude of residence.\n",
    "* Normal adult haemoglobin level lies between 13-16 g/dL in males and 11.5-15.0 g/dL in females."
   ]
  },
  {
   "cell_type": "markdown",
   "id": "782c4aba",
   "metadata": {},
   "source": [
    "If I want to describe this in layman terms in India, it is <i><b>\"tumhara andar khoon bahut kam hai\"<b/><i/>(\"very less blood in your body\") "
   ]
  },
  {
   "cell_type": "markdown",
   "id": "93f70260",
   "metadata": {},
   "source": [
    "But **what actually is it?** The answer is \"decrease in the normal hemoglobin level in our body\" and **why does this happen?** the most common answer for the latter (if the same question asked in India) is \"because of iron deficiency in our body, commonly called nutritional anaemia\" but there are numerous causes predisposing to anaemia which we will shortly read on..."
   ]
  },
  {
   "cell_type": "markdown",
   "id": "95ea2354",
   "metadata": {},
   "source": [
    "## <font color='#4287f5'>Before we start, How causes of anaemia be classified?... </font>"
   ]
  },
  {
   "cell_type": "markdown",
   "id": "c6bb274c",
   "metadata": {},
   "source": [
    "* Anaemias can be classified in two ways:\n",
    "1. Based on the cause of anaemia.\n",
    "2. Based on the morphology of red cells.\n",
    "\n",
    "**1. Based on the cause of anaemia**\n",
    "* A.Blood loss, which may be acute or chronic\n",
    "       • Acute (large volume over short period)\n",
    "       • Chronic (small volume over long period)\n",
    "* B.Inadequate production of normal red cells\n",
    "* C.Excessive destruction of red cells\n",
    "\n",
    "**2.Based on the morphology of red cells**\n",
    "* Normocytic\n",
    "* Microcytic\n",
    "* Macrocytic"
   ]
  },
  {
   "cell_type": "markdown",
   "id": "2e4ffd91",
   "metadata": {},
   "source": [
    "**Aetiology(causes):** \n",
    "\n",
    "**A.) Due to blood loss**\n",
    "* Acute blood loss: Trauma, post-partum bleeding \n",
    "* Chronic blood loss: Hook worms, bleeding peptic ulcer, haemorrhoids, excessive menstrual loss\n",
    "\n",
    "**B.) Due to inadequate production of normal red cells**\n",
    "* Deficiency: Iron, vitamin B12, folate\n",
    "* Toxic factors: Chronic inflammatory and infective diseases, renal failure, hepatic failure, drugs leading to aplastic anaemia\n",
    "* Endocrine deficiency: Hypothyroidism, hypoadrenalism, reduced EPO due to renal failure, hypogonadism, hypopituitarism\n",
    "* Marrow invasion: Leukaemias, fibrosis, secondary carcinoma\n",
    "* Marrow failure: Hypoplastic, aplastic anaemia \n",
    "* Maldevelopment: Sideroblastic anaemia, haemoglobinopathies like sickle cell disease and thalassaemias, neoplastic disorders of erythropoiesis \n",
    "\n",
    "**C.) Due to excessive destruction of red cells (Haemolytic anaemias)**\n",
    "* Genetic disorders: Red cell membrane, haemoglobin or enzyme abnormalities\n",
    "* Acquired disorders: immune, toxic, mechanical and infectious causes"
   ]
  },
  {
   "cell_type": "markdown",
   "id": "7b3ed523",
   "metadata": {},
   "source": [
    "### <font color='#4287f5'>How the disease manifests... </font>"
   ]
  },
  {
   "cell_type": "markdown",
   "id": "600708fd",
   "metadata": {},
   "source": [
    "**Clinical Features:** \n",
    "\n",
    "**Symptoms**  \n",
    "\n",
    "* Fatigue(tiredness), lassitude(lack of energy), dyspnoea(difficulty in breathing), palpitation(increased heart beat).\n",
    "* Dizziness(faint),headache,syncope,tinnitus(ringing sensation in the ear),vertigo(becoming faint due to inner ear pathology).\n",
    "* Irritability, sleep disturbances, lack of concentration.\n",
    "* Throbbing in head and ears, paraesthesia(numbness) in fingers and toes.\n",
    "* Anorexia(loss of appetite), indigestion, nausea(vomiting sensation), bowel disturbances.\n",
    "* Angina, intermittent claudication, transient cerebral ischaemia.\n",
    "* Symptoms of cardiac failure.\n",
    "* Amenorrhoea, polymenorrhoea.\n",
    "\n",
    "**Signs** \n",
    "\n",
    "* Pallor of skin, palms, oral mucous membrane, nail beds and palpebral conjunctivae. The palrnar creases become as pale\n",
    "as the surrounding skin when the haemoglobin is below 7 g/dL.\n",
    "* Tachycardia, wide pulse pressure.\n",
    "* Oedema.\n",
    "* Cervical venous hum, hyperdynamic precordium.\n",
    "* Ejection systolic murmur, best heard over the pulmonary area.\n",
    "* Cardiac dilatation and later signs of cardiac failure."
   ]
  },
  {
   "cell_type": "markdown",
   "id": "2c0dd325",
   "metadata": {},
   "source": [
    "Among many symptoms, fatigue and breathlessness are the most common symptoms that patient experiences...."
   ]
  },
  {
   "cell_type": "markdown",
   "id": "c5137aaa",
   "metadata": {},
   "source": [
    "[If you are more interested to know about the disease, you can refer this book 'Harrison's Principles of Internal Medicine'. This book 📖 can be found in the link which follows, <a href=\"https://medicalstudyzone.com\">medicalstudyzone.com</a>]"
   ]
  },
  {
   "cell_type": "markdown",
   "id": "c464e064",
   "metadata": {},
   "source": [
    "### <font color='#4287f5'>Lets look at the approach in finding the cause of anemia... </font>"
   ]
  },
  {
   "cell_type": "markdown",
   "id": "da53809c",
   "metadata": {},
   "source": [
    "<!DOCTYPE html>\n",
    "<html>\n",
    "<body>\n",
    "\n",
    "<h2 style= \"text-align:center;color:#4A5154;font-size:120%;\"><u> Approach to Diagnosis for the Cause of Anaemia  </u></h2>\n",
    "<img src=\"Anaemia.png\" alt=\"m\" width=\"900\" height=\"533\">\n",
    "\n",
    "</body>\n",
    "</html>"
   ]
  },
  {
   "cell_type": "markdown",
   "id": "906ceedf",
   "metadata": {},
   "source": [
    "I want my AI model to classify our problem in the above approach as shown in the tree diagram...."
   ]
  },
  {
   "cell_type": "markdown",
   "id": "f5fffc6c",
   "metadata": {},
   "source": [
    "## <font color='#4287f5'>Lets now start to build our 😍 AI model... </font>\n",
    "\n",
    "The below table shows the steps involved in constructing AI pipeline"
   ]
  },
  {
   "cell_type": "markdown",
   "id": "7d2ad21c",
   "metadata": {},
   "source": [
    "<table>\n",
    "  <tr>\n",
    "    <th><div style=\"display:fill;border-radius:5px;background-color:#676F9F;letter-spacing:0.5px;overflow:hidden\"><p style=\"padding:20px;color:#F1EFF5;overflow:hidden;margin:0;font-size:110%;text-align:center\"><b></b>STEPS</p></div></th>\n",
    "    <th><div style=\"display:fill;border-radius:5px;background-color:#676F9F;letter-spacing:0.5px;overflow:hidden\"><p style=\"padding:20px;color:#F1EFF5;overflow:hidden;margin:0;font-size:110%;text-align:center\"><b></b>CONTENTS</p></div></th>\n",
    "    <th><div style=\"display:fill;border-radius:5px;background-color:#676F9F;letter-spacing:0.5px;overflow:hidden\"><p style=\"padding:20px;color:#F1EFF5;overflow:hidden;margin:0;font-size:110%;text-align:center\"><b></b>DESCRIPTION</p></div></th>\n",
    " \n",
    "  </tr>\n",
    "\n",
    "  <tr>\n",
    "    <td></td>\n",
    "    <td></td>\n",
    "    <td></td>\n",
    "      \n",
    "  </tr>\n",
    "      \n",
    "  <tr>\n",
    "    <td style=\"text-align:center;\"><b>1</b></td>\n",
    "    <td style=\"text-align:left;\"><div style=\"display:fill;border-radius:5px;background-color:#7FBAD5;letter-spacing:0.5px;overflow:hidden\"><p style=\"padding:20px;color:#4A5154;overflow:hidden;margin:0;font-size:110%;text-align:center\"><b>IMPORT REQUIRED LIBRARIES</b></p></div></td>\n",
    "    <td style=\"text-align:left;\"><i>Libraries like numpy, pandas, tf, matplotlib and others will be imported which are required for creating a model</i></td>\n",
    "    \n",
    "  </tr>\n",
    "    \n",
    "  <tr>\n",
    "    <td></td>\n",
    "    <td></td>\n",
    "    <td></td>\n",
    "      \n",
    "  </tr>\n",
    "   \n",
    "  <tr>\n",
    "        <td style=\"text-align:center;\"><b>2</b></td>\n",
    "        <td style=\"text-align:left;\"><div style=\"display:fill;border-radius:5px;background-color:#7FBAD5;letter-spacing:0.5px;overflow:hidden\"><p style=\"padding:20px;color:#4A5154;overflow:hidden;margin:0;font-size:110%;text-align:center\"><b>LOAD THE DATASET</b></p></div></td>\n",
    "        <td style=\"text-align:left;\"><i>We will create the Dataset and the same will be used for our model</i></td>\n",
    "    \n",
    "  </tr>\n",
    "\n",
    "  <tr>\n",
    "    <td></td>\n",
    "    <td></td>\n",
    "    <td></td>\n",
    "      \n",
    "  </tr>\n",
    "    \n",
    "    \n",
    "  <tr>\n",
    "    <td style=\"text-align:center;\"><b>3</b></td>\n",
    "    <td style=\"text-align:left;\"><div style=\"display:fill;border-radius:5px;background-color:#7FBAD5;letter-spacing:0.5px;overflow:hidden\"><p style=\"padding:20px;color:#4A5154;overflow:hidden;margin:0;font-size:110%;text-align:center\"><b>EXPLORATORY DATA ANALYSIS</b></p></div></td>\n",
    "    <td style=\"text-align:left;\">\n",
    "        <p><b> A.Understanding the dataset</b></p>\n",
    "        <p>-Head of the dataset</p>\n",
    "        <p>-Shape of the data set</p>\n",
    "        <p>-Types of columns</p>\n",
    "        <p>-Information about data set</p>\n",
    "        <p>-Summary of the data set</p>\n",
    "        <p><b>B. Data Cleaning</b></p>\n",
    "        <p>- Dropping duplicate values</p>\n",
    "        <p>- Checking NULL values</p>\n",
    "        <p>- Checking for 0 value</p>\n",
    "        <p>- Handling outliers</p></td>\n",
    "    \n",
    "  </tr>\n",
    "    \n",
    "  <tr>\n",
    "    <td></td>\n",
    "    <td></td>\n",
    "    <td></td>\n",
    "      \n",
    "  </tr>\n",
    "     \n",
    "    \n",
    "  <tr>\n",
    "    <td style=\"text-align:center;\"><b>4</b></td>\n",
    "    <td style=\"text-align:left;\"><div style=\"display:fill;border-radius:5px;background-color:#7FBAD5;letter-spacing:0.5px;overflow:hidden\"><p style=\"padding:20px;color:#4A5154;overflow:hidden;margin:0;font-size:110%;text-align:center\"><b>DATA VISUALIZATION</b></p></div></td>\n",
    "    <td style=\"text-align:left;\">\n",
    "        <p><i>Here, we are going to visualise our data by using several plots, including</i></p>\n",
    "        <p>- <u><b> Count Plot </b></u> :- to see if the dataset is balanced or not</p>\n",
    "        <p>- <u><b> Histograms </</b></u> :- to see if data is normally distributed or skewed</p>\n",
    "        <p>- <u><b> Box Plot</b></u> :- to analyse the distribution and see the outliers</p>\n",
    "        <p>- <u><b> Scatter plots</b></u>:- to understand relationship between any two variables</p>\n",
    "        <p>- <u><b> Pair plot</b></u>:- to create scatter plot between all the variables</p></td>\n",
    "    \n",
    "  </tr>\n",
    "    \n",
    "  <tr>\n",
    "    <td></td>\n",
    "    <td></td>\n",
    "    <td></td>\n",
    "      \n",
    "  </tr>\n",
    "  \n",
    "    \n",
    "  <tr>\n",
    "      <td style=\"text-align:center;\"><b>5</b></td>\n",
    "      <td style=\"text-align:left;\"><div style=\"display:fill;border-radius:5px;background-color:#7FBAD5;letter-spacing:0.5px;overflow:hidden\"><p style=\"padding:20px;color:#4A5154;overflow:hidden;margin:0;font-size:110%;text-align:center\"><b>FEATURES SELECTION AND ENGINEERING</b></p></div></td>\n",
    "      <td style=\"text-align:left;\"><i>Here, we are going to select the useful features or columns from the dataset and if it's possible, we are going to engineer the features in a right way which would the help the model to perform better.</i></td>\n",
    "    \n",
    "  </tr>\n",
    "    \n",
    "  <tr>\n",
    "    <td></td>\n",
    "    <td></td>\n",
    "    <td></td>\n",
    "      \n",
    "  </tr>\n",
    "      \n",
    "  <tr>\n",
    "    <td></td>\n",
    "    <td></td>\n",
    "    <td></td>\n",
    "      \n",
    "  </tr>\n",
    "  \n",
    "  <tr>\n",
    "      <td style=\"text-align:center;\"><b>6</b></td>\n",
    "      <td style=\"text-align:left;\"><div style=\"display:fill;border-radius:5px;background-color:#7FBAD5;letter-spacing:0.5px;overflow:hidden\"><p style=\"padding:20px;color:#4A5154;overflow:hidden;margin:0;font-size:110%;text-align:center\"><b>SPLIT THE DATAFRAME INTO X AND Y</b></p></div></td>\n",
    "      <td style=\"text-align:left;\"><i>Here, we are going to split the dataframe into features and labels</i></td>\n",
    "    \n",
    "  </tr>\n",
    "  \n",
    "  <tr>\n",
    "      <td style=\"text-align:center;\"><b>7</b></td>\n",
    "      <td style=\"text-align:left;\"><div style=\"display:fill;border-radius:5px;background-color:#7FBAD5;letter-spacing:0.5px;overflow:hidden\"><p style=\"padding:20px;color:#4A5154;overflow:hidden;margin:0;font-size:110%;text-align:center\"><b>SPLIT THE DATASET INTO TRAIN AND TEST SETS</b></p></div></td>\n",
    "      <td style=\"text-align:left;\"><i>Here, we are going to segregate the data into train and test samples so that our AI model's performance can be analysed without any bias.</i></td>\n",
    "    \n",
    "  </tr>\n",
    "    \n",
    "  <tr>\n",
    "    <td></td>\n",
    "    <td></td>\n",
    "    <td></td>\n",
    "      \n",
    "  </tr>\n",
    "      \n",
    "  <tr>\n",
    "    <td></td>\n",
    "    <td></td>\n",
    "    <td></td>\n",
    "      \n",
    "  </tr>\n",
    "  \n",
    "  \n",
    "  <tr>\n",
    "      <td style=\"text-align:center;\"><b>8</b></td>\n",
    "      <td style=\"text-align:left;\"><div style=\"display:fill;border-radius:5px;background-color:#7FBAD5;letter-spacing:0.5px;overflow:hidden\"><p style=\"padding:20px;color:#4A5154;overflow:hidden;margin:0;font-size:110%;text-align:center\"><b>TRAIN THE CLASSIFICATION ALGORITHM</b></p></div></td>\n",
    "      <td style=\"text-align:left;\">\n",
    "          <p><i>Here, we are going to build several ML Algorithm including</i></p>\n",
    "        <p>- <u><b> Logistic Regression </b></u></p>\n",
    "        <p>- <u><b> Naive Bayes </</b></u> </p>\n",
    "        <p>- <u><b> Support Vector Method</b></u> </p>\n",
    "        <p>- <u><b> Decision Tree</b></u></p>\n",
    "        <p>- <u><b> Random Forest</b></u></p>\n",
    "        <p>- <u><b> KNN</b></u></p>\n",
    "        <p>- <u><b> ANN</b></u></p></td>\n",
    "    \n",
    "  </tr>\n",
    "    \n",
    "  <tr>\n",
    "    <td></td>\n",
    "    <td></td>\n",
    "    <td></td>\n",
    "      \n",
    "  </tr>\n",
    "    \n",
    "  <tr>\n",
    "      <td style=\"text-align:center;\"><b>9</b></td>\n",
    "      <td style=\"text-align:left;\"><div style=\"display:fill;border-radius:5px;background-color:#7FBAD5;letter-spacing:0.5px;overflow:hidden\"><p style=\"padding:20px;color:#4A5154;overflow:hidden;margin:0;font-size:110%;text-align:center\"><b>TESTING AND ANALYSING PERFORMANCE OF AI</b></p></div></td>\n",
    "      <td style=\"text-align:left;\">\n",
    "          <p><i>Here, we are going to test the above built ML Algorithms and analyse their performance. The steps include,</i></p>\n",
    "        <p><u><b> a. Hyper Parameter Tuning using GridSearch CV </b></u></p>\n",
    "        <p><u><b> b. Fit Best Model </</b></u> </p>\n",
    "        <p><u><b> c. Predict on testing data using that model</b></u> </p>\n",
    "        <p><u><b> d. Performance Metrics :- Confusion Matrix, F1 Score, Precision Score, Recall Score</b></u></p>\n",
    "\n",
    "    \n",
    "  </tr>\n",
    " \n",
    "  \n",
    "    \n",
    "</table>\n",
    " \n",
    "\n",
    " \n",
    " "
   ]
  },
  {
   "cell_type": "markdown",
   "id": "6050a284",
   "metadata": {},
   "source": [
    "### Lets know about the dataset in more detail in the next notebook"
   ]
  },
  {
   "cell_type": "markdown",
   "id": "11693409",
   "metadata": {},
   "source": [
    "# THANK_YOU...."
   ]
  },
  {
   "cell_type": "code",
   "execution_count": null,
   "id": "3e81bf22",
   "metadata": {},
   "outputs": [],
   "source": []
  }
 ],
 "metadata": {
  "kernelspec": {
   "display_name": "Python 3 (ipykernel)",
   "language": "python",
   "name": "python3"
  },
  "language_info": {
   "codemirror_mode": {
    "name": "ipython",
    "version": 3
   },
   "file_extension": ".py",
   "mimetype": "text/x-python",
   "name": "python",
   "nbconvert_exporter": "python",
   "pygments_lexer": "ipython3",
   "version": "3.9.7"
  }
 },
 "nbformat": 4,
 "nbformat_minor": 5
}
