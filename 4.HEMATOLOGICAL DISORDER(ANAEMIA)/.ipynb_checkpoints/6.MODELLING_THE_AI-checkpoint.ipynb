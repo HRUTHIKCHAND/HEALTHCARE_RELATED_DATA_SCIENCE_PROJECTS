{
 "cells": [
  {
   "cell_type": "markdown",
   "id": "034fc519",
   "metadata": {},
   "source": [
    "# <div style=\"display:fill;border-radius:5px;background-color:#676F9F;letter-spacing:0.5px;overflow:hidden\"><p style=\"padding:20px;color:#F1EFF5;overflow:hidden;margin:0;font-size:150%;font-style: Helvetica;text-align:center\"><b></b>WHAT IF DOCTOR🧑‍⚕️ PREPARES AN AI MODEL??🤔</p></div>"
   ]
  },
  {
   "cell_type": "markdown",
   "id": "d24c81dc",
   "metadata": {},
   "source": [
    "In the previous notebook, we have explored the dataset and now we are ready to prepare an AI model out of it. \n",
    "<b><u><i>\"THE_FUEL_IS_READY_AND_HENCE_LETS_MAKE_AN_ENGINE....\"</i></u></b> So,lets build the penultimate step in the AI pipeline i.e, modelling"
   ]
  },
  {
   "cell_type": "markdown",
   "id": "bfb5ddf8",
   "metadata": {},
   "source": [
    "## <font color='#4287f5'>Importing necessary libraries...</font>"
   ]
  },
  {
   "cell_type": "code",
   "execution_count": 19,
   "id": "99415563",
   "metadata": {},
   "outputs": [],
   "source": [
    "import pandas as pd                       # library for data manipulation (data cleaning,analysing...)\n",
    "import numpy as np                        # library for numerical computation\n",
    "import matplotlib.pyplot as plt           # library for data visualization which is built on NumPy arrays\n",
    "%matplotlib inline\n",
    "import seaborn as sns                     # library for data visualization built on top of matplotlib and \n",
    "                                          # closely integrated with pandas data structures in Python.\n",
    "    \n",
    "import pandas_profiling                   # library to generate a basic report on the input DataFrame\n",
    "\n",
    "\n",
    "import warnings                           # to avoid warning flash\n",
    "warnings.filterwarnings('ignore')\n",
    "\n",
    "# Other libraries will be imported in the following steps as the process moves.... "
   ]
  },
  {
   "cell_type": "code",
   "execution_count": 2,
   "id": "28ef724e",
   "metadata": {},
   "outputs": [],
   "source": [
    "#Load the dataset which we have created previously......\n",
    "df = pd.read_csv(r'D:\\DSF\\PROJECTPRO\\MEDICAL_PROJECTS\\2.HEMATOLOGICAL DISORDER(ANAEMIA)\\real_corrected_anemia.csv')"
   ]
  },
  {
   "cell_type": "code",
   "execution_count": 3,
   "id": "201e386a",
   "metadata": {},
   "outputs": [
    {
     "data": {
      "text/plain": [
       "Index(['ID', 'age', 'sex', 'Retic_count', 'Bilirubin_count', 'LDH_count',\n",
       "       'Coombs_test', 'Peripheral_Smear', 'Ferritin_level',\n",
       "       'Hb_electrophoresis', 'Other_blood_cell_count\\(Pancytopenia +/-)',\n",
       "       'Serum_Creatinine', 'TSH_Level', 'Serum_electrophoresis',\n",
       "       'Vit_B12_level', 'CLASS'],\n",
       "      dtype='object')"
      ]
     },
     "execution_count": 3,
     "metadata": {},
     "output_type": "execute_result"
    }
   ],
   "source": [
    "df.columns"
   ]
  },
  {
   "cell_type": "markdown",
   "id": "b2684728",
   "metadata": {},
   "source": [
    "## <font color='#4287f5'>Split the Data Frame into X and y...</font>"
   ]
  },
  {
   "cell_type": "code",
   "execution_count": 35,
   "id": "f8b04b55",
   "metadata": {},
   "outputs": [],
   "source": [
    "X = df[['Retic_count', 'Bilirubin_count', 'LDH_count','Coombs_test', 'Peripheral_Smear', 'Ferritin_level','Hb_electrophoresis','Other_blood_cell_count\\(Pancytopenia +/-)','Serum_Creatinine', 'TSH_Level','Serum_electrophoresis','Vit_B12_level']]\n",
    "\n",
    "y = df['CLASS']"
   ]
  },
  {
   "cell_type": "code",
   "execution_count": 36,
   "id": "cfec6027",
   "metadata": {},
   "outputs": [
    {
     "data": {
      "text/html": [
       "<div>\n",
       "<style scoped>\n",
       "    .dataframe tbody tr th:only-of-type {\n",
       "        vertical-align: middle;\n",
       "    }\n",
       "\n",
       "    .dataframe tbody tr th {\n",
       "        vertical-align: top;\n",
       "    }\n",
       "\n",
       "    .dataframe thead th {\n",
       "        text-align: right;\n",
       "    }\n",
       "</style>\n",
       "<table border=\"1\" class=\"dataframe\">\n",
       "  <thead>\n",
       "    <tr style=\"text-align: right;\">\n",
       "      <th></th>\n",
       "      <th>Retic_count</th>\n",
       "      <th>Bilirubin_count</th>\n",
       "      <th>LDH_count</th>\n",
       "      <th>Coombs_test</th>\n",
       "      <th>Peripheral_Smear</th>\n",
       "      <th>Ferritin_level</th>\n",
       "      <th>Hb_electrophoresis</th>\n",
       "      <th>Other_blood_cell_count\\(Pancytopenia +/-)</th>\n",
       "      <th>Serum_Creatinine</th>\n",
       "      <th>TSH_Level</th>\n",
       "      <th>Serum_electrophoresis</th>\n",
       "      <th>Vit_B12_level</th>\n",
       "    </tr>\n",
       "  </thead>\n",
       "  <tbody>\n",
       "    <tr>\n",
       "      <th>0</th>\n",
       "      <td>1.21</td>\n",
       "      <td>0.50</td>\n",
       "      <td>154</td>\n",
       "      <td>1000</td>\n",
       "      <td>8</td>\n",
       "      <td>165</td>\n",
       "      <td>1000</td>\n",
       "      <td>14</td>\n",
       "      <td>0.68</td>\n",
       "      <td>3.50</td>\n",
       "      <td>1000</td>\n",
       "      <td>389</td>\n",
       "    </tr>\n",
       "    <tr>\n",
       "      <th>1</th>\n",
       "      <td>1.77</td>\n",
       "      <td>0.75</td>\n",
       "      <td>54</td>\n",
       "      <td>1000</td>\n",
       "      <td>8</td>\n",
       "      <td>148</td>\n",
       "      <td>1000</td>\n",
       "      <td>14</td>\n",
       "      <td>1.10</td>\n",
       "      <td>3.42</td>\n",
       "      <td>1000</td>\n",
       "      <td>678</td>\n",
       "    </tr>\n",
       "    <tr>\n",
       "      <th>2</th>\n",
       "      <td>5.68</td>\n",
       "      <td>0.60</td>\n",
       "      <td>82</td>\n",
       "      <td>1000</td>\n",
       "      <td>8</td>\n",
       "      <td>139</td>\n",
       "      <td>1000</td>\n",
       "      <td>15</td>\n",
       "      <td>0.94</td>\n",
       "      <td>3.50</td>\n",
       "      <td>1000</td>\n",
       "      <td>237</td>\n",
       "    </tr>\n",
       "    <tr>\n",
       "      <th>3</th>\n",
       "      <td>3.86</td>\n",
       "      <td>0.85</td>\n",
       "      <td>341</td>\n",
       "      <td>5</td>\n",
       "      <td>8</td>\n",
       "      <td>135</td>\n",
       "      <td>1000</td>\n",
       "      <td>15</td>\n",
       "      <td>0.91</td>\n",
       "      <td>3.28</td>\n",
       "      <td>1000</td>\n",
       "      <td>327</td>\n",
       "    </tr>\n",
       "    <tr>\n",
       "      <th>4</th>\n",
       "      <td>4.60</td>\n",
       "      <td>0.66</td>\n",
       "      <td>236</td>\n",
       "      <td>1000</td>\n",
       "      <td>8</td>\n",
       "      <td>38</td>\n",
       "      <td>1000</td>\n",
       "      <td>15</td>\n",
       "      <td>1.10</td>\n",
       "      <td>1.25</td>\n",
       "      <td>1000</td>\n",
       "      <td>808</td>\n",
       "    </tr>\n",
       "  </tbody>\n",
       "</table>\n",
       "</div>"
      ],
      "text/plain": [
       "   Retic_count  Bilirubin_count  LDH_count  Coombs_test  Peripheral_Smear  \\\n",
       "0         1.21             0.50        154         1000                 8   \n",
       "1         1.77             0.75         54         1000                 8   \n",
       "2         5.68             0.60         82         1000                 8   \n",
       "3         3.86             0.85        341            5                 8   \n",
       "4         4.60             0.66        236         1000                 8   \n",
       "\n",
       "   Ferritin_level  Hb_electrophoresis  \\\n",
       "0             165                1000   \n",
       "1             148                1000   \n",
       "2             139                1000   \n",
       "3             135                1000   \n",
       "4              38                1000   \n",
       "\n",
       "   Other_blood_cell_count\\(Pancytopenia +/-)  Serum_Creatinine  TSH_Level  \\\n",
       "0                                         14              0.68       3.50   \n",
       "1                                         14              1.10       3.42   \n",
       "2                                         15              0.94       3.50   \n",
       "3                                         15              0.91       3.28   \n",
       "4                                         15              1.10       1.25   \n",
       "\n",
       "   Serum_electrophoresis  Vit_B12_level  \n",
       "0                   1000            389  \n",
       "1                   1000            678  \n",
       "2                   1000            237  \n",
       "3                   1000            327  \n",
       "4                   1000            808  "
      ]
     },
     "execution_count": 36,
     "metadata": {},
     "output_type": "execute_result"
    }
   ],
   "source": [
    "X.head()    # contains only the features we had selected"
   ]
  },
  {
   "cell_type": "code",
   "execution_count": 37,
   "id": "c5eccabb",
   "metadata": {},
   "outputs": [
    {
     "data": {
      "text/plain": [
       "0    70\n",
       "1    70\n",
       "2    10\n",
       "3    20\n",
       "4    10\n",
       "Name: CLASS, dtype: int64"
      ]
     },
     "execution_count": 37,
     "metadata": {},
     "output_type": "execute_result"
    }
   ],
   "source": [
    "y.head() # contains only the 'Outcome' feature."
   ]
  },
  {
   "cell_type": "markdown",
   "id": "b29f33b6",
   "metadata": {},
   "source": [
    "## <font color='#4287f5'> TRAIN/TEST DATA PREPARATION....</font>"
   ]
  },
  {
   "cell_type": "code",
   "execution_count": 38,
   "id": "16e55f64",
   "metadata": {},
   "outputs": [],
   "source": [
    "from sklearn.model_selection import train_test_split\n",
    "\n",
    "X_train, X_test, y_train, y_test = train_test_split(X,y, test_size=0.2)\n"
   ]
  },
  {
   "cell_type": "markdown",
   "id": "6aaafe6a",
   "metadata": {},
   "source": [
    "# Classification Algorithms\n",
    "\n",
    "- Naive Bayes\n",
    "- KNN\n",
    "- SVM\n",
    "- Decision Tree\n",
    "- Random Forest\n",
    "- Logistic Regression\n",
    "\n",
    "### The models include the following:-\n",
    "\n",
    "#### a. Hyper Parameter Tuning using GridSearch CV\n",
    "\n",
    "**1. What Is Hyperparameter Tuning?**\n",
    "\n",
    "Hyperparameters are the variables that the user specify usually while building the Machine Learning model. thus, hyperparameters are specified before specifying the parameters or we can say that hyperparameters are used to evaluate optimal parameters of the model. the best part about hyperparameters is that their values are decided by the user who is building the model. For example, max_depth in Random Forest Algorithms, k in KNN Classifier.\n",
    "Hyperparameter tuning is the process of tuning the parameters present as the tuples while we build machine learning models. \n",
    "\n",
    "**2. What is GridSearch ?**\n",
    "\n",
    "Grid Search uses a different combination of all the specified hyperparameters and their values and calculates the performance for each combination and selects the best value for the hyperparameters.\n",
    "\n",
    "**3. What Steps To Follow For Hyper Parameter Tuning?**\n",
    "\n",
    "1. Select the type of model we want to use like RandomForestClassifier, regressor or any other model\n",
    "2. Check what are the parameters of the model\n",
    "3. Select the methods for searching the hyperparameter\n",
    "4. Select the cross-validation approach\n",
    "5. Evaluate the model using the score\n",
    "\n",
    "#### b. Fit Best Model\n",
    "\n",
    "#### c. Predict on testing data using that model\n",
    "\n",
    "#### d. Performance Metrics :- Confusion Matrix, F1 Score, Precision Score, Recall Score\n",
    "**Confusion Matrix**\n",
    "It is a tabular visualization of the model predictions versus the ground-truth labels. \n",
    "\n",
    "**F1 Score :-**\n",
    "It’s the harmonic mean between precision and recall. \n",
    "\n",
    "**Precision Score**\n",
    "Precision is the fraction of predicted positives/negatives events that are actually positive/negatives.\n",
    "\n",
    "**Recall Score**\n",
    "It is the fraction of positives/negative events that you predicted correctly. "
   ]
  },
  {
   "cell_type": "code",
   "execution_count": 39,
   "id": "4fc39767",
   "metadata": {},
   "outputs": [],
   "source": [
    "##################################################################################################################\n",
    "####################################         IMPORT_DIFFERENT_MODELS_CLASS     ###################################\n",
    "##################################################################################################################\n",
    "\n",
    "from sklearn.linear_model      import LogisticRegression\n",
    "\n",
    "from sklearn.neighbors         import KNeighborsClassifier\n",
    "\n",
    "from sklearn.naive_bayes       import GaussianNB\n",
    "\n",
    "from sklearn.svm               import SVC\n",
    "\n",
    "from sklearn.tree              import DecisionTreeClassifier\n",
    "from sklearn.ensemble          import RandomForestClassifier\n",
    "\n",
    "from keras.models              import Sequential\n",
    "from keras.layers              import Dense\n",
    "\n",
    "\n",
    "##################################################################################################################\n",
    "####################################         IMPORT_MODEL_SELECTION_CLASS    #####################################\n",
    "##################################################################################################################\n",
    "\n",
    "\n",
    "\n",
    "from sklearn.model_selection   import RepeatedStratifiedKFold\n",
    "from sklearn.model_selection   import GridSearchCV\n",
    "\n",
    "\n",
    "##################################################################################################################\n",
    "####################################         IMPORT_STATISTICS_METHODS    ########################################\n",
    "##################################################################################################################\n",
    "\n",
    "\n",
    "from sklearn.metrics           import classification_report,confusion_matrix\n",
    "from sklearn.metrics           import f1_score, precision_score, recall_score\n",
    "\n"
   ]
  },
  {
   "cell_type": "code",
   "execution_count": 40,
   "id": "1d456682",
   "metadata": {},
   "outputs": [
    {
     "name": "stdout",
     "output_type": "stream",
     "text": [
      "Best leaf_size: 30\n",
      "Best p: 1\n",
      "Best n_neighbors: 15\n",
      "Classification Report is:\n",
      "               precision    recall  f1-score   support\n",
      "\n",
      "          10       0.34      0.53      0.42        38\n",
      "          20       0.46      0.65      0.54        17\n",
      "          30       0.33      0.19      0.24        16\n",
      "          40       0.63      1.00      0.78        31\n",
      "          50       0.83      0.45      0.59        11\n",
      "          60       0.65      0.92      0.76        12\n",
      "          70       0.20      0.11      0.14        19\n",
      "          80       1.00      1.00      1.00         1\n",
      "          90       0.00      0.00      0.00         5\n",
      "         100       0.00      0.00      0.00        14\n",
      "         110       0.93      0.93      0.93        14\n",
      "         120       0.30      0.15      0.20        20\n",
      "\n",
      "    accuracy                           0.51       198\n",
      "   macro avg       0.47      0.49      0.47       198\n",
      "weighted avg       0.44      0.51      0.45       198\n",
      "\n",
      "\n",
      " F1:\n",
      " 0.46513420661227767\n",
      "\n",
      " Precision score is:\n",
      " 0.47317590829435224\n",
      "\n",
      " Recall score is:\n",
      " 0.49299344339011525\n",
      "\n",
      " Confusion Matrix:\n",
      "\n"
     ]
    },
    {
     "data": {
      "text/plain": [
       "<AxesSubplot:>"
      ]
     },
     "execution_count": 40,
     "metadata": {},
     "output_type": "execute_result"
    },
    {
     "data": {
      "image/png": "[encoded data removed]",
      "text/plain": [
       "<Figure size 432x288 with 2 Axes>"
      ]
     },
     "metadata": {
      "needs_background": "light"
     },
     "output_type": "display_data"
    }
   ],
   "source": [
    "##################################################################################################################\n",
    "#####################################    K-NEIGHBORS_CLASSIFIER_MODEL   ##########################################\n",
    "##################################################################################################################\n",
    "\n",
    "\n",
    "# from sklearn.neighbors  import KNeighborsClassifier\n",
    "\n",
    "# List Hyperparameters to tune\n",
    "knn= KNeighborsClassifier()\n",
    "n_neighbors = list(range(15,25))\n",
    "p=[1,2]\n",
    "weights = ['uniform', 'distance']\n",
    "metric = ['euclidean', 'manhattan', 'minkowski']\n",
    "\n",
    "# convert to dictionary\n",
    "hyperparameters = dict(n_neighbors=n_neighbors, p=p,weights=weights,metric=metric)\n",
    "\n",
    "# Making model\n",
    "cv = RepeatedStratifiedKFold(n_splits=10, n_repeats=3, random_state=1)\n",
    "grid_search = GridSearchCV(estimator=knn, param_grid=hyperparameters, n_jobs=-1, cv=cv, scoring='f1',error_score=0)\n",
    "\n",
    "# Train the model\n",
    "best_model = grid_search.fit(X_train,y_train)\n",
    "\n",
    "# Best Hyperparameters Value\n",
    "print('Best leaf_size:', best_model.best_estimator_.get_params()['leaf_size'])\n",
    "print('Best p:', best_model.best_estimator_.get_params()['p'])\n",
    "print('Best n_neighbors:', best_model.best_estimator_.get_params()['n_neighbors'])\n",
    "\n",
    "# Test the model\n",
    "knn_pred = best_model.predict(X_test)\n",
    "\n",
    "# Evaluate the model\n",
    "print(\"Classification Report is:\\n\",classification_report(y_test,knn_pred))\n",
    "print(\"\\n F1:\\n\",f1_score(y_test,knn_pred,average='macro'))\n",
    "print(\"\\n Precision score is:\\n\",precision_score(y_test,knn_pred,average='macro'))\n",
    "print(\"\\n Recall score is:\\n\",recall_score(y_test,knn_pred,average='macro'))\n",
    "print(\"\\n Confusion Matrix:\\n\")\n",
    "\n",
    "sns.heatmap(confusion_matrix(y_test,knn_pred))"
   ]
  },
  {
   "cell_type": "markdown",
   "id": "5136ae26",
   "metadata": {},
   "source": [
    "The results are very poor as expected. Since the data is niether standardised nor transformed, KNN failed to reach our expectation."
   ]
  },
  {
   "cell_type": "code",
   "execution_count": 41,
   "id": "f3b98de8",
   "metadata": {},
   "outputs": [
    {
     "name": "stdout",
     "output_type": "stream",
     "text": [
      "Fitting 10 folds for each of 100 candidates, totalling 1000 fits\n",
      "Classification Report is:\n",
      "               precision    recall  f1-score   support\n",
      "\n",
      "          10       0.41      0.74      0.52        38\n",
      "          20       0.44      0.65      0.52        17\n",
      "          30       0.25      0.12      0.17        16\n",
      "          40       0.57      1.00      0.73        31\n",
      "          50       1.00      0.09      0.17        11\n",
      "          60       0.55      1.00      0.71        12\n",
      "          70       0.00      0.00      0.00        19\n",
      "          80       1.00      1.00      1.00         1\n",
      "          90       0.00      0.00      0.00         5\n",
      "         100       0.00      0.00      0.00        14\n",
      "         110       0.78      1.00      0.88        14\n",
      "         120       0.00      0.00      0.00        20\n",
      "\n",
      "    accuracy                           0.51       198\n",
      "   macro avg       0.42      0.47      0.39       198\n",
      "weighted avg       0.37      0.51      0.39       198\n",
      "\n",
      "\n",
      " F1:\n",
      " 0.39090012173093536\n",
      "\n",
      " Precision score is:\n",
      " 0.41609195822963935\n",
      "\n",
      " Recall score is:\n",
      " 0.4666508349751384\n",
      "\n",
      " Confusion Matrix:\n",
      "\n"
     ]
    },
    {
     "data": {
      "text/plain": [
       "<AxesSubplot:>"
      ]
     },
     "execution_count": 41,
     "metadata": {},
     "output_type": "execute_result"
    },
    {
     "data": {
      "image/png": "[encoded data removed]",
      "text/plain": [
       "<Figure size 432x288 with 2 Axes>"
      ]
     },
     "metadata": {
      "needs_background": "light"
     },
     "output_type": "display_data"
    }
   ],
   "source": [
    "##################################################################################################################\n",
    "############################    GAUSSIAN_NAIVE_BAYES_CLASSIFIER_MODEL   ##########################################\n",
    "##################################################################################################################\n",
    "\n",
    "# from sklearn.naive_bayes import GaussianNB\n",
    "\n",
    "# List Hyperparameters to tune\n",
    "param_grid_nb = {\n",
    "    'var_smoothing': np.logspace(0,-2, num=100)\n",
    "}\n",
    "\n",
    "# Making the model\n",
    "nbModel_grid = GridSearchCV(estimator=GaussianNB(), param_grid=param_grid_nb, verbose=1, cv=10, n_jobs=-1)\n",
    "\n",
    "# Train the model\n",
    "best_model= nbModel_grid.fit(X_train, y_train)\n",
    "\n",
    "# Test the model\n",
    "nb_pred=best_model.predict(X_test)\n",
    "\n",
    "# Evaluate the model\n",
    "print(\"Classification Report is:\\n\",classification_report(y_test,nb_pred))\n",
    "print(\"\\n F1:\\n\",f1_score(y_test,nb_pred,average='macro'))\n",
    "print(\"\\n Precision score is:\\n\",precision_score(y_test,nb_pred,average='macro'))\n",
    "print(\"\\n Recall score is:\\n\",recall_score(y_test,nb_pred,average='macro'))\n",
    "print(\"\\n Confusion Matrix:\\n\")\n",
    "\n",
    "sns.heatmap(confusion_matrix(y_test,nb_pred))"
   ]
  },
  {
   "cell_type": "markdown",
   "id": "65f6d6f3",
   "metadata": {},
   "source": [
    "Again, all the metrics fall below 0.5, its not even close enough to correctly classify half the time."
   ]
  },
  {
   "cell_type": "code",
   "execution_count": 64,
   "id": "53274cf1",
   "metadata": {},
   "outputs": [
    {
     "name": "stdout",
     "output_type": "stream",
     "text": [
      "Classification Report is:\n",
      "               precision    recall  f1-score   support\n",
      "\n",
      "          10       0.40      0.97      0.57        38\n",
      "          20       0.44      0.71      0.55        17\n",
      "          30       0.17      0.06      0.09        16\n",
      "          40       0.89      1.00      0.94        31\n",
      "          50       0.00      0.00      0.00        11\n",
      "          60       0.52      1.00      0.69        12\n",
      "          70       0.00      0.00      0.00        19\n",
      "          80       1.00      1.00      1.00         1\n",
      "          90       0.00      0.00      0.00         5\n",
      "         100       0.00      0.00      0.00        14\n",
      "         110       1.00      1.00      1.00        14\n",
      "         120       0.00      0.00      0.00        20\n",
      "\n",
      "    accuracy                           0.55       198\n",
      "   macro avg       0.37      0.48      0.40       198\n",
      "weighted avg       0.37      0.55      0.43       198\n",
      "\n",
      "\n",
      " F1:\n",
      " 0.4025585525585525\n",
      "\n",
      " Precision score is:\n",
      " 0.3683948700253048\n",
      "\n",
      " Recall score is:\n",
      " 0.47850554695562436\n",
      "\n",
      " Confusion Matrix:\n",
      "\n"
     ]
    },
    {
     "data": {
      "text/plain": [
       "<AxesSubplot:>"
      ]
     },
     "execution_count": 64,
     "metadata": {},
     "output_type": "execute_result"
    },
    {
     "data": {
      "image/png": "[encoded data removed]",
      "text/plain": [
       "<Figure size 432x288 with 2 Axes>"
      ]
     },
     "metadata": {
      "needs_background": "light"
     },
     "output_type": "display_data"
    }
   ],
   "source": [
    "##################################################################################################################\n",
    "######################################   SUPPORT_VECTOR_MACHINE_MODEL   ##########################################\n",
    "##################################################################################################################\n",
    "\n",
    "# from sklearn.svm import SVC\n",
    "\n",
    "# List Hyperparameters to tune\n",
    "model = SVC()\n",
    "kernel = ['poly', 'rbf', 'sigmoid']\n",
    "C = [50, 10, 1.0, 0.1, 0.01]\n",
    "gamma = ['scale']\n",
    "\n",
    "# define grid search\n",
    "grid = dict(kernel=kernel,C=C,gamma=gamma)\n",
    "cv = RepeatedStratifiedKFold(n_splits=10, n_repeats=3, random_state=1)\n",
    "grid_search = GridSearchCV(estimator=model, param_grid=grid, n_jobs=-1, cv=cv, scoring='f1',error_score=0)\n",
    "\n",
    "# Train the model\n",
    "grid_result = grid_search.fit(X, y)\n",
    "\n",
    "# Test the model\n",
    "svm_pred=grid_result.predict(X_test)\n",
    "\n",
    "# Evaluate the model\n",
    "print(\"Classification Report is:\\n\",classification_report(y_test,svm_pred))\n",
    "print(\"\\n F1:\\n\",f1_score(y_test,svm_pred,average='macro'))\n",
    "print(\"\\n Precision score is:\\n\",precision_score(y_test,svm_pred,average='macro'))\n",
    "print(\"\\n Recall score is:\\n\",recall_score(y_test,svm_pred,average='macro'))\n",
    "print(\"\\n Confusion Matrix:\\n\")\n",
    "\n",
    "sns.heatmap(confusion_matrix(y_test,svm_pred))"
   ]
  },
  {
   "cell_type": "markdown",
   "id": "cb605d91",
   "metadata": {},
   "source": [
    "Again,its a very poor classifier..."
   ]
  },
  {
   "cell_type": "code",
   "execution_count": 43,
   "id": "6d3ae7ff",
   "metadata": {},
   "outputs": [
    {
     "name": "stdout",
     "output_type": "stream",
     "text": [
      "Fitting 4 folds for each of 40 candidates, totalling 160 fits\n",
      "Classification Report is:\n",
      "               precision    recall  f1-score   support\n",
      "\n",
      "          10       1.00      0.97      0.99        38\n",
      "          20       1.00      0.94      0.97        17\n",
      "          30       1.00      1.00      1.00        16\n",
      "          40       1.00      1.00      1.00        31\n",
      "          50       1.00      1.00      1.00        11\n",
      "          60       1.00      1.00      1.00        12\n",
      "          70       1.00      1.00      1.00        19\n",
      "          80       0.20      1.00      0.33         1\n",
      "          90       1.00      1.00      1.00         5\n",
      "         100       1.00      0.86      0.92        14\n",
      "         110       1.00      1.00      1.00        14\n",
      "         120       1.00      1.00      1.00        20\n",
      "\n",
      "    accuracy                           0.98       198\n",
      "   macro avg       0.93      0.98      0.93       198\n",
      "weighted avg       1.00      0.98      0.99       198\n",
      "\n",
      "\n",
      " F1:\n",
      " 0.9343978243978244\n",
      "\n",
      " Precision score is:\n",
      " 0.9333333333333332\n",
      "\n",
      " Recall score is:\n",
      " 0.981000294854784\n",
      "\n",
      " Confusion Matrix:\n",
      "\n"
     ]
    },
    {
     "data": {
      "text/plain": [
       "<AxesSubplot:>"
      ]
     },
     "execution_count": 43,
     "metadata": {},
     "output_type": "execute_result"
    },
    {
     "data": {
      "image/png": "[encoded data removed]",
      "text/plain": [
       "<Figure size 432x288 with 2 Axes>"
      ]
     },
     "metadata": {
      "needs_background": "light"
     },
     "output_type": "display_data"
    }
   ],
   "source": [
    "##################################################################################################################\n",
    "#####################################  DECISION_TREE_CLASSIFIER_MODEL   ##########################################\n",
    "##################################################################################################################\n",
    "\n",
    "# from sklearn.tree import DecisionTreeClassifier\n",
    "\n",
    "# Create the parameter grid based on the results of random search \n",
    "params = {\n",
    "    'max_depth': [5, 10, 20,25],\n",
    "    'min_samples_leaf': [10, 20, 50, 100,120],\n",
    "    'criterion': [\"gini\", \"entropy\"]\n",
    "}\n",
    "\n",
    "dt = DecisionTreeClassifier()\n",
    "# Making the model\n",
    "grid_search = GridSearchCV(estimator=dt, \n",
    "                           param_grid=params, \n",
    "                           cv=4, n_jobs=-1, verbose=1, scoring = \"accuracy\")\n",
    "\n",
    "# Train the model\n",
    "best_model=grid_search.fit(X_train, y_train)\n",
    "\n",
    "# Test the model\n",
    "dt_pred=best_model.predict(X_test)\n",
    "\n",
    "# Evaluate the model\n",
    "print(\"Classification Report is:\\n\",classification_report(y_test,dt_pred))\n",
    "print(\"\\n F1:\\n\",f1_score(y_test,dt_pred,average='macro'))\n",
    "print(\"\\n Precision score is:\\n\",precision_score(y_test,dt_pred,average='macro'))\n",
    "print(\"\\n Recall score is:\\n\",recall_score(y_test,dt_pred,average='macro'))\n",
    "print(\"\\n Confusion Matrix:\\n\")\n",
    "\n",
    "sns.heatmap(confusion_matrix(y_test,dt_pred))\n"
   ]
  },
  {
   "cell_type": "markdown",
   "id": "dcaefb08",
   "metadata": {},
   "source": [
    "The results are great when compared to the previous algorithms as expected but still there is a  scope to improve as I am expecting 100% accuracy."
   ]
  },
  {
   "cell_type": "markdown",
   "id": "7cd7f175",
   "metadata": {},
   "source": [
    "## <font color='#4287f5'>Lets see the features selected by our decision tree model.....</font>"
   ]
  },
  {
   "cell_type": "code",
   "execution_count": 44,
   "id": "1bca2c01",
   "metadata": {},
   "outputs": [],
   "source": [
    "# Decision Tree\n",
    "from sklearn.tree import DecisionTreeClassifier\n",
    "dt_model = DecisionTreeClassifier(random_state=0)\n",
    "y_pred = dt_model.fit(X_train, y_train).predict(X_test)"
   ]
  },
  {
   "cell_type": "code",
   "execution_count": 45,
   "id": "3ee8371d",
   "metadata": {},
   "outputs": [
    {
     "data": {
      "text/plain": [
       "DecisionTreeClassifier()"
      ]
     },
     "execution_count": 45,
     "metadata": {},
     "output_type": "execute_result"
    }
   ],
   "source": [
    "# Decision Tree\n",
    "from sklearn.tree import DecisionTreeClassifier\n",
    "DecisionTreeClassifier()"
   ]
  },
  {
   "cell_type": "code",
   "execution_count": 47,
   "id": "034fade3",
   "metadata": {},
   "outputs": [],
   "source": [
    "# Finding the variable with more importance\n",
    "feature_importance = pd.DataFrame([X_train.columns, dt_model.feature_importances_])\n",
    "feature_importance = feature_importance.T.sort_values(by = 1, ascending=False)[1:10]"
   ]
  },
  {
   "cell_type": "code",
   "execution_count": 49,
   "id": "2a2c820d",
   "metadata": {},
   "outputs": [
    {
     "name": "stderr",
     "output_type": "stream",
     "text": [
      "No handles with labels found to put in legend.\n"
     ]
    },
    {
     "data": {
      "image/png": "[encoded data removed]",
      "text/plain": [
       "<Figure size 432x288 with 1 Axes>"
      ]
     },
     "metadata": {
      "needs_background": "light"
     },
     "output_type": "display_data"
    }
   ],
   "source": [
    "sns.barplot(x=feature_importance[1], y=feature_importance[0])\n",
    "# Add labels to the graph\n",
    "plt.xlabel('Feature Importance Score')\n",
    "plt.ylabel('Features')\n",
    "plt.title(\"Visualizing Important Features\")\n",
    "plt.legend()\n",
    "plt.show()"
   ]
  },
  {
   "cell_type": "markdown",
   "id": "201627b8",
   "metadata": {},
   "source": [
    "The features selected are pretty much in comparison to the classification picture shown in earlier notebooks... "
   ]
  },
  {
   "cell_type": "code",
   "execution_count": null,
   "id": "1688446a",
   "metadata": {},
   "outputs": [],
   "source": []
  },
  {
   "cell_type": "code",
   "execution_count": 50,
   "id": "02a747bf",
   "metadata": {},
   "outputs": [
    {
     "name": "stdout",
     "output_type": "stream",
     "text": [
      "Classification Report is:\n",
      "               precision    recall  f1-score   support\n",
      "\n",
      "          10       1.00      1.00      1.00        38\n",
      "          20       1.00      1.00      1.00        17\n",
      "          30       1.00      1.00      1.00        16\n",
      "          40       1.00      1.00      1.00        31\n",
      "          50       1.00      1.00      1.00        11\n",
      "          60       1.00      1.00      1.00        12\n",
      "          70       1.00      1.00      1.00        19\n",
      "          80       1.00      1.00      1.00         1\n",
      "          90       1.00      1.00      1.00         5\n",
      "         100       1.00      1.00      1.00        14\n",
      "         110       1.00      1.00      1.00        14\n",
      "         120       1.00      1.00      1.00        20\n",
      "\n",
      "    accuracy                           1.00       198\n",
      "   macro avg       1.00      1.00      1.00       198\n",
      "weighted avg       1.00      1.00      1.00       198\n",
      "\n",
      "\n",
      " F1:\n",
      " 1.0\n",
      "\n",
      " Precision score is:\n",
      " 1.0\n",
      "\n",
      " Recall score is:\n",
      " 1.0\n",
      "\n",
      " Confusion Matrix:\n",
      "\n"
     ]
    },
    {
     "data": {
      "text/plain": [
       "<AxesSubplot:>"
      ]
     },
     "execution_count": 50,
     "metadata": {},
     "output_type": "execute_result"
    },
    {
     "data": {
      "image/png": "[encoded data removed]",
      "text/plain": [
       "<Figure size 432x288 with 2 Axes>"
      ]
     },
     "metadata": {
      "needs_background": "light"
     },
     "output_type": "display_data"
    }
   ],
   "source": [
    "##################################################################################################################\n",
    "#####################################  RANDOM_FOREST_CLASSIFIER_MODEL   ##########################################\n",
    "##################################################################################################################\n",
    "\n",
    "# from sklearn.ensemble import RandomForestClassifier\n",
    "\n",
    "# define models and parameters\n",
    "model = RandomForestClassifier()\n",
    "n_estimators = [1800]\n",
    "max_features = ['sqrt', 'log2']\n",
    "\n",
    "# Making the model\n",
    "grid = dict(n_estimators=n_estimators,max_features=max_features)\n",
    "cv = RepeatedStratifiedKFold(n_splits=10, n_repeats=3, random_state=1)\n",
    "grid_search = GridSearchCV(estimator=model, param_grid=grid, n_jobs=-1, cv=cv, scoring='accuracy',error_score=0)\n",
    "\n",
    "# Train the model\n",
    "best_model = grid_search.fit(X_train, y_train)\n",
    "\n",
    "# Test the model\n",
    "rf_pred=best_model.predict(X_test)\n",
    "\n",
    "# Evaluate the model\n",
    "print(\"Classification Report is:\\n\",classification_report(y_test,rf_pred))\n",
    "print(\"\\n F1:\\n\",f1_score(y_test,rf_pred,average='macro'))\n",
    "print(\"\\n Precision score is:\\n\",precision_score(y_test,rf_pred,average='macro'))\n",
    "print(\"\\n Recall score is:\\n\",recall_score(y_test,rf_pred,average='macro'))\n",
    "print(\"\\n Confusion Matrix:\\n\")\n",
    "\n",
    "sns.heatmap(confusion_matrix(y_test,rf_pred))"
   ]
  },
  {
   "cell_type": "markdown",
   "id": "965c9a1c",
   "metadata": {},
   "source": [
    "The Random Forest has performed to its greatest extent. The results are overwhelming. All the metrics scored full runs. Before ranking this as the number one classifier in this project, lets see the features selected by our algorithm in classifying ..."
   ]
  },
  {
   "cell_type": "code",
   "execution_count": 51,
   "id": "4558e3c6",
   "metadata": {},
   "outputs": [
    {
     "name": "stderr",
     "output_type": "stream",
     "text": [
      "No handles with labels found to put in legend.\n"
     ]
    },
    {
     "data": {
      "image/png": "[encoded data removed]",
      "text/plain": [
       "<Figure size 432x288 with 1 Axes>"
      ]
     },
     "metadata": {
      "needs_background": "light"
     },
     "output_type": "display_data"
    }
   ],
   "source": [
    "# #Lets see the top features which has been selected by random forest to classify\n",
    "rf_model = RandomForestClassifier(random_state=1)\n",
    "y_pred = rf_model.fit(X_train, y_train).predict(X_test)\n",
    "\n",
    "# Finding the variable with more importance\n",
    "feature_importance = pd.DataFrame([X_train.columns, rf_model.feature_importances_])\n",
    "feature_importance = feature_importance.T.sort_values(by = 1, ascending=False)[1:15]\n",
    "\n",
    "import seaborn as sns\n",
    "sns.barplot(x=feature_importance[1], y=feature_importance[0])\n",
    "# Add labels to the graph\n",
    "plt.xlabel('Feature Importance Score')\n",
    "plt.ylabel('Features')\n",
    "plt.title(\"Visualizing Important Features\")\n",
    "plt.legend()\n",
    "plt.show()"
   ]
  },
  {
   "cell_type": "markdown",
   "id": "51fcb2ad",
   "metadata": {},
   "source": [
    "The features selected by the algorithm are great except for the first ranked feature because Hb electrophoresis is not done routinely as the test is prescribed only on demand if treating Physician is suspecting Thalassemia,sickle cell anaemia and so on..."
   ]
  },
  {
   "cell_type": "code",
   "execution_count": 28,
   "id": "00b43c9b",
   "metadata": {},
   "outputs": [],
   "source": [
    "############################# AdaBoostClassifier ########################"
   ]
  },
  {
   "cell_type": "code",
   "execution_count": 52,
   "id": "89aa99b2",
   "metadata": {},
   "outputs": [
    {
     "data": {
      "text/plain": [
       "AdaBoostClassifier(random_state=0)"
      ]
     },
     "execution_count": 52,
     "metadata": {},
     "output_type": "execute_result"
    }
   ],
   "source": [
    "from sklearn.ensemble import AdaBoostClassifier\n",
    "ada_model = AdaBoostClassifier(random_state=0)\n",
    "ada_model.fit(X_train,y_train)"
   ]
  },
  {
   "cell_type": "code",
   "execution_count": 53,
   "id": "fd58c09c",
   "metadata": {},
   "outputs": [],
   "source": [
    "y_pred = ada_model.predict(X_test)"
   ]
  },
  {
   "cell_type": "code",
   "execution_count": 54,
   "id": "d394a6df",
   "metadata": {},
   "outputs": [
    {
     "name": "stdout",
     "output_type": "stream",
     "text": [
      "              precision    recall  f1-score   support\n",
      "\n",
      "          10       0.37      0.97      0.53        38\n",
      "          20       1.00      1.00      1.00        17\n",
      "          30       0.00      0.00      0.00        16\n",
      "          40       0.00      0.00      0.00        31\n",
      "          50       1.00      1.00      1.00        11\n",
      "          60       0.00      0.00      0.00        12\n",
      "          70       1.00      1.00      1.00        19\n",
      "          80       1.00      1.00      1.00         1\n",
      "          90       1.00      1.00      1.00         5\n",
      "         100       0.00      0.00      0.00        14\n",
      "         110       1.00      0.86      0.92        14\n",
      "         120       0.00      0.00      0.00        20\n",
      "\n",
      "    accuracy                           0.52       198\n",
      "   macro avg       0.53      0.57      0.54       198\n",
      "weighted avg       0.41      0.52      0.44       198\n",
      "\n"
     ]
    }
   ],
   "source": [
    "# Metrics Performance\n",
    "print(classification_report(y_test,y_pred))"
   ]
  },
  {
   "cell_type": "code",
   "execution_count": 55,
   "id": "6162aa6d",
   "metadata": {},
   "outputs": [],
   "source": [
    "# Finding the variable with more importance\n",
    "feature_importance = pd.DataFrame([X_train.columns, ada_model.feature_importances_])\n",
    "feature_importance = feature_importance.T.sort_values(by = 1, ascending=False)[1:15]"
   ]
  },
  {
   "cell_type": "code",
   "execution_count": 56,
   "id": "c58e621a",
   "metadata": {},
   "outputs": [
    {
     "name": "stderr",
     "output_type": "stream",
     "text": [
      "No handles with labels found to put in legend.\n"
     ]
    },
    {
     "data": {
      "image/png": "[encoded data removed]",
      "text/plain": [
       "<Figure size 432x288 with 1 Axes>"
      ]
     },
     "metadata": {
      "needs_background": "light"
     },
     "output_type": "display_data"
    }
   ],
   "source": [
    "sns.barplot(x=feature_importance[1], y=feature_importance[0])\n",
    "# Add labels to the graph\n",
    "plt.xlabel('Feature Importance Score')\n",
    "plt.ylabel('Features')\n",
    "plt.title(\"Visualizing Important Features\")\n",
    "plt.legend()\n",
    "plt.show()"
   ]
  },
  {
   "cell_type": "markdown",
   "id": "78429ac0",
   "metadata": {},
   "source": [
    "Not satisfied..."
   ]
  },
  {
   "cell_type": "code",
   "execution_count": null,
   "id": "f0b4e8bc",
   "metadata": {},
   "outputs": [],
   "source": [
    "############################ XGBClassifier ##########################"
   ]
  },
  {
   "cell_type": "code",
   "execution_count": 57,
   "id": "2e1d3ecf",
   "metadata": {},
   "outputs": [],
   "source": [
    "# xg Boost\n",
    "from xgboost import XGBClassifier"
   ]
  },
  {
   "cell_type": "code",
   "execution_count": 58,
   "id": "e927604c",
   "metadata": {},
   "outputs": [
    {
     "name": "stdout",
     "output_type": "stream",
     "text": [
      "[11:03:31] WARNING: C:/Users/Administrator/workspace/xgboost-win64_release_1.5.1/src/learner.cc:1115: Starting in XGBoost 1.3.0, the default evaluation metric used with the objective 'multi:softprob' was changed from 'merror' to 'mlogloss'. Explicitly set eval_metric if you'd like to restore the old behavior.\n"
     ]
    },
    {
     "data": {
      "text/plain": [
       "XGBClassifier(base_score=0.5, booster='gbtree', colsample_bylevel=1,\n",
       "              colsample_bynode=1, colsample_bytree=1, enable_categorical=False,\n",
       "              gamma=0, gpu_id=-1, importance_type=None,\n",
       "              interaction_constraints='', learning_rate=0.300000012,\n",
       "              max_delta_step=0, max_depth=6, min_child_weight=1, missing=nan,\n",
       "              monotone_constraints='()', n_estimators=100, n_jobs=4,\n",
       "              num_parallel_tree=1, objective='multi:softprob', predictor='auto',\n",
       "              random_state=1, reg_alpha=0, reg_lambda=1, scale_pos_weight=None,\n",
       "              subsample=1, tree_method='exact', validate_parameters=1,\n",
       "              verbosity=None)"
      ]
     },
     "execution_count": 58,
     "metadata": {},
     "output_type": "execute_result"
    }
   ],
   "source": [
    "xg_model = XGBClassifier(random_state=1)\n",
    "xg_model.fit(X_train, y_train)"
   ]
  },
  {
   "cell_type": "code",
   "execution_count": 59,
   "id": "401509c3",
   "metadata": {},
   "outputs": [],
   "source": [
    "y_pred = xg_model.predict(X_test)"
   ]
  },
  {
   "cell_type": "code",
   "execution_count": 60,
   "id": "403bdc62",
   "metadata": {},
   "outputs": [
    {
     "data": {
      "text/plain": [
       "0.9896214896214897"
      ]
     },
     "execution_count": 60,
     "metadata": {},
     "output_type": "execute_result"
    }
   ],
   "source": [
    "from sklearn import metrics\n",
    "metrics.f1_score(y_test,y_pred,average=\"macro\")"
   ]
  },
  {
   "cell_type": "code",
   "execution_count": 61,
   "id": "d64179d7",
   "metadata": {},
   "outputs": [
    {
     "name": "stdout",
     "output_type": "stream",
     "text": [
      "              precision    recall  f1-score   support\n",
      "\n",
      "          10       1.00      1.00      1.00        38\n",
      "          20       1.00      1.00      1.00        17\n",
      "          30       1.00      1.00      1.00        16\n",
      "          40       1.00      1.00      1.00        31\n",
      "          50       1.00      1.00      1.00        11\n",
      "          60       1.00      1.00      1.00        12\n",
      "          70       1.00      1.00      1.00        19\n",
      "          80       1.00      1.00      1.00         1\n",
      "          90       1.00      1.00      1.00         5\n",
      "         100       1.00      1.00      1.00        14\n",
      "         110       1.00      0.86      0.92        14\n",
      "         120       0.91      1.00      0.95        20\n",
      "\n",
      "    accuracy                           0.99       198\n",
      "   macro avg       0.99      0.99      0.99       198\n",
      "weighted avg       0.99      0.99      0.99       198\n",
      "\n"
     ]
    }
   ],
   "source": [
    "# Metrics Performance\n",
    "print(classification_report(y_test,y_pred))"
   ]
  },
  {
   "cell_type": "code",
   "execution_count": 62,
   "id": "10e753bd",
   "metadata": {},
   "outputs": [],
   "source": [
    "# Finding the variable with more importance\n",
    "feature_importance = pd.DataFrame([X_train.columns, xg_model.feature_importances_])\n",
    "feature_importance = feature_importance.T.sort_values(by = 1, ascending=False)[1:15]"
   ]
  },
  {
   "cell_type": "code",
   "execution_count": 63,
   "id": "7a045462",
   "metadata": {},
   "outputs": [
    {
     "name": "stderr",
     "output_type": "stream",
     "text": [
      "No handles with labels found to put in legend.\n"
     ]
    },
    {
     "data": {
      "image/png": "[encoded data removed]",
      "text/plain": [
       "<Figure size 432x288 with 1 Axes>"
      ]
     },
     "metadata": {
      "needs_background": "light"
     },
     "output_type": "display_data"
    }
   ],
   "source": [
    "sns.barplot(x=feature_importance[1], y=feature_importance[0])\n",
    "# Add labels to the graph\n",
    "plt.xlabel('Feature Importance Score')\n",
    "plt.ylabel('Features')\n",
    "plt.title(\"Visualizing Important Features\")\n",
    "plt.legend()\n",
    "plt.show()"
   ]
  },
  {
   "cell_type": "markdown",
   "id": "3c2cd0b5",
   "metadata": {},
   "source": [
    "Random forest performed better when compared to XGB. There are still many fields to fill when it comes to matter of improvement..."
   ]
  },
  {
   "cell_type": "code",
   "execution_count": null,
   "id": "ff9317c1",
   "metadata": {},
   "outputs": [],
   "source": []
  },
  {
   "cell_type": "markdown",
   "id": "1df8672c",
   "metadata": {},
   "source": [
    "## Testing the model with an example..."
   ]
  },
  {
   "cell_type": "markdown",
   "id": "97861922",
   "metadata": {},
   "source": [
    "Here is a 74 years old male patient with Hospital ID of 5, presents with the following blood report as follows\n",
    "* Retic count : 1 ---> means count is in normal range\n",
    "* Bilirubin count : 0.5 mg/dl ---> falls in normal range\n",
    "* LDH count : 70 IU/L ---> falls in normal range\n",
    "* Coombs test : not done\n",
    "* Peripheral_Smear : 8 ---> refers to normocytic blood picture\n",
    "* Ferritin_level : 120 microgram/L\n",
    "* Hb_electrophoresis : not done \n",
    "* Pancytopenia assesment ---> normal_counts\n",
    "* Serum_Creatinine : 7 mg/dl ---> high i.e, there is some kidney disease\n",
    "* TSH_Level : 2 µU/mL ---> falls in normal range\n",
    "* Serum_electrophoresis ---> not done\n",
    "* Vit_B12_level : 250 pg/ml\n",
    "\n",
    "To which category of anaemia does it fall?\n",
    "\n",
    "**As all other features are normal except for the Serum_creatinine, the very case can be diagnosed to have Acute or Chronic kidney disease and must be evaluated for the same for further treatment purposes....**"
   ]
  },
  {
   "cell_type": "markdown",
   "id": "21ae840f",
   "metadata": {},
   "source": [
    "Lets see what our model predicts?...."
   ]
  },
  {
   "cell_type": "code",
   "execution_count": 68,
   "id": "8d93384e",
   "metadata": {},
   "outputs": [],
   "source": [
    "P = {'Retic_count':1, 'Bilirubin_count':0.5, 'LDH_count':70,'Coombs_test':1000, 'Peripheral_Smear':8, 'Ferritin_level':120,'Hb_electrophoresis':1000,'Other_blood_cell_count\\(Pancytopenia +/-)':15,'Serum_Creatinine':7, 'TSH_Level':2,'Serum_electrophoresis':1000,'Vit_B12_level':250}\n",
    "XX = pd.DataFrame(P,index=[0])"
   ]
  },
  {
   "cell_type": "code",
   "execution_count": 69,
   "id": "f3da4cea",
   "metadata": {},
   "outputs": [],
   "source": [
    "pred = dt_model.predict(XX)"
   ]
  },
  {
   "cell_type": "code",
   "execution_count": 70,
   "id": "898be0bf",
   "metadata": {},
   "outputs": [
    {
     "data": {
      "text/plain": [
       "array([100], dtype=int64)"
      ]
     },
     "execution_count": 70,
     "metadata": {},
     "output_type": "execute_result"
    }
   ],
   "source": [
    "pred"
   ]
  },
  {
   "cell_type": "code",
   "execution_count": null,
   "id": "9b18ebf3",
   "metadata": {},
   "outputs": [],
   "source": [
    "It predicted correctly (100 ---> Chronic kidney disease)"
   ]
  }
 ],
 "metadata": {
  "kernelspec": {
   "display_name": "Python 3 (ipykernel)",
   "language": "python",
   "name": "python3"
  },
  "language_info": {
   "codemirror_mode": {
    "name": "ipython",
    "version": 3
   },
   "file_extension": ".py",
   "mimetype": "text/x-python",
   "name": "python",
   "nbconvert_exporter": "python",
   "pygments_lexer": "ipython3",
   "version": "3.9.7"
  }
 },
 "nbformat": 4,
 "nbformat_minor": 5
}
