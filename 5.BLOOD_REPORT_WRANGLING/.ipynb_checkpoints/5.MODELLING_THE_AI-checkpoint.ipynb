{
 "cells": [
  {
   "cell_type": "markdown",
   "id": "4ddfa222",
   "metadata": {},
   "source": [
    "\n",
    "# <div style=\"display:fill;border-radius:5px;background-color:#676F9F;letter-spacing:0.5px;overflow:hidden\"><p style=\"padding:20px;color:#F1EFF5;overflow:hidden;margin:0;font-size:150%;font-style: Helvetica;text-align:center\"><b></b>WHAT IF DOCTOR🧑‍⚕️ PREPARES AN AI MODEL??🤔</p></div>"
   ]
  },
  {
   "cell_type": "markdown",
   "id": "e4e8ea2a",
   "metadata": {},
   "source": [
    "In the previous notebook, we have explored the dataset and now we are ready to prepare an AI model out of it. \n",
    "<b><u><i>\"THE_FUEL_IS_READY_AND_HENCE_LETS_MAKE_AN_ENGINE....\"<i/><u/><b/>"
   ]
  },
  {
   "cell_type": "code",
   "execution_count": 1,
   "id": "201bd200",
   "metadata": {},
   "outputs": [],
   "source": [
    "import pandas as pd                       # library for data manipulation (data cleaning,analysing...)\n",
    "import numpy as np                        # library for numerical computation\n",
    "import matplotlib.pyplot as plt           # library for data visualization which is built on NumPy arrays\n",
    "%matplotlib inline\n",
    "import seaborn as sns                     # library for data visualization built on top of matplotlib and \n",
    "                                          # closely integrated with pandas data structures in Python.\n",
    "\n",
    "\n",
    "import warnings                           # to avoid warning flash\n",
    "warnings.filterwarnings('ignore')\n",
    "\n",
    "# Other libraries will be imported in the following steps as the process moves.... "
   ]
  },
  {
   "cell_type": "code",
   "execution_count": 4,
   "id": "1d7ca6d4",
   "metadata": {},
   "outputs": [],
   "source": [
    "#Load the dataset which we have created previously......\n",
    "df = pd.read_csv(r'D:\\DSF\\PROJECTPRO\\MEDICAL_PROJECTS\\5.BLOOD_REPORT_WRANGLING\\final_reports.csv')"
   ]
  },
  {
   "cell_type": "markdown",
   "id": "a20049e3",
   "metadata": {},
   "source": [
    "## <font color='#4287f5'> TRAIN/TEST DATA PREPARATION....</font>"
   ]
  },
  {
   "cell_type": "markdown",
   "id": "052b4411",
   "metadata": {},
   "source": [
    "## <font color='#4287f5'>Split the Data Frame into X and y...</font>"
   ]
  },
  {
   "cell_type": "code",
   "execution_count": 11,
   "id": "6eb2378f",
   "metadata": {},
   "outputs": [],
   "source": [
    "pd.set_option('display.max_rows',500)\n",
    "pd.set_option('display.max_columns',500)"
   ]
  },
  {
   "cell_type": "markdown",
   "id": "18c69052",
   "metadata": {},
   "source": [
    "## <font color='#4287f5'>1st AI_Model which says the anaemic_status of the patient...</font>"
   ]
  },
  {
   "cell_type": "code",
   "execution_count": 8,
   "id": "89989cca",
   "metadata": {},
   "outputs": [
    {
     "name": "stdout",
     "output_type": "stream",
     "text": [
      "              precision    recall  f1-score   support\n",
      "\n",
      "           0       1.00      1.00      1.00        62\n",
      "           1       1.00      1.00      1.00        43\n",
      "           2       1.00      1.00      1.00        48\n",
      "           3       1.00      1.00      1.00        47\n",
      "\n",
      "    accuracy                           1.00       200\n",
      "   macro avg       1.00      1.00      1.00       200\n",
      "weighted avg       1.00      1.00      1.00       200\n",
      "\n"
     ]
    }
   ],
   "source": [
    "target_name='Anemic_status'\n",
    "col = ['ID','age','sex','Hb_level']\n",
    "\n",
    "X=df[col]\n",
    "y= df[target_name]              \n",
    "\n",
    "from sklearn.model_selection import train_test_split\n",
    "\n",
    "X_train, X_test, y_train, y_test = train_test_split(X,y, test_size=0.2)\n",
    "\n",
    "from sklearn.tree            import DecisionTreeClassifier\n",
    "\n",
    "dt_model1 = DecisionTreeClassifier(random_state=0)\n",
    "y_pred = dt_model1.fit(X_train, y_train).predict(X_test)\n",
    "\n",
    "from sklearn.metrics           import classification_report,confusion_matrix\n",
    "from sklearn.metrics           import f1_score, precision_score, recall_score\n",
    "\n",
    "# Metrics Performance\n",
    "print(classification_report(y_test,y_pred))"
   ]
  },
  {
   "cell_type": "markdown",
   "id": "0963e200",
   "metadata": {},
   "source": [
    "## <font color='#4287f5'>2nd AI_Model which says the infection_status of the patient...</font>"
   ]
  },
  {
   "cell_type": "code",
   "execution_count": 13,
   "id": "6c3d32b4",
   "metadata": {},
   "outputs": [
    {
     "name": "stdout",
     "output_type": "stream",
     "text": [
      "              precision    recall  f1-score   support\n",
      "\n",
      "           0       1.00      1.00      1.00        13\n",
      "           1       1.00      1.00      1.00        87\n",
      "           2       1.00      1.00      1.00       100\n",
      "\n",
      "    accuracy                           1.00       200\n",
      "   macro avg       1.00      1.00      1.00       200\n",
      "weighted avg       1.00      1.00      1.00       200\n",
      "\n"
     ]
    }
   ],
   "source": [
    "target_name='infection_status'\n",
    "col = ['ID','age','sex','WBC']\n",
    "\n",
    "X1 = df[col]\n",
    "y1 = df[target_name]              \n",
    "\n",
    "from sklearn.model_selection import train_test_split\n",
    "\n",
    "X1_train, X1_test, y1_train, y1_test = train_test_split(X1,y1, test_size=0.2)\n",
    "\n",
    "from sklearn.tree            import DecisionTreeClassifier\n",
    "\n",
    "dt_model2 = DecisionTreeClassifier(random_state=0)\n",
    "y1_pred = dt_model2.fit(X1_train, y1_train).predict(X1_test)\n",
    "\n",
    "from sklearn.metrics           import classification_report,confusion_matrix\n",
    "from sklearn.metrics           import f1_score, precision_score, recall_score\n",
    "\n",
    "# Metrics Performance\n",
    "print(classification_report(y1_test,y1_pred))"
   ]
  },
  {
   "cell_type": "markdown",
   "id": "f426eb16",
   "metadata": {},
   "source": [
    "## <font color='#4287f5'>3rd AI_Model which says the Bleeding_status of the patient...</font>"
   ]
  },
  {
   "cell_type": "code",
   "execution_count": 15,
   "id": "03b3848e",
   "metadata": {},
   "outputs": [
    {
     "name": "stdout",
     "output_type": "stream",
     "text": [
      "              precision    recall  f1-score   support\n",
      "\n",
      "           0       1.00      1.00      1.00        44\n",
      "           1       1.00      1.00      1.00       120\n",
      "           2       1.00      1.00      1.00        36\n",
      "\n",
      "    accuracy                           1.00       200\n",
      "   macro avg       1.00      1.00      1.00       200\n",
      "weighted avg       1.00      1.00      1.00       200\n",
      "\n"
     ]
    }
   ],
   "source": [
    "target_name='Bleeding_status'\n",
    "col = ['ID','age','sex','Platelet_count']\n",
    "\n",
    "X2 = df[col]\n",
    "y2 = df[target_name]              \n",
    "\n",
    "from sklearn.model_selection import train_test_split\n",
    "\n",
    "X2_train, X2_test, y2_train, y2_test = train_test_split(X2,y2, test_size=0.2)\n",
    "\n",
    "from sklearn.tree            import DecisionTreeClassifier\n",
    "\n",
    "dt_model3 = DecisionTreeClassifier(random_state=0)\n",
    "y2_pred = dt_model3.fit(X2_train, y2_train).predict(X2_test)\n",
    "\n",
    "from sklearn.metrics           import classification_report,confusion_matrix\n",
    "from sklearn.metrics           import f1_score, precision_score, recall_score\n",
    "\n",
    "# Metrics Performance\n",
    "print(classification_report(y2_test,y2_pred))"
   ]
  },
  {
   "cell_type": "markdown",
   "id": "4b9f264d",
   "metadata": {},
   "source": [
    "## <font color='#4287f5'>4th AI_Model which says the kidney_status of the patient...</font>"
   ]
  },
  {
   "cell_type": "code",
   "execution_count": 16,
   "id": "9665b65b",
   "metadata": {},
   "outputs": [
    {
     "name": "stdout",
     "output_type": "stream",
     "text": [
      "              precision    recall  f1-score   support\n",
      "\n",
      "           0       1.00      1.00      1.00        31\n",
      "           1       1.00      1.00      1.00       169\n",
      "\n",
      "    accuracy                           1.00       200\n",
      "   macro avg       1.00      1.00      1.00       200\n",
      "weighted avg       1.00      1.00      1.00       200\n",
      "\n"
     ]
    }
   ],
   "source": [
    "target_name='kidney_status'\n",
    "col = ['ID','age','sex','Serum_creatinine_level']\n",
    "\n",
    "X3 = df[col]\n",
    "y3 = df[target_name]              \n",
    "\n",
    "from sklearn.model_selection import train_test_split\n",
    "\n",
    "X3_train, X3_test, y3_train, y3_test = train_test_split(X3,y3, test_size=0.2)\n",
    "\n",
    "from sklearn.tree            import DecisionTreeClassifier\n",
    "\n",
    "dt_model4 = DecisionTreeClassifier(random_state=0)\n",
    "y3_pred = dt_model4.fit(X3_train, y3_train).predict(X3_test)\n",
    "\n",
    "from sklearn.metrics           import classification_report,confusion_matrix\n",
    "from sklearn.metrics           import f1_score, precision_score, recall_score\n",
    "\n",
    "# Metrics Performance\n",
    "print(classification_report(y3_test,y3_pred))"
   ]
  },
  {
   "cell_type": "markdown",
   "id": "8320b54a",
   "metadata": {},
   "source": [
    "## <font color='#4287f5'>5th AI_Model which says the Diabetic_status of the patient...</font>"
   ]
  },
  {
   "cell_type": "code",
   "execution_count": 17,
   "id": "22f84d44",
   "metadata": {},
   "outputs": [
    {
     "name": "stdout",
     "output_type": "stream",
     "text": [
      "              precision    recall  f1-score   support\n",
      "\n",
      "           0       1.00      1.00      1.00        44\n",
      "           1       1.00      1.00      1.00        39\n",
      "           2       1.00      1.00      1.00       117\n",
      "\n",
      "    accuracy                           1.00       200\n",
      "   macro avg       1.00      1.00      1.00       200\n",
      "weighted avg       1.00      1.00      1.00       200\n",
      "\n"
     ]
    }
   ],
   "source": [
    "target_name='Diabetic_status'\n",
    "col = ['ID','age','sex','FPG','OGTT','A1C']\n",
    "\n",
    "X4 = df[col]\n",
    "y4 = df[target_name]              \n",
    "\n",
    "from sklearn.model_selection import train_test_split\n",
    "\n",
    "X4_train, X4_test, y4_train, y4_test = train_test_split(X4,y4, test_size=0.2)\n",
    "\n",
    "from sklearn.tree            import DecisionTreeClassifier\n",
    "\n",
    "dt_model5 = DecisionTreeClassifier(random_state=0)\n",
    "y4_pred = dt_model5.fit(X4_train, y4_train).predict(X4_test)\n",
    "\n",
    "from sklearn.metrics           import classification_report,confusion_matrix\n",
    "from sklearn.metrics           import f1_score, precision_score, recall_score\n",
    "\n",
    "# Metrics Performance\n",
    "print(classification_report(y4_test,y4_pred))"
   ]
  },
  {
   "cell_type": "markdown",
   "id": "10fb6a71",
   "metadata": {},
   "source": [
    "There are still many more target variables which can be created and also many more AI model which can be produced but I want to conclude here because of time shortage...."
   ]
  },
  {
   "cell_type": "markdown",
   "id": "6770a501",
   "metadata": {},
   "source": [
    "Also, I wanted to convey the fact here is that I am calling these tiny codes as AI model because they are getting the status of a patient by going through the specific sets of tests same like that of the doctor....(As a doctor, I dont want to see the Liver Function Tests inorder to diagnose a patient diabetic and the same principle is applied here. AI model which gets us anaemic status will only go through Hb_level of the patient and it does not need any other test values inorder to say a patient anaemic)"
   ]
  },
  {
   "cell_type": "markdown",
   "id": "710efd2d",
   "metadata": {},
   "source": [
    "## CONCLUSION"
   ]
  },
  {
   "cell_type": "markdown",
   "id": "f72d24f0",
   "metadata": {},
   "source": [
    "The blood report of a 25 years old female patient with hospital_ID of 2555 is given below...\\\n",
    "Hb_level :  11.39\\\n",
    "RBC_count : 4.62\t\\\n",
    "MCV : 79\\\n",
    "HCT : 36.5\\\n",
    "MCH : 24.65\\\n",
    "MCHC : 31.21\\\n",
    "WBC : 3.4\\\n",
    "Neutrophils\t: 2.37\\\n",
    "Lymphocytes\t: 0.88\\\n",
    "Monocytes : 0.22\\\n",
    "Eosinophils : 0.07\\\n",
    "Basophils : 0.1\\\n",
    "Platelet_count : 5.9\\\n",
    "Serum_creatinine_level : 5.45\\\n",
    "FPG\t: 128\\\n",
    "OGTT : 279\\\n",
    "A1C : 7%"
   ]
  },
  {
   "cell_type": "code",
   "execution_count": null,
   "id": "fbfe9838",
   "metadata": {},
   "outputs": [],
   "source": []
  },
  {
   "cell_type": "code",
   "execution_count": null,
   "id": "77cf76fc",
   "metadata": {},
   "outputs": [],
   "source": []
  },
  {
   "cell_type": "code",
   "execution_count": null,
   "id": "e7587743",
   "metadata": {},
   "outputs": [],
   "source": []
  },
  {
   "cell_type": "code",
   "execution_count": null,
   "id": "16872202",
   "metadata": {},
   "outputs": [],
   "source": []
  },
  {
   "cell_type": "code",
   "execution_count": null,
   "id": "43ed7935",
   "metadata": {},
   "outputs": [],
   "source": []
  }
 ],
 "metadata": {
  "kernelspec": {
   "display_name": "Python 3 (ipykernel)",
   "language": "python",
   "name": "python3"
  },
  "language_info": {
   "codemirror_mode": {
    "name": "ipython",
    "version": 3
   },
   "file_extension": ".py",
   "mimetype": "text/x-python",
   "name": "python",
   "nbconvert_exporter": "python",
   "pygments_lexer": "ipython3",
   "version": "3.9.7"
  }
 },
 "nbformat": 4,
 "nbformat_minor": 5
}
