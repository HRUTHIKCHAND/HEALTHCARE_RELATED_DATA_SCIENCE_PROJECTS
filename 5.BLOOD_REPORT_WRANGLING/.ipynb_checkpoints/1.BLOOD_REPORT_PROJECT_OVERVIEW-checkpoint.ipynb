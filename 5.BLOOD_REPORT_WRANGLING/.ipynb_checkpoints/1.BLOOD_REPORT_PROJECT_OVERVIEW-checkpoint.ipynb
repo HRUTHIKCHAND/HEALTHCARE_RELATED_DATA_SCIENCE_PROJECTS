{
 "cells": [
  {
   "cell_type": "markdown",
   "id": "43f2d7aa",
   "metadata": {},
   "source": [
    "# <div style=\"display:fill;border-radius:5px;background-color:#676F9F;letter-spacing:0.5px;overflow:hidden\"><p style=\"padding:20px;color:#F1EFF5;overflow:hidden;margin:0;font-size:150%;font-style: Helvetica;text-align:center\"><b></b>WHAT IF DOCTOR🧑‍⚕️ PREPARES AN AI MODEL??🤔</p></div>"
   ]
  },
  {
   "cell_type": "markdown",
   "id": "7a867633",
   "metadata": {},
   "source": [
    "Before diving into the notebook, I would like to introduce myself. I am a doctor graduated in the year 2020. As we all know, nobody would like to remember this year in the ever future because the world has witnessed an invisible life threatening zombie, so called 'SARS-COVID-19'. This bug has let my faith in science to decrease because when patients are feeling breathless,I have no any other so called 'scientific drugs'(products of biochemical science) to prescribe apart from oxygen.\n",
    "\n",
    "We the young doctors, freshly graduated had come across situations which most of the doctors hate to do i.e,'Declaring death of the patient'. Not even started the carrier, I had declared deaths of many  patient😔. Initial days of pandemic were tough but later on, we acclimatized.\n",
    "\n",
    "During the days of my quarantine after COVID duties, I used to live with my siblings who are computer scientists. This is when, I came across AI, during conversations we had about our working areas. I became interested so much so that I wanted to badly know the principles of AI. After this, I took online courses on programming language, data science, machine learning courses to get an intuition about AI.\n",
    "\n",
    "I try my level best to get and give contributions to the field of healthcare by applying priciples of AI (ofcourse,can't overdrive the medical scientific facts).\n",
    "\n",
    "At this point of time, I have an intuition of how AI works. As per my understanding, I think we all have the best engines in the form of mathematical models( LR,SVM,XGB,ANN...etc) but we are trying to drive the car by adding adultered fuel(i.e, problem related to data). So,my area of focus is all in data related issues and I would like to contribute/opine on these issues. "
   ]
  },
  {
   "cell_type": "markdown",
   "id": "4e85868e",
   "metadata": {},
   "source": [
    "# <div style=\"display:fill;border-radius:5px;background-color:#676F9F;letter-spacing:0.5px;overflow:hidden\"><p style=\"padding:20px;color:#F1EFF5;overflow:hidden;margin:0;font-size:110%;text-align:center\"><b></b> WRANGLING BLOOD REPORT PROJECT </p></div>"
   ]
  },
  {
   "cell_type": "markdown",
   "id": "44aba714",
   "metadata": {},
   "source": [
    "As I have introduced myself as a Doctor priorly, I would like to express my intent in taking up this project.\n",
    "Please observe the following pictures below. Probably, after seeing these pictures, you might remember your days of hospitalization (if in case hospitalised, dont mistake me)."
   ]
  },
  {
   "cell_type": "markdown",
   "id": "353c8f89",
   "metadata": {},
   "source": [
    "<!DOCTYPE html>\n",
    "<html>\n",
    "<body>\n",
    "\n",
    "<h2 style= \"text-align:center;color:#4A5154;font-size:120%;\"><u> (1)  </u></h2>\n",
    "<img src=\"blood report.png\" alt=\"m\" width=\"700\" height=\"433\">\n",
    "\n",
    "</body>\n",
    "</html>"
   ]
  },
  {
   "cell_type": "markdown",
   "id": "45d5f5d4",
   "metadata": {},
   "source": [
    "<!DOCTYPE html>\n",
    "<html>\n",
    "<body>\n",
    "\n",
    "<h2 style= \"text-align:center;color:#4A5154;font-size:120%;\"><u> (2)  </u></h2>\n",
    "<img src=\"blood report 1.png\" alt=\"m\" width=\"700\" height=\"433\">\n",
    "\n",
    "</body>\n",
    "</html>"
   ]
  },
  {
   "cell_type": "markdown",
   "id": "879b55e0",
   "metadata": {},
   "source": [
    "<!DOCTYPE html>\n",
    "<html>\n",
    "<body>\n",
    "\n",
    "<h2 style= \"text-align:center;color:#4A5154;font-size:120%;\"><u> (3)  </u></h2>\n",
    "<img src=\"blood report 2.png\" alt=\"m\" width=\"600\" height=\"333\">\n",
    "\n",
    "</body>\n",
    "</html>"
   ]
  },
  {
   "cell_type": "markdown",
   "id": "496b8f4d",
   "metadata": {},
   "source": [
    "<!DOCTYPE html>\n",
    "<html>\n",
    "<body>\n",
    "\n",
    "<h2 style= \"text-align:center;color:#4A5154;font-size:120%;\"><u> (4)  </u></h2>\n",
    "<img src=\"blood report 3.png\" alt=\"m\" width=\"600\" height=\"333\">\n",
    "\n",
    "</body>\n",
    "</html>"
   ]
  },
  {
   "cell_type": "markdown",
   "id": "a61f02f3",
   "metadata": {},
   "source": [
    "I believe most of you guys had already guessed what they are. Its a blood report. If you are a Medico, you might start analyzing it also. But non-Medico's might find difficulty in understanding it. The first thing you might do is asking your treated doctor to know whats in the report. Most of the times, you might be convinced by your doctors review on blood reports. But, your mind does not leave you until you totally get whats in the report. That is when you immediately start searching on Google and gets into trouble. I am not saying that the info present in the Google is wrong but the very medical terms will push you into fearful land. Immediate next task that most of you do is, forwarding your blood report to any of the closest medical friend available. You might get the convincing answers if your fellow medical friend is free to analyse the report otherwise, you as well as your soul will not be pleased to be comfortable. That's the very reason for me to take up this project.\n",
    "\n",
    "My objective is to build an AI model with 100% accuracy to analyze the blood report and provide the right medical advice at the earliest."
   ]
  },
  {
   "cell_type": "markdown",
   "id": "0108cdde",
   "metadata": {},
   "source": [
    "## THANK YOU..."
   ]
  },
  {
   "cell_type": "code",
   "execution_count": null,
   "id": "235d0a79",
   "metadata": {},
   "outputs": [],
   "source": []
  }
 ],
 "metadata": {
  "kernelspec": {
   "display_name": "Python 3 (ipykernel)",
   "language": "python",
   "name": "python3"
  },
  "language_info": {
   "codemirror_mode": {
    "name": "ipython",
    "version": 3
   },
   "file_extension": ".py",
   "mimetype": "text/x-python",
   "name": "python",
   "nbconvert_exporter": "python",
   "pygments_lexer": "ipython3",
   "version": "3.9.7"
  }
 },
 "nbformat": 4,
 "nbformat_minor": 5
}
