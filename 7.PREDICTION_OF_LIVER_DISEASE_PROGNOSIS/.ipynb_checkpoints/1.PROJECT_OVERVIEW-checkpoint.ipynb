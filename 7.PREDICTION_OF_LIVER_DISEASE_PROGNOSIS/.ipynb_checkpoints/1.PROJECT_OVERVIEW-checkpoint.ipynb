{
 "cells": [
  {
   "cell_type": "markdown",
   "id": "b4da87ce",
   "metadata": {},
   "source": [
    "# <div style=\"display:fill;border-radius:5px;background-color:#676F9F;letter-spacing:0.5px;overflow:hidden\"><p style=\"padding:20px;color:#F1EFF5;overflow:hidden;margin:0;font-size:150%;font-style: Helvetica;text-align:center\"><b></b>WHAT IF DOCTOR🧑‍⚕️ PREPARES AN AI MODEL??🤔</p></div>"
   ]
  },
  {
   "cell_type": "markdown",
   "id": "db8d1259",
   "metadata": {},
   "source": [
    "Before diving into the notebook, I would like to introduce myself. I am a doctor graduated in the year 2020. As we all know, nobody would like to remember this year in the ever future because the world has witnessed an invisible life threatening zombie, so called 'SARS-COVID-19'. This bug has let my faith in science to decrease because when patients are feeling breathless,I have no any other so called 'scientific drugs'(products of biochemical science) to prescribe apart from oxygen.\n",
    "\n",
    "We the young doctors, freshly graduated had come across situations which most of the doctors hate to do i.e,'Declaring death of the patient'. Not even started the carrier, I had declared deaths of many  patient😔. Initial days of pandemic were tough but later on, we acclimatized.\n",
    "\n",
    "During the days of my quarantine after COVID duties, I used to live with my siblings who are computer scientists. This is when, I came across AI, during conversations we had about our working areas. I became interested so much so that I wanted to badly know the principles of AI. After this, I took online courses on programming language, data science, machine learning courses to get an intuition about AI.\n",
    "\n",
    "I try my level best to get and give contributions to the field of healthcare by applying priciples of AI (ofcourse,can't overdrive the medical scientific facts).\n",
    "\n",
    "At this point of time, I have an intuition of how AI works. As per my understanding, I think we all have the best engines in the form of mathematical models( LR,SVM,XGB,ANN...etc) but we are trying to drive the car by adding adultered fuel(i.e, problem related to data). So,my area of focus is all in data related issues and I would like to contribute/opine on these issues. Before diving into the notebook, I would like to introduce myself. I am a doctor graduated in the year 2020. As we all know, nobody would like to remember this year in the ever future because the world has witnessed an invisible life threatening zombie, so called 'SARS-COVID-19'. This bug has let my faith in science to decrease because when patients are feeling breathless,I have no any other so called 'scientific drugs'(products of biochemical science) to prescribe apart from oxygen.\n",
    "\n",
    "We the young doctors, freshly graduated had come across situations which most of the doctors hate to do i.e,'Declaring death of the patient'. Not even started the carrier, I had declared deaths of many  patient😔. Initial days of pandemic were tough but later on, we acclimatized.\n",
    "\n",
    "During the days of my quarantine after COVID duties, I used to live with my siblings who are computer scientists. This is when, I came across AI, during conversations we had about our working areas. I became interested so much so that I wanted to badly know the principles of AI. After this, I took online courses on programming language, data science, machine learning courses to get an intuition about AI.\n",
    "\n",
    "I try my level best to get and give contributions to the field of healthcare by applying priciples of AI (ofcourse,can't overdrive the medical scientific facts).\n",
    "\n",
    "At this point of time, I have an intuition of how AI works. As per my understanding, I think we all have the best engines in the form of mathematical models( LR,SVM,XGB,ANN...etc) but we are trying to drive the car by adding adultered fuel(i.e, problem related to data). So,my area of focus is all in data related issues and I would like to contribute/opine on these issues. "
   ]
  },
  {
   "cell_type": "markdown",
   "id": "79f84560",
   "metadata": {},
   "source": [
    "# <div style=\"display:fill;border-radius:5px;background-color:#676F9F;letter-spacing:0.5px;overflow:hidden\"><p style=\"padding:20px;color:#F1EFF5;overflow:hidden;margin:0;font-size:110%;text-align:center\"><b></b> PREDICTION_OF_LIVER_DISEASE_PROGNOSIS</p></div>"
   ]
  },
  {
   "cell_type": "markdown",
   "id": "21503dce",
   "metadata": {},
   "source": [
    "## <font color='#4287f5'>Before we start, lets know about the disease which we are working in😇... </font>"
   ]
  },
  {
   "cell_type": "markdown",
   "id": "fdf1f723",
   "metadata": {},
   "source": [
    "### <font color='#4287f5'>1.Definition of cirrhosis of liver... </font>"
   ]
  },
  {
   "cell_type": "markdown",
   "id": "de2e8f33",
   "metadata": {},
   "source": [
    "Cirrhosis is a pathological term. It is the chronic and diffuse involvement of liver parenchyma of \n",
    "varied aetiology, and is clinically characterised by features of **portal hypertension** and **hepato-cellular \n",
    "failure** in varying combination, and pathologically by irreversible **NECROSIS**, extensive **FIBROSIS** as well \n",
    "as **REGENERATIVE NODULE FORMATION** in such a way that the normal architecture of liver is totally lost."
   ]
  },
  {
   "cell_type": "markdown",
   "id": "716841de",
   "metadata": {},
   "source": [
    "**\"As a doctor,if I want to define and make a layman to understand what Cirrhosis is, I would rather define in this way. Cirrhosis is that condition of  a liver where it no more can tolerate to work and stops all of its productive and metabolic activities which otherwise will do, inorder to keep our body's internal harmony in peace.\"**"
   ]
  },
  {
   "cell_type": "markdown",
   "id": "12fd7d4d",
   "metadata": {},
   "source": [
    "In simple words,its nothing but **\"the end stage of a disease\"**"
   ]
  },
  {
   "cell_type": "markdown",
   "id": "8fe77123",
   "metadata": {},
   "source": [
    "**Chronic liver disease usually passes through a long period of minimum non-specific symptoms like \n",
    "fatigue(tiredness), flatulent dyspepsia(regurgitation), anorexia(loss of appetite)—known as ‘COMPENSATED’ cirrhosis; and appearance of ascites(fluid collection in the peritoneum), jaundice(yellow discoloration of body), encephalopathy, G.I. bleeding(bleeding in the digestive tract) and pre-coma are known as ‘DECOMPENSATED’ cirrhosis.**"
   ]
  },
  {
   "cell_type": "markdown",
   "id": "a901db6c",
   "metadata": {},
   "source": [
    "### <font color='#4287f5'>2.Aetiology(Causes) of cirrhosis... </font>"
   ]
  },
  {
   "cell_type": "markdown",
   "id": "8e2c6af6",
   "metadata": {},
   "source": [
    "1. Chronic Alcoholism.\n",
    "2. Biliary (primary or secondary).\n",
    "3. Cryptogenic (when no aetiology can be determined).\n",
    "4. Postnecrotic or postviral (HBV, HCV, HDV).\n",
    "5. Cardiac or congestive.\n",
    "6. Metabolic—Wilson’s disease, haemochromatosis, type IV glycogenosis, o^-antitrypsin deficiency, galactosaemia, cystic fibrosis.\n",
    "7. Drugs—Methotrexate, amiodarone, methyldopa, halothane.\n",
    "8. Miscellaneous—\\\n",
    "    (i) Indian childhood cirrhosis.\\\n",
    "    (ii) Budd-Chiari syndrome.\\\n",
    "    (iii) Intestinal by-pass surgery.\\\n",
    "    (iv) Autoimmune hepatitis (lupoid).\\\n",
    "    (v) Non-alcoholic steatohepatitis (NASH).\\\n",
    "    (vi) Primary sclerosing cholangitis.\n"
   ]
  },
  {
   "cell_type": "markdown",
   "id": "3b4eadfa",
   "metadata": {},
   "source": [
    "**\"Alcoholism is the most common cause for liver cirrhosis.\"**"
   ]
  },
  {
   "cell_type": "markdown",
   "id": "f57c40e5",
   "metadata": {},
   "source": [
    "### <font color='#4287f5'>3.How the disease manifests?... </font>"
   ]
  },
  {
   "cell_type": "markdown",
   "id": "05172399",
   "metadata": {},
   "source": [
    "**Clinical Features**\n",
    "\n",
    "**Symptoms**\n",
    "\n",
    "• Low-grade fever.\\\n",
    "• Weakness, fatigue and weight loss.\\\n",
    "• Anorexia, nausea, vomiting and upper abdominal discomfort.\\\n",
    "• Abdominal distension due to ascites and gas.\\\n",
    "• Loss of libido.\\\n",
    "• Menstrual irregularities like amenorrhoea and irregular menses.\\\n",
    "• Haemorrhagic tendencies like easy bruising, purpura, epistaxis, menorrhagia and gastrointestinal bleeding.\\\n",
    "• Haemorrhagic tendencies are due to underproduction of coagulation factors by the liver and thrombocytopenia resulting\n",
    "from hypersplenism.\\\n",
    "• Symptoms of hepatic insufficiency (refer elsewhere).\\\n",
    "• Symptoms of portal hypertension and its sequelae (refer elsewhere).\n",
    "\n",
    "**Signs**"
   ]
  },
  {
   "cell_type": "markdown",
   "id": "0026b98b",
   "metadata": {},
   "source": [
    "<!DOCTYPE html>\n",
    "<html>\n",
    "<body>\n",
    "\n",
    "<h2 style= \"text-align:center;color:#4287f5;font-size:120%;\"><u> SIGNS_OF_LIVER_FAILURE </u></h2>\n",
    "<img src=\"Signs of liver failure.png\" alt=\"m\" width=\"900\" height=\"333\">\n",
    "\n",
    "</body>\n",
    "</html>"
   ]
  },
  {
   "cell_type": "markdown",
   "id": "518a10c3",
   "metadata": {},
   "source": [
    "### <font color='#4287f5'>3.What are the complications?... </font>"
   ]
  },
  {
   "cell_type": "markdown",
   "id": "79f5ef89",
   "metadata": {},
   "source": [
    "• Portal hypertension and its sequelae\\\n",
    "• Ascites\\\n",
    "• Spontaneous bacterial peritonitis\\\n",
    "• Hepatic encephalopathy\\\n",
    "• Hepatorenal syndrome\\\n",
    "• Portal vein thrombosis\\\n",
    "• Hepatocellular carcinoma\\\n",
    "• Haemorrhagic manifestations\\\n",
    "• Hepatopulmonary syndrome"
   ]
  },
  {
   "cell_type": "markdown",
   "id": "e73f5eb5",
   "metadata": {},
   "source": [
    "**End stage of cirrhosis** is characterised by:\\\n",
    "• Chronic jaundice.\\\n",
    "• Progressive, refractory ascites. Worsening of signs of portal hypertension.\\\n",
    "• Progressive renal dysfunction.\\\n",
    "• Most of them die in hepatic encephalopathy."
   ]
  },
  {
   "cell_type": "markdown",
   "id": "31585291",
   "metadata": {},
   "source": [
    "That's enough about the disease,lets go through the dataset on which we are going to build AI model in the next notebook..."
   ]
  },
  {
   "cell_type": "markdown",
   "id": "da6c1ca9",
   "metadata": {},
   "source": [
    "## THANK YOU..."
   ]
  },
  {
   "cell_type": "code",
   "execution_count": null,
   "id": "eb85b8d2",
   "metadata": {},
   "outputs": [],
   "source": []
  }
 ],
 "metadata": {
  "hide_input": false,
  "kernelspec": {
   "display_name": "Python 3 (ipykernel)",
   "language": "python",
   "name": "python3"
  },
  "language_info": {
   "codemirror_mode": {
    "name": "ipython",
    "version": 3
   },
   "file_extension": ".py",
   "mimetype": "text/x-python",
   "name": "python",
   "nbconvert_exporter": "python",
   "pygments_lexer": "ipython3",
   "version": "3.9.7"
  }
 },
 "nbformat": 4,
 "nbformat_minor": 5
}
