{
 "cells": [
  {
   "cell_type": "markdown",
   "id": "b4da87ce",
   "metadata": {},
   "source": [
    "# <div style=\"display:fill;border-radius:5px;background-color:#676F9F;letter-spacing:0.5px;overflow:hidden\"><p style=\"padding:20px;color:#F1EFF5;overflow:hidden;margin:0;font-size:150%;font-style: Helvetica;text-align:center\"><b></b>WHAT IF DOCTOR🧑‍⚕️ PREPARES AN AI MODEL??🤔</p></div>"
   ]
  },
  {
   "cell_type": "markdown",
   "id": "79f84560",
   "metadata": {},
   "source": [
    "# <div style=\"display:fill;border-radius:5px;background-color:#676F9F;letter-spacing:0.5px;overflow:hidden\"><p style=\"padding:20px;color:#F1EFF5;overflow:hidden;margin:0;font-size:110%;text-align:center\"><b></b> PREDICTION_OF_LIVER_DISEASE_PROGNOSIS</p></div>"
   ]
  },
  {
   "cell_type": "markdown",
   "id": "067bd86f",
   "metadata": {},
   "source": [
    "In the previous notebook, we got an overview of how the project is.Here, lets know about the disease we are working in...."
   ]
  },
  {
   "cell_type": "markdown",
   "id": "c3db92b5",
   "metadata": {},
   "source": [
    "## <font color='#4287f5'>Data Science pipeline to build our 😍 AI model... </font>\n",
    "\n",
    "The below table shows the steps involved in constructing AI pipeline"
   ]
  },
  {
   "cell_type": "markdown",
   "id": "26d66c66",
   "metadata": {},
   "source": [
    "<table>\n",
    "  <tr>\n",
    "    <th><div style=\"display:fill;border-radius:5px;background-color:#676F9F;letter-spacing:0.5px;overflow:hidden\"><p style=\"padding:20px;color:#F1EFF5;overflow:hidden;margin:0;font-size:110%;text-align:center\"><b></b>STEPS</p></div></th>\n",
    "    <th><div style=\"display:fill;border-radius:5px;background-color:#676F9F;letter-spacing:0.5px;overflow:hidden\"><p style=\"padding:20px;color:#F1EFF5;overflow:hidden;margin:0;font-size:110%;text-align:center\"><b></b>CONTENTS</p></div></th>\n",
    "    <th><div style=\"display:fill;border-radius:5px;background-color:#676F9F;letter-spacing:0.5px;overflow:hidden\"><p style=\"padding:20px;color:#F1EFF5;overflow:hidden;margin:0;font-size:110%;text-align:center\"><b></b>DESCRIPTION</p></div></th>\n",
    " \n",
    "  </tr>\n",
    "\n",
    "  <tr>\n",
    "    <td></td>\n",
    "    <td></td>\n",
    "    <td></td>\n",
    "      \n",
    "  </tr>\n",
    "      \n",
    "  <tr>\n",
    "    <td style=\"text-align:center;\"><b>1</b></td>\n",
    "    <td style=\"text-align:left;\"><div style=\"display:fill;border-radius:5px;background-color:#7FBAD5;letter-spacing:0.5px;overflow:hidden\"><p style=\"padding:20px;color:#4A5154;overflow:hidden;margin:0;font-size:110%;text-align:center\"><b>IMPORT REQUIRED LIBRARIES</b></p></div></td>\n",
    "    <td style=\"text-align:left;\"><i>Libraries like numpy, pandas, tf, matplotlib and others will be imported which are required for creating a model</i></td>\n",
    "    \n",
    "  </tr>\n",
    "    \n",
    "  <tr>\n",
    "    <td></td>\n",
    "    <td></td>\n",
    "    <td></td>\n",
    "      \n",
    "  </tr>\n",
    "   \n",
    "  <tr>\n",
    "        <td style=\"text-align:center;\"><b>2</b></td>\n",
    "        <td style=\"text-align:left;\"><div style=\"display:fill;border-radius:5px;background-color:#7FBAD5;letter-spacing:0.5px;overflow:hidden\"><p style=\"padding:20px;color:#4A5154;overflow:hidden;margin:0;font-size:110%;text-align:center\"><b>LOAD THE DATASET</b></p></div></td>\n",
    "        <td style=\"text-align:left;\"><i>Liver Cirrhosis Dataset will be used for our model</i></td>\n",
    "    \n",
    "  </tr>\n",
    "\n",
    "  <tr>\n",
    "    <td></td>\n",
    "    <td></td>\n",
    "    <td></td>\n",
    "      \n",
    "  </tr>\n",
    "    \n",
    "    \n",
    "  <tr>\n",
    "    <td style=\"text-align:center;\"><b>3</b></td>\n",
    "    <td style=\"text-align:left;\"><div style=\"display:fill;border-radius:5px;background-color:#7FBAD5;letter-spacing:0.5px;overflow:hidden\"><p style=\"padding:20px;color:#4A5154;overflow:hidden;margin:0;font-size:110%;text-align:center\"><b>EXPLORATORY DATA ANALYSIS</b></p></div></td>\n",
    "    <td style=\"text-align:left;\">\n",
    "        <p><b> A.Understanding the dataset</b></p>\n",
    "        <p>-Head of the dataset</p>\n",
    "        <p>-Shape of the data set</p>\n",
    "        <p>-Types of columns</p>\n",
    "        <p>-Information about data set</p>\n",
    "        <p>-Summary of the data set</p>\n",
    "        <p><b>B. Data Cleaning</b></p>\n",
    "        <p>- Dropping duplicate values</p>\n",
    "        <p>- Checking NULL values</p>\n",
    "        <p>- Checking for 0 value</p>\n",
    "        <p>- Handling outliers</p></td>\n",
    "    \n",
    "  </tr>\n",
    "    \n",
    "  <tr>\n",
    "    <td></td>\n",
    "    <td></td>\n",
    "    <td></td>\n",
    "      \n",
    "  </tr>\n",
    "     \n",
    "    \n",
    "  <tr>\n",
    "    <td style=\"text-align:center;\"><b>4</b></td>\n",
    "    <td style=\"text-align:left;\"><div style=\"display:fill;border-radius:5px;background-color:#7FBAD5;letter-spacing:0.5px;overflow:hidden\"><p style=\"padding:20px;color:#4A5154;overflow:hidden;margin:0;font-size:110%;text-align:center\"><b>DATA VISUALIZATION</b></p></div></td>\n",
    "    <td style=\"text-align:left;\">\n",
    "        <p><i>Here, we are going to visualise our data by using several plots, including</i></p>\n",
    "        <p>- <u><b> Count Plot </b></u> :- to see if the dataset is balanced or not</p>\n",
    "        <p>- <u><b> Histograms </</b></u> :- to see if data is normally distributed or skewed</p>\n",
    "        <p>- <u><b> Box Plot</b></u> :- to analyse the distribution and see the outliers</p>\n",
    "        <p>- <u><b> Scatter plots</b></u>:- to understand relationship between any two variables</p>\n",
    "        <p>- <u><b> Pair plot</b></u>:- to create scatter plot between all the variables</p></td>\n",
    "    \n",
    "  </tr>\n",
    "    \n",
    "  <tr>\n",
    "    <td></td>\n",
    "    <td></td>\n",
    "    <td></td>\n",
    "      \n",
    "  </tr>\n",
    "  \n",
    "    \n",
    "  <tr>\n",
    "      <td style=\"text-align:center;\"><b>5</b></td>\n",
    "      <td style=\"text-align:left;\"><div style=\"display:fill;border-radius:5px;background-color:#7FBAD5;letter-spacing:0.5px;overflow:hidden\"><p style=\"padding:20px;color:#4A5154;overflow:hidden;margin:0;font-size:110%;text-align:center\"><b>FEATURES SELECTION AND ENGINEERING</b></p></div></td>\n",
    "      <td style=\"text-align:left;\"><i>Here, we are going to select the useful features or columns from the dataset and if it's possible, we are going to engineer the features in a right way which would the help the model to perform better.</i></td>\n",
    "    \n",
    "  </tr>\n",
    "    \n",
    "  <tr>\n",
    "    <td></td>\n",
    "    <td></td>\n",
    "    <td></td>\n",
    "      \n",
    "  </tr>\n",
    "      \n",
    "  <tr>\n",
    "    <td></td>\n",
    "    <td></td>\n",
    "    <td></td>\n",
    "      \n",
    "  </tr>\n",
    "  \n",
    "  <tr>\n",
    "      <td style=\"text-align:center;\"><b>6</b></td>\n",
    "      <td style=\"text-align:left;\"><div style=\"display:fill;border-radius:5px;background-color:#7FBAD5;letter-spacing:0.5px;overflow:hidden\"><p style=\"padding:20px;color:#4A5154;overflow:hidden;margin:0;font-size:110%;text-align:center\"><b>SPLIT THE DATAFRAME INTO X AND Y</b></p></div></td>\n",
    "      <td style=\"text-align:left;\"><i>Here, we are going to split the dataframe into features and labels</i></td>\n",
    "    \n",
    "  </tr>\n",
    "  \n",
    "  <tr>\n",
    "      <td style=\"text-align:center;\"><b>7</b></td>\n",
    "      <td style=\"text-align:left;\"><div style=\"display:fill;border-radius:5px;background-color:#7FBAD5;letter-spacing:0.5px;overflow:hidden\"><p style=\"padding:20px;color:#4A5154;overflow:hidden;margin:0;font-size:110%;text-align:center\"><b>SPLIT THE DATASET INTO TRAIN AND TEST SETS</b></p></div></td>\n",
    "      <td style=\"text-align:left;\"><i>Here, we are going to segregate the data into train and test samples so that our AI model's performance can be analysed without any bias.</i></td>\n",
    "    \n",
    "  </tr>\n",
    "    \n",
    "  <tr>\n",
    "    <td></td>\n",
    "    <td></td>\n",
    "    <td></td>\n",
    "      \n",
    "  </tr>\n",
    "      \n",
    "  <tr>\n",
    "    <td></td>\n",
    "    <td></td>\n",
    "    <td></td>\n",
    "      \n",
    "  </tr>\n",
    "  \n",
    "  \n",
    "  <tr>\n",
    "      <td style=\"text-align:center;\"><b>8</b></td>\n",
    "      <td style=\"text-align:left;\"><div style=\"display:fill;border-radius:5px;background-color:#7FBAD5;letter-spacing:0.5px;overflow:hidden\"><p style=\"padding:20px;color:#4A5154;overflow:hidden;margin:0;font-size:110%;text-align:center\"><b>TRAIN THE CLASSIFICATION ALGORITHM</b></p></div></td>\n",
    "      <td style=\"text-align:left;\">\n",
    "          <p><i>Here, we are going to build several ML Algorithm including</i></p>\n",
    "        <p>- <u><b> Decision Tree</b></u></p>\n",
    "        <p>- <u><b> Random Forest</b></u></p>\n",
    "\n",
    "    \n",
    "  </tr>\n",
    "    \n",
    "  <tr>\n",
    "    <td></td>\n",
    "    <td></td>\n",
    "    <td></td>\n",
    "      \n",
    "  </tr>\n",
    "    \n",
    "  <tr>\n",
    "      <td style=\"text-align:center;\"><b>9</b></td>\n",
    "      <td style=\"text-align:left;\"><div style=\"display:fill;border-radius:5px;background-color:#7FBAD5;letter-spacing:0.5px;overflow:hidden\"><p style=\"padding:20px;color:#4A5154;overflow:hidden;margin:0;font-size:110%;text-align:center\"><b>TESTING AND ANALYSING PERFORMANCE OF AI</b></p></div></td>\n",
    "      <td style=\"text-align:left;\">\n",
    "          <p><i>Here, we are going to test the above built ML Algorithms and analyse their performance. The steps include,</i></p>\n",
    "        <p><u><b> a. Hyper Parameter Tuning using GridSearch CV </b></u></p>\n",
    "        <p><u><b> b. Fit Best Model </</b></u> </p>\n",
    "        <p><u><b> c. Predict on testing data using that model</b></u> </p>\n",
    "        <p><u><b> d. Performance Metrics :- Confusion Matrix, F1 Score, Precision Score, Recall Score</b></u></p>\n",
    "\n",
    "    \n",
    "  </tr>\n",
    " \n",
    "</table>"
   ]
  },
  {
   "cell_type": "markdown",
   "id": "8cdf55f5",
   "metadata": {},
   "source": [
    "## <font color='#4287f5'>1.Importing necessary libraries...</font>"
   ]
  },
  {
   "cell_type": "code",
   "execution_count": 1,
   "id": "ba3e5c05",
   "metadata": {},
   "outputs": [],
   "source": [
    "import pandas as pd                       # library for data manipulation (data cleaning,analysing...)\n",
    "import numpy as np                        # library for numerical computation\n",
    "import matplotlib.pyplot as plt           # library for data visualization which is built on NumPy arrays\n",
    "%matplotlib inline \n",
    "import seaborn as sns                     # library for data visualization built on top of matplotlib and \n",
    "                                          # closely integrated with pandas data structures in Python.\n",
    "import random\n",
    "\n",
    "import warnings                           # to avoid warning flash \n",
    "warnings.filterwarnings('ignore')\n",
    "\n",
    "# Other libraries will be imported in the following steps as the process moves . . . . .  "
   ]
  },
  {
   "cell_type": "markdown",
   "id": "ef79dbf2",
   "metadata": {},
   "source": [
    "## <font color='#4287f5'>2.Loading the dataset....</font></center>"
   ]
  },
  {
   "cell_type": "code",
   "execution_count": 2,
   "id": "34f602d4",
   "metadata": {},
   "outputs": [],
   "source": [
    "#Load the dataset which we have created previously......\n",
    "df = pd.read_csv(r'D:\\DSF\\PROJECTPRO\\MEDICAL_PROJECTS\\7.PREDICTION_OF_LIVER_DISEASE_PROGNOSIS\\cirrhosis.csv')"
   ]
  },
  {
   "cell_type": "code",
   "execution_count": 3,
   "id": "679ebd60",
   "metadata": {},
   "outputs": [],
   "source": [
    "pd.set_option('display.max_rows', 500)\n",
    "pd.set_option('display.max_columns', 500)"
   ]
  },
  {
   "cell_type": "markdown",
   "id": "c00e1b92",
   "metadata": {},
   "source": [
    "## About the Liver_Cirrhosis_dataset:"
   ]
  },
  {
   "cell_type": "markdown",
   "id": "8f38ce69",
   "metadata": {},
   "source": [
    "#### Context :\n",
    "\n",
    "Cirrhosis is a late stage of scarring (fibrosis) of the liver caused by many forms of liver diseases and conditions, such as hepatitis and chronic alcoholism. The following data contains the information collected from the Mayo Clinic trial in primary biliary cirrhosis (PBC) of the liver conducted between 1974 and 1984. A description of the clinical background for the trial and the covariates recorded here is in Chapter 0, especially Section 0.2 of Fleming and Harrington, Counting\n",
    "Processes and Survival Analysis, Wiley, 1991. A more extended discussion can be found in Dickson, et al., Hepatology 10:1-7 (1989) and in Markus, et al., N Eng J of Med 320:1709-13 (1989).\n",
    "\n",
    "A total of 424 PBC patients, referred to Mayo Clinic during that ten-year interval, met eligibility criteria for the randomized placebo-controlled trial of the drug D-penicillamine. The first 312 cases in the dataset participated in the randomized trial and contain largely complete data. The additional 112 cases did not participate in the clinical trial but consented to have basic measurements recorded and to be followed for survival. Six of those cases were lost to follow-up shortly after diagnosis, so the data here are on an additional 106 cases as well as the 312 randomized participants.\n"
   ]
  },
  {
   "cell_type": "markdown",
   "id": "e4adb573",
   "metadata": {},
   "source": [
    "### Attribute Information:\n",
    "\n",
    "1) ID: unique identifier\\\n",
    "2) N_Days: number of days between registration and the earlier of death, transplantation, or study analysis time in July 1986\\\n",
    "3) Status: status of the patient C (censored), CL (censored due to liver tx), or D (death)\\\n",
    "4) Drug: type of drug D-penicillamine or placebo\\\n",
    "5) Age: age in [days]\\\n",
    "6) Sex: M (male) or F (female)\\\n",
    "7) Ascites: presence of ascites N (No) or Y (Yes)\\\n",
    "8) Hepatomegaly: presence of hepatomegaly N (No) or Y (Yes)\\\n",
    "9) Spiders: presence of spiders N (No) or Y (Yes)\\\n",
    "10) Edema: presence of edema N (no edema and no diuretic therapy for edema), S (edema present without diuretics, or edema resolved by diuretics), or Y (edema despite diuretic therapy)\\\n",
    "11) Bilirubin: serum bilirubin in [mg/dl]\\\n",
    "12) Cholesterol: serum cholesterol in [mg/dl]\\\n",
    "13) Albumin: albumin in [gm/dl]\\\n",
    "14) Copper: urine copper in [ug/day]\\\n",
    "15) Alk_Phos: alkaline phosphatase in [U/liter]\\\n",
    "16) SGOT: SGOT in [U/ml]\\\n",
    "17) Triglycerides: triglicerides in [mg/dl]\\\n",
    "18) Platelets: platelets per cubic [ml/1000]\\\n",
    "19) Prothrombin: prothrombin time in seconds [s]\\\n",
    "20) Stage: histologic stage of disease (1, 2, 3, or 4)"
   ]
  },
  {
   "cell_type": "markdown",
   "id": "e5da3c86",
   "metadata": {},
   "source": [
    "**MESSAGE TO VIEWERS:** \n",
    "I have slightly included a bit more information about the disease which we are working on. If you know about the disease priorly, then you can skip the following few cells and go through the exploratory part of theproject. Thank you..."
   ]
  },
  {
   "cell_type": "markdown",
   "id": "d2f72a11",
   "metadata": {},
   "source": [
    "## <font color='#4287f5'>Understanding the above included features medically...</font></center>"
   ]
  },
  {
   "cell_type": "markdown",
   "id": "e3ff309d",
   "metadata": {},
   "source": [
    "**1.Why Ascites occur in cirrhosis of liver?**\n",
    "\n",
    "**Pathogenesis**\n",
    "\n",
    "* Ascites represents a state of total body sodium and water excess.\n",
    "* Ascites in cirrhosis results from a combination of the following:\n",
    "    * Liver failure\n",
    "    * Portal hypertension.\n",
    "\n",
    "**Mechanisms Involved in Pathogenesis:** \n",
    "* Renal mechanism\n",
    "    * Liver failure leads to redistribution of blood flow, resulting in a decrease in renal blood flow. This in tum causes\n",
    "a reduction in the glomerular filtration rate and excessive reabsorption of salt and water by the renal tubules. This\n",
    "results in salt and water retention and hence, ascites.\n",
    "* Secondary hyperaldosteronism\n",
    "    * Decreased renal blood flow leads to increased release of renin, which stimulates the angiotensin system, that in\n",
    "tum leads to secondary hyperaldosteronism. The secondary hyperaldosteronism results in salt and water retention.\n",
    "Failure of liver to metabolise aldosterone intensifies secondary hyperaldosteronism.\n",
    "* Vasopressin\n",
    "    * Failure of liver to metabolise vasopressin reduces renal water clearance that results in fluid retention.\n",
    "* Increased capillary hydrostatic pressure\n",
    "    * Portal hypertension raises the hydrostatic pressure within the splanchnic capillary bed. This results in extravasation\n",
    "of fluid from plasma into the peritoneal cavity.\n",
    "* Reduced plasma oncotic pressure\n",
    "    * Hypoalbuminaemia results in a reduction of plasma oncotic pressure. This again results in an extravasation of fluid\n",
    "(ascites and oedema).\n"
   ]
  },
  {
   "cell_type": "markdown",
   "id": "0a10708e",
   "metadata": {},
   "source": [
    "**2. Hepatomegaly**\n",
    "   * In early stages of cirrhosis due to any cause, liver is enlarged, firm to hard, irregular and non-tender. More common\n",
    "in alcoholics.\n",
    "   * In late stages, liver shrinks in size and becomes non-palpable. This is due to progressive hepatocyte destruction and\n",
    "fibrosis.\n",
    "   * Other causes of enlarged liver with cirrhosis include primary biliary cirrhosis, primary sclerosing cholangitis, haemochromatosis and Wilson's disease"
   ]
  },
  {
   "cell_type": "markdown",
   "id": "fa55f1ab",
   "metadata": {},
   "source": [
    "**3.Spider naevi**\n",
    "   * Thought to be due to arteriolar changes induced by hyperoestrogenism.\n",
    "   * Seen in the territory drained by the superior vena cava (head and neck, upper limbs, front and back of upper chest).\n",
    "   * Vary in size from 1-2 mm to 1-2 cm in diameter.\n",
    "   * Seen as a central arteriole from which numerous small vessels radiate peripherally, resembling spider's legs.Compression of the central arteriole with a pinhead makes the whole spider disappear. Releasing compressionshows filling from centre to periphery.\n",
    "\n",
    "**Conditions associated with spiders** \n",
    "\n",
    "   * 2% of healthy individuals \n",
    "   * Third trimester of pregnancy\n",
    "   * Viral hepatitis\n",
    "   * Alcoholic hepatitis\n",
    "   * Rheumatoid arthritis\n",
    "   * Thyrotoxicosis"
   ]
  },
  {
   "cell_type": "markdown",
   "id": "5fc0f71c",
   "metadata": {},
   "source": [
    "**4.Jaundice**(Increased serum bilirubin level)\n",
    "* In the initial stages jaundice is fluctuating, but later the patient becomes chronically jaundiced.\n",
    "* Mechanisms of jaundice in cirrhosis are the following:\n",
    "    * Failure of bilirubin metabolism (predominant mechanism) \n",
    "    * Intrahepatic cholestasis \n",
    "    * Haemolysis"
   ]
  },
  {
   "cell_type": "markdown",
   "id": "5fa2caed",
   "metadata": {},
   "source": [
    "## <font color='#4287f5'>The changes in blood picture in case of cirrhosis as follows...</font></center>"
   ]
  },
  {
   "cell_type": "markdown",
   "id": "e2cac155",
   "metadata": {},
   "source": [
    "**Investigations** \n",
    "1. Complete blood picture\n",
    "    * Anaemia.\n",
    "    * Leucopenia and thrombocytopenia due to hypersplenism and bone marrow suppression by alcohol.\n",
    "    * Acanthocytosis-spur-like projections on RBC.\n",
    "    \n",
    "    \n",
    "2. Liver function tests\n",
    "    * Hyperbilirubinaemia of both conjugated and unconjugated types.\n",
    "    * Serum proteins show A:G ratio reversal.\n",
    "       * Serum albumin is decreased. \n",
    "       * Serum globulin is increased. \n",
    "       * **Hypoalbuminaemia** is due to impairment of hepatic protein synthesis. \n",
    "       * **Hyperglobulinaemia** is due to non-specific stimulation of reticuloendothelial system. \n",
    "    * Transaminases\n",
    "       * AST (SOOT) is raised. \n",
    "       * ALT (SGPT) is raised, but less than 300 units. \n",
    "       * AST:ALT ratio is more than 2 in alcoholic cirrhosis (in contrast to viral hepatitis, where the ratio is less than 2). \n",
    "    * Alkaline phosphatase may be mildly raised.\n",
    "\n",
    "\n",
    "3. Prothrombin time\n",
    "    * Prolonged due to reduced synthesis of clotting proteins, especially the vitamin K-dependent factors.\n",
    "\n",
    "\n",
    "4. Hepatitis B and C markers .\n",
    "\n",
    "\n",
    "5. Blood ammonia estimation in cirrhosis is a reliable investigation, particularly in a situation where hepatic encephalopathy is suspected. The reasons for raised blood ammonia are:\n",
    "    * Diminished hepatic clearance\n",
    "    * Shunting of portal venous blood around the liver to systemic circulation"
   ]
  },
  {
   "cell_type": "markdown",
   "id": "7d91bc6f",
   "metadata": {},
   "source": [
    "## <font color='#4287f5'>OBJECTIVE OF THE PROJECT...</font></center>"
   ]
  },
  {
   "cell_type": "markdown",
   "id": "1b7a4530",
   "metadata": {},
   "source": [
    "* The target variable in this dataset seems to be the last column .. i.e, **STAGE**\n",
    "    * According to the dataset info, it refers to the histologic stage of liver disease.\n",
    "    \n",
    "* **\"As a doctor,if you ask me,can you predict the histologic stage of cirrhosis by looking at the other features present in the dataset, my answer would be a big 'NO'. Because,its rather impractical to say how the liver section in the histologic slide looks by looking at the blood picture of the patient. Suppose, if that was possible, then why do we need pathologists?? The objective does not make sense.\"**\n",
    "\n",
    "* So, I decided to make a new target variable and train the model later on ...now, which is that target variable? How is that obtained? ......The answer will be relieved after a slight go through the notebook...So,just stay on.."
   ]
  },
  {
   "cell_type": "markdown",
   "id": "8479175a",
   "metadata": {},
   "source": [
    "## THANK YOU, lets explore the dataset in the next notebook...."
   ]
  },
  {
   "cell_type": "code",
   "execution_count": null,
   "id": "8686cda5",
   "metadata": {},
   "outputs": [],
   "source": []
  }
 ],
 "metadata": {
  "hide_input": false,
  "kernelspec": {
   "display_name": "Python 3 (ipykernel)",
   "language": "python",
   "name": "python3"
  },
  "language_info": {
   "codemirror_mode": {
    "name": "ipython",
    "version": 3
   },
   "file_extension": ".py",
   "mimetype": "text/x-python",
   "name": "python",
   "nbconvert_exporter": "python",
   "pygments_lexer": "ipython3",
   "version": "3.9.7"
  }
 },
 "nbformat": 4,
 "nbformat_minor": 5
}
